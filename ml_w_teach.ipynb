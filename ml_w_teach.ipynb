{
 "cells": [
  {
   "cell_type": "code",
   "execution_count": 1,
   "metadata": {},
   "outputs": [],
   "source": [
    "# импортируем необходимые библиотеки и функции для выполнения работы\n",
    "\n",
    "import pandas as pd\n",
    "import matplotlib.pyplot as plt\n",
    "import seaborn as sns\n",
    "from sklearn.model_selection import train_test_split\n",
    "from sklearn.preprocessing import StandardScaler\n",
    "import warnings\n",
    "warnings.filterwarnings('ignore')\n",
    "\n",
    "\n",
    "from sklearn.tree import DecisionTreeClassifier\n",
    "from sklearn.metrics import accuracy_score\n",
    "from sklearn.metrics import confusion_matrix\n",
    "from sklearn.metrics import recall_score \n",
    "from sklearn.metrics import precision_score\n",
    "from sklearn.metrics import f1_score\n",
    "from sklearn.linear_model import LogisticRegression\n",
    "from sklearn.utils import shuffle\n",
    "from sklearn.model_selection import GridSearchCV\n",
    "\n",
    "from sklearn.decomposition import PCA\n",
    "\n",
    "from sklearn.pipeline import make_pipeline\n",
    "from sklearn.ensemble import RandomForestClassifier\n",
    "from sklearn.metrics import roc_curve \n",
    "from sklearn.metrics import roc_auc_score\n",
    "\n",
    "\n"
   ]
  },
  {
   "cell_type": "code",
   "execution_count": 145,
   "metadata": {},
   "outputs": [],
   "source": [
    "# посмотрим на данные. Выгрузим первые 5 строк. \n",
    "data = pd.read_csv(\"/datasets/Churn.csv\")"
   ]
  },
  {
   "cell_type": "code",
   "execution_count": 146,
   "metadata": {},
   "outputs": [
    {
     "data": {
      "text/html": [
       "<div>\n",
       "<style scoped>\n",
       "    .dataframe tbody tr th:only-of-type {\n",
       "        vertical-align: middle;\n",
       "    }\n",
       "\n",
       "    .dataframe tbody tr th {\n",
       "        vertical-align: top;\n",
       "    }\n",
       "\n",
       "    .dataframe thead th {\n",
       "        text-align: right;\n",
       "    }\n",
       "</style>\n",
       "<table border=\"1\" class=\"dataframe\">\n",
       "  <thead>\n",
       "    <tr style=\"text-align: right;\">\n",
       "      <th></th>\n",
       "      <th>RowNumber</th>\n",
       "      <th>CustomerId</th>\n",
       "      <th>Surname</th>\n",
       "      <th>CreditScore</th>\n",
       "      <th>Geography</th>\n",
       "      <th>Gender</th>\n",
       "      <th>Age</th>\n",
       "      <th>Tenure</th>\n",
       "      <th>Balance</th>\n",
       "      <th>NumOfProducts</th>\n",
       "      <th>HasCrCard</th>\n",
       "      <th>IsActiveMember</th>\n",
       "      <th>EstimatedSalary</th>\n",
       "      <th>Exited</th>\n",
       "    </tr>\n",
       "  </thead>\n",
       "  <tbody>\n",
       "    <tr>\n",
       "      <th>0</th>\n",
       "      <td>1</td>\n",
       "      <td>15634602</td>\n",
       "      <td>Hargrave</td>\n",
       "      <td>619</td>\n",
       "      <td>France</td>\n",
       "      <td>Female</td>\n",
       "      <td>42</td>\n",
       "      <td>2.0</td>\n",
       "      <td>0.00</td>\n",
       "      <td>1</td>\n",
       "      <td>1</td>\n",
       "      <td>1</td>\n",
       "      <td>101348.88</td>\n",
       "      <td>1</td>\n",
       "    </tr>\n",
       "    <tr>\n",
       "      <th>1</th>\n",
       "      <td>2</td>\n",
       "      <td>15647311</td>\n",
       "      <td>Hill</td>\n",
       "      <td>608</td>\n",
       "      <td>Spain</td>\n",
       "      <td>Female</td>\n",
       "      <td>41</td>\n",
       "      <td>1.0</td>\n",
       "      <td>83807.86</td>\n",
       "      <td>1</td>\n",
       "      <td>0</td>\n",
       "      <td>1</td>\n",
       "      <td>112542.58</td>\n",
       "      <td>0</td>\n",
       "    </tr>\n",
       "    <tr>\n",
       "      <th>2</th>\n",
       "      <td>3</td>\n",
       "      <td>15619304</td>\n",
       "      <td>Onio</td>\n",
       "      <td>502</td>\n",
       "      <td>France</td>\n",
       "      <td>Female</td>\n",
       "      <td>42</td>\n",
       "      <td>8.0</td>\n",
       "      <td>159660.80</td>\n",
       "      <td>3</td>\n",
       "      <td>1</td>\n",
       "      <td>0</td>\n",
       "      <td>113931.57</td>\n",
       "      <td>1</td>\n",
       "    </tr>\n",
       "    <tr>\n",
       "      <th>3</th>\n",
       "      <td>4</td>\n",
       "      <td>15701354</td>\n",
       "      <td>Boni</td>\n",
       "      <td>699</td>\n",
       "      <td>France</td>\n",
       "      <td>Female</td>\n",
       "      <td>39</td>\n",
       "      <td>1.0</td>\n",
       "      <td>0.00</td>\n",
       "      <td>2</td>\n",
       "      <td>0</td>\n",
       "      <td>0</td>\n",
       "      <td>93826.63</td>\n",
       "      <td>0</td>\n",
       "    </tr>\n",
       "    <tr>\n",
       "      <th>4</th>\n",
       "      <td>5</td>\n",
       "      <td>15737888</td>\n",
       "      <td>Mitchell</td>\n",
       "      <td>850</td>\n",
       "      <td>Spain</td>\n",
       "      <td>Female</td>\n",
       "      <td>43</td>\n",
       "      <td>2.0</td>\n",
       "      <td>125510.82</td>\n",
       "      <td>1</td>\n",
       "      <td>1</td>\n",
       "      <td>1</td>\n",
       "      <td>79084.10</td>\n",
       "      <td>0</td>\n",
       "    </tr>\n",
       "  </tbody>\n",
       "</table>\n",
       "</div>"
      ],
      "text/plain": [
       "   RowNumber  CustomerId   Surname  CreditScore Geography  Gender  Age  \\\n",
       "0          1    15634602  Hargrave          619    France  Female   42   \n",
       "1          2    15647311      Hill          608     Spain  Female   41   \n",
       "2          3    15619304      Onio          502    France  Female   42   \n",
       "3          4    15701354      Boni          699    France  Female   39   \n",
       "4          5    15737888  Mitchell          850     Spain  Female   43   \n",
       "\n",
       "   Tenure    Balance  NumOfProducts  HasCrCard  IsActiveMember  \\\n",
       "0     2.0       0.00              1          1               1   \n",
       "1     1.0   83807.86              1          0               1   \n",
       "2     8.0  159660.80              3          1               0   \n",
       "3     1.0       0.00              2          0               0   \n",
       "4     2.0  125510.82              1          1               1   \n",
       "\n",
       "   EstimatedSalary  Exited  \n",
       "0        101348.88       1  \n",
       "1        112542.58       0  \n",
       "2        113931.57       1  \n",
       "3         93826.63       0  \n",
       "4         79084.10       0  "
      ]
     },
     "execution_count": 146,
     "metadata": {},
     "output_type": "execute_result"
    }
   ],
   "source": [
    "data.head(5)"
   ]
  },
  {
   "cell_type": "code",
   "execution_count": 147,
   "metadata": {},
   "outputs": [
    {
     "name": "stdout",
     "output_type": "stream",
     "text": [
      "<class 'pandas.core.frame.DataFrame'>\n",
      "RangeIndex: 10000 entries, 0 to 9999\n",
      "Data columns (total 14 columns):\n",
      " #   Column           Non-Null Count  Dtype  \n",
      "---  ------           --------------  -----  \n",
      " 0   RowNumber        10000 non-null  int64  \n",
      " 1   CustomerId       10000 non-null  int64  \n",
      " 2   Surname          10000 non-null  object \n",
      " 3   CreditScore      10000 non-null  int64  \n",
      " 4   Geography        10000 non-null  object \n",
      " 5   Gender           10000 non-null  object \n",
      " 6   Age              10000 non-null  int64  \n",
      " 7   Tenure           9091 non-null   float64\n",
      " 8   Balance          10000 non-null  float64\n",
      " 9   NumOfProducts    10000 non-null  int64  \n",
      " 10  HasCrCard        10000 non-null  int64  \n",
      " 11  IsActiveMember   10000 non-null  int64  \n",
      " 12  EstimatedSalary  10000 non-null  float64\n",
      " 13  Exited           10000 non-null  int64  \n",
      "dtypes: float64(3), int64(8), object(3)\n",
      "memory usage: 1.1+ MB\n"
     ]
    }
   ],
   "source": [
    "# посмотрим на структуру данных.\n",
    "data.info()"
   ]
  },
  {
   "cell_type": "code",
   "execution_count": 148,
   "metadata": {},
   "outputs": [
    {
     "data": {
      "text/plain": [
       "1.0     952\n",
       "2.0     950\n",
       "8.0     933\n",
       "3.0     928\n",
       "5.0     927\n",
       "7.0     925\n",
       "4.0     885\n",
       "9.0     882\n",
       "6.0     881\n",
       "10.0    446\n",
       "0.0     382\n",
       "Name: Tenure, dtype: int64"
      ]
     },
     "execution_count": 148,
     "metadata": {},
     "output_type": "execute_result"
    }
   ],
   "source": [
    "data['Tenure'].value_counts().sort_values(ascending=False)"
   ]
  },
  {
   "cell_type": "markdown",
   "metadata": {},
   "source": [
    "Большинство клиентов являются клиентами 1 год, но до 7 лет количество клиентов находится в близком диапозоне значений с количество клиентов банка 1 год. "
   ]
  },
  {
   "cell_type": "code",
   "execution_count": 149,
   "metadata": {},
   "outputs": [
    {
     "data": {
      "text/plain": [
       "909"
      ]
     },
     "execution_count": 149,
     "metadata": {},
     "output_type": "execute_result"
    }
   ],
   "source": [
    "# посмотрим на пропущенные значения\n",
    "data['Tenure'].isna().sum()"
   ]
  },
  {
   "cell_type": "markdown",
   "metadata": {},
   "source": [
    "Мы получили достаточно большое значение клиентов с пропущенными значениями в колонке Tenure. "
   ]
  },
  {
   "cell_type": "code",
   "execution_count": 150,
   "metadata": {},
   "outputs": [
    {
     "data": {
      "text/html": [
       "<div>\n",
       "<style scoped>\n",
       "    .dataframe tbody tr th:only-of-type {\n",
       "        vertical-align: middle;\n",
       "    }\n",
       "\n",
       "    .dataframe tbody tr th {\n",
       "        vertical-align: top;\n",
       "    }\n",
       "\n",
       "    .dataframe thead th {\n",
       "        text-align: right;\n",
       "    }\n",
       "</style>\n",
       "<table border=\"1\" class=\"dataframe\">\n",
       "  <thead>\n",
       "    <tr style=\"text-align: right;\">\n",
       "      <th></th>\n",
       "      <th>RowNumber</th>\n",
       "      <th>CustomerId</th>\n",
       "      <th>Surname</th>\n",
       "      <th>CreditScore</th>\n",
       "      <th>Geography</th>\n",
       "      <th>Gender</th>\n",
       "      <th>Age</th>\n",
       "      <th>Tenure</th>\n",
       "      <th>Balance</th>\n",
       "      <th>NumOfProducts</th>\n",
       "      <th>HasCrCard</th>\n",
       "      <th>IsActiveMember</th>\n",
       "      <th>EstimatedSalary</th>\n",
       "      <th>Exited</th>\n",
       "    </tr>\n",
       "  </thead>\n",
       "  <tbody>\n",
       "    <tr>\n",
       "      <th>30</th>\n",
       "      <td>31</td>\n",
       "      <td>15589475</td>\n",
       "      <td>Azikiwe</td>\n",
       "      <td>591</td>\n",
       "      <td>Spain</td>\n",
       "      <td>Female</td>\n",
       "      <td>39</td>\n",
       "      <td>NaN</td>\n",
       "      <td>0.00</td>\n",
       "      <td>3</td>\n",
       "      <td>1</td>\n",
       "      <td>0</td>\n",
       "      <td>140469.38</td>\n",
       "      <td>1</td>\n",
       "    </tr>\n",
       "    <tr>\n",
       "      <th>48</th>\n",
       "      <td>49</td>\n",
       "      <td>15766205</td>\n",
       "      <td>Yin</td>\n",
       "      <td>550</td>\n",
       "      <td>Germany</td>\n",
       "      <td>Male</td>\n",
       "      <td>38</td>\n",
       "      <td>NaN</td>\n",
       "      <td>103391.38</td>\n",
       "      <td>1</td>\n",
       "      <td>0</td>\n",
       "      <td>1</td>\n",
       "      <td>90878.13</td>\n",
       "      <td>0</td>\n",
       "    </tr>\n",
       "    <tr>\n",
       "      <th>51</th>\n",
       "      <td>52</td>\n",
       "      <td>15768193</td>\n",
       "      <td>Trevisani</td>\n",
       "      <td>585</td>\n",
       "      <td>Germany</td>\n",
       "      <td>Male</td>\n",
       "      <td>36</td>\n",
       "      <td>NaN</td>\n",
       "      <td>146050.97</td>\n",
       "      <td>2</td>\n",
       "      <td>0</td>\n",
       "      <td>0</td>\n",
       "      <td>86424.57</td>\n",
       "      <td>0</td>\n",
       "    </tr>\n",
       "    <tr>\n",
       "      <th>53</th>\n",
       "      <td>54</td>\n",
       "      <td>15702298</td>\n",
       "      <td>Parkhill</td>\n",
       "      <td>655</td>\n",
       "      <td>Germany</td>\n",
       "      <td>Male</td>\n",
       "      <td>41</td>\n",
       "      <td>NaN</td>\n",
       "      <td>125561.97</td>\n",
       "      <td>1</td>\n",
       "      <td>0</td>\n",
       "      <td>0</td>\n",
       "      <td>164040.94</td>\n",
       "      <td>1</td>\n",
       "    </tr>\n",
       "    <tr>\n",
       "      <th>60</th>\n",
       "      <td>61</td>\n",
       "      <td>15651280</td>\n",
       "      <td>Hunter</td>\n",
       "      <td>742</td>\n",
       "      <td>Germany</td>\n",
       "      <td>Male</td>\n",
       "      <td>35</td>\n",
       "      <td>NaN</td>\n",
       "      <td>136857.00</td>\n",
       "      <td>1</td>\n",
       "      <td>0</td>\n",
       "      <td>0</td>\n",
       "      <td>84509.57</td>\n",
       "      <td>0</td>\n",
       "    </tr>\n",
       "    <tr>\n",
       "      <th>...</th>\n",
       "      <td>...</td>\n",
       "      <td>...</td>\n",
       "      <td>...</td>\n",
       "      <td>...</td>\n",
       "      <td>...</td>\n",
       "      <td>...</td>\n",
       "      <td>...</td>\n",
       "      <td>...</td>\n",
       "      <td>...</td>\n",
       "      <td>...</td>\n",
       "      <td>...</td>\n",
       "      <td>...</td>\n",
       "      <td>...</td>\n",
       "      <td>...</td>\n",
       "    </tr>\n",
       "    <tr>\n",
       "      <th>9944</th>\n",
       "      <td>9945</td>\n",
       "      <td>15703923</td>\n",
       "      <td>Cameron</td>\n",
       "      <td>744</td>\n",
       "      <td>Germany</td>\n",
       "      <td>Male</td>\n",
       "      <td>41</td>\n",
       "      <td>NaN</td>\n",
       "      <td>190409.34</td>\n",
       "      <td>2</td>\n",
       "      <td>1</td>\n",
       "      <td>1</td>\n",
       "      <td>138361.48</td>\n",
       "      <td>0</td>\n",
       "    </tr>\n",
       "    <tr>\n",
       "      <th>9956</th>\n",
       "      <td>9957</td>\n",
       "      <td>15707861</td>\n",
       "      <td>Nucci</td>\n",
       "      <td>520</td>\n",
       "      <td>France</td>\n",
       "      <td>Female</td>\n",
       "      <td>46</td>\n",
       "      <td>NaN</td>\n",
       "      <td>85216.61</td>\n",
       "      <td>1</td>\n",
       "      <td>1</td>\n",
       "      <td>0</td>\n",
       "      <td>117369.52</td>\n",
       "      <td>1</td>\n",
       "    </tr>\n",
       "    <tr>\n",
       "      <th>9964</th>\n",
       "      <td>9965</td>\n",
       "      <td>15642785</td>\n",
       "      <td>Douglas</td>\n",
       "      <td>479</td>\n",
       "      <td>France</td>\n",
       "      <td>Male</td>\n",
       "      <td>34</td>\n",
       "      <td>NaN</td>\n",
       "      <td>117593.48</td>\n",
       "      <td>2</td>\n",
       "      <td>0</td>\n",
       "      <td>0</td>\n",
       "      <td>113308.29</td>\n",
       "      <td>0</td>\n",
       "    </tr>\n",
       "    <tr>\n",
       "      <th>9985</th>\n",
       "      <td>9986</td>\n",
       "      <td>15586914</td>\n",
       "      <td>Nepean</td>\n",
       "      <td>659</td>\n",
       "      <td>France</td>\n",
       "      <td>Male</td>\n",
       "      <td>36</td>\n",
       "      <td>NaN</td>\n",
       "      <td>123841.49</td>\n",
       "      <td>2</td>\n",
       "      <td>1</td>\n",
       "      <td>0</td>\n",
       "      <td>96833.00</td>\n",
       "      <td>0</td>\n",
       "    </tr>\n",
       "    <tr>\n",
       "      <th>9999</th>\n",
       "      <td>10000</td>\n",
       "      <td>15628319</td>\n",
       "      <td>Walker</td>\n",
       "      <td>792</td>\n",
       "      <td>France</td>\n",
       "      <td>Female</td>\n",
       "      <td>28</td>\n",
       "      <td>NaN</td>\n",
       "      <td>130142.79</td>\n",
       "      <td>1</td>\n",
       "      <td>1</td>\n",
       "      <td>0</td>\n",
       "      <td>38190.78</td>\n",
       "      <td>0</td>\n",
       "    </tr>\n",
       "  </tbody>\n",
       "</table>\n",
       "<p>909 rows × 14 columns</p>\n",
       "</div>"
      ],
      "text/plain": [
       "      RowNumber  CustomerId    Surname  CreditScore Geography  Gender  Age  \\\n",
       "30           31    15589475    Azikiwe          591     Spain  Female   39   \n",
       "48           49    15766205        Yin          550   Germany    Male   38   \n",
       "51           52    15768193  Trevisani          585   Germany    Male   36   \n",
       "53           54    15702298   Parkhill          655   Germany    Male   41   \n",
       "60           61    15651280     Hunter          742   Germany    Male   35   \n",
       "...         ...         ...        ...          ...       ...     ...  ...   \n",
       "9944       9945    15703923    Cameron          744   Germany    Male   41   \n",
       "9956       9957    15707861      Nucci          520    France  Female   46   \n",
       "9964       9965    15642785    Douglas          479    France    Male   34   \n",
       "9985       9986    15586914     Nepean          659    France    Male   36   \n",
       "9999      10000    15628319     Walker          792    France  Female   28   \n",
       "\n",
       "      Tenure    Balance  NumOfProducts  HasCrCard  IsActiveMember  \\\n",
       "30       NaN       0.00              3          1               0   \n",
       "48       NaN  103391.38              1          0               1   \n",
       "51       NaN  146050.97              2          0               0   \n",
       "53       NaN  125561.97              1          0               0   \n",
       "60       NaN  136857.00              1          0               0   \n",
       "...      ...        ...            ...        ...             ...   \n",
       "9944     NaN  190409.34              2          1               1   \n",
       "9956     NaN   85216.61              1          1               0   \n",
       "9964     NaN  117593.48              2          0               0   \n",
       "9985     NaN  123841.49              2          1               0   \n",
       "9999     NaN  130142.79              1          1               0   \n",
       "\n",
       "      EstimatedSalary  Exited  \n",
       "30          140469.38       1  \n",
       "48           90878.13       0  \n",
       "51           86424.57       0  \n",
       "53          164040.94       1  \n",
       "60           84509.57       0  \n",
       "...               ...     ...  \n",
       "9944        138361.48       0  \n",
       "9956        117369.52       1  \n",
       "9964        113308.29       0  \n",
       "9985         96833.00       0  \n",
       "9999         38190.78       0  \n",
       "\n",
       "[909 rows x 14 columns]"
      ]
     },
     "execution_count": 150,
     "metadata": {},
     "output_type": "execute_result"
    }
   ],
   "source": [
    "# посмотрим на клиентов с отсутствующими значениям в Tenure\n",
    "data_Tenure_nan = data[data.isnull().any(axis=1)]\n",
    "data_Tenure_nan"
   ]
  },
  {
   "cell_type": "code",
   "execution_count": 151,
   "metadata": {},
   "outputs": [
    {
     "data": {
      "text/plain": [
       "count    909.000000\n",
       "mean       0.710671\n",
       "std        0.453701\n",
       "min        0.000000\n",
       "25%        0.000000\n",
       "50%        1.000000\n",
       "75%        1.000000\n",
       "max        1.000000\n",
       "Name: HasCrCard, dtype: float64"
      ]
     },
     "execution_count": 151,
     "metadata": {},
     "output_type": "execute_result"
    }
   ],
   "source": [
    "# наличие кредитной карты\n",
    "data_Tenure_nan['HasCrCard'].describe()"
   ]
  },
  {
   "cell_type": "code",
   "execution_count": 152,
   "metadata": {},
   "outputs": [
    {
     "data": {
      "text/plain": [
       "count    909.000000\n",
       "mean     648.451045\n",
       "std       99.079381\n",
       "min      359.000000\n",
       "25%      580.000000\n",
       "50%      647.000000\n",
       "75%      718.000000\n",
       "max      850.000000\n",
       "Name: CreditScore, dtype: float64"
      ]
     },
     "execution_count": 152,
     "metadata": {},
     "output_type": "execute_result"
    }
   ],
   "source": [
    "# кредитный рейтинг\n",
    "data_Tenure_nan['CreditScore'].describe()"
   ]
  },
  {
   "cell_type": "code",
   "execution_count": 153,
   "metadata": {},
   "outputs": [
    {
     "data": {
      "text/html": [
       "<div>\n",
       "<style scoped>\n",
       "    .dataframe tbody tr th:only-of-type {\n",
       "        vertical-align: middle;\n",
       "    }\n",
       "\n",
       "    .dataframe tbody tr th {\n",
       "        vertical-align: top;\n",
       "    }\n",
       "\n",
       "    .dataframe thead th {\n",
       "        text-align: right;\n",
       "    }\n",
       "</style>\n",
       "<table border=\"1\" class=\"dataframe\">\n",
       "  <thead>\n",
       "    <tr style=\"text-align: right;\">\n",
       "      <th></th>\n",
       "      <th>Age</th>\n",
       "    </tr>\n",
       "    <tr>\n",
       "      <th>Geography</th>\n",
       "      <th></th>\n",
       "    </tr>\n",
       "  </thead>\n",
       "  <tbody>\n",
       "    <tr>\n",
       "      <th>France</th>\n",
       "      <td>464</td>\n",
       "    </tr>\n",
       "    <tr>\n",
       "      <th>Germany</th>\n",
       "      <td>216</td>\n",
       "    </tr>\n",
       "    <tr>\n",
       "      <th>Spain</th>\n",
       "      <td>229</td>\n",
       "    </tr>\n",
       "  </tbody>\n",
       "</table>\n",
       "</div>"
      ],
      "text/plain": [
       "           Age\n",
       "Geography     \n",
       "France     464\n",
       "Germany    216\n",
       "Spain      229"
      ]
     },
     "execution_count": 153,
     "metadata": {},
     "output_type": "execute_result"
    }
   ],
   "source": [
    "# страна проживания\n",
    "data_Tenure_nan.groupby('Geography').agg({'Age':'count'})"
   ]
  },
  {
   "cell_type": "code",
   "execution_count": null,
   "metadata": {},
   "outputs": [],
   "source": []
  },
  {
   "cell_type": "code",
   "execution_count": 154,
   "metadata": {},
   "outputs": [
    {
     "data": {
      "text/html": [
       "<div>\n",
       "<style scoped>\n",
       "    .dataframe tbody tr th:only-of-type {\n",
       "        vertical-align: middle;\n",
       "    }\n",
       "\n",
       "    .dataframe tbody tr th {\n",
       "        vertical-align: top;\n",
       "    }\n",
       "\n",
       "    .dataframe thead th {\n",
       "        text-align: right;\n",
       "    }\n",
       "</style>\n",
       "<table border=\"1\" class=\"dataframe\">\n",
       "  <thead>\n",
       "    <tr style=\"text-align: right;\">\n",
       "      <th></th>\n",
       "      <th>Age</th>\n",
       "    </tr>\n",
       "    <tr>\n",
       "      <th>Exited</th>\n",
       "      <th></th>\n",
       "    </tr>\n",
       "  </thead>\n",
       "  <tbody>\n",
       "    <tr>\n",
       "      <th>0</th>\n",
       "      <td>726</td>\n",
       "    </tr>\n",
       "    <tr>\n",
       "      <th>1</th>\n",
       "      <td>183</td>\n",
       "    </tr>\n",
       "  </tbody>\n",
       "</table>\n",
       "</div>"
      ],
      "text/plain": [
       "        Age\n",
       "Exited     \n",
       "0       726\n",
       "1       183"
      ]
     },
     "execution_count": 154,
     "metadata": {},
     "output_type": "execute_result"
    }
   ],
   "source": [
    "# факт ухода\n",
    "data_Tenure_nan.groupby('Exited').agg({'Age':'count'})"
   ]
  },
  {
   "cell_type": "code",
   "execution_count": 155,
   "metadata": {},
   "outputs": [
    {
     "data": {
      "text/plain": [
       "36    55\n",
       "38    53\n",
       "40    49\n",
       "31    45\n",
       "32    44\n",
       "37    43\n",
       "35    43\n",
       "33    39\n",
       "39    36\n",
       "34    35\n",
       "29    35\n",
       "43    32\n",
       "30    31\n",
       "41    28\n",
       "28    26\n",
       "44    24\n",
       "42    24\n",
       "45    22\n",
       "26    18\n",
       "49    14\n",
       "Name: Age, dtype: int64"
      ]
     },
     "execution_count": 155,
     "metadata": {},
     "output_type": "execute_result"
    }
   ],
   "source": [
    "# посмотрим возрастную категорию среди отсутствующих значений\n",
    "data_Tenure_nan.Age.value_counts().head(20)"
   ]
  },
  {
   "cell_type": "code",
   "execution_count": 156,
   "metadata": {},
   "outputs": [
    {
     "data": {
      "text/plain": [
       "1.0     952\n",
       "2.0     950\n",
       "8.0     933\n",
       "3.0     928\n",
       "5.0     927\n",
       "7.0     925\n",
       "4.0     885\n",
       "9.0     882\n",
       "6.0     881\n",
       "10.0    446\n",
       "0.0     382\n",
       "Name: Tenure, dtype: int64"
      ]
     },
     "execution_count": 156,
     "metadata": {},
     "output_type": "execute_result"
    }
   ],
   "source": [
    "data.Tenure.value_counts()"
   ]
  },
  {
   "cell_type": "code",
   "execution_count": 157,
   "metadata": {},
   "outputs": [],
   "source": [
    "# сделаем замену\n",
    "data['Tenure'] = data['Tenure'].fillna(100)"
   ]
  },
  {
   "cell_type": "code",
   "execution_count": 158,
   "metadata": {},
   "outputs": [
    {
     "name": "stdout",
     "output_type": "stream",
     "text": [
      "<class 'pandas.core.frame.DataFrame'>\n",
      "RangeIndex: 10000 entries, 0 to 9999\n",
      "Data columns (total 14 columns):\n",
      " #   Column           Non-Null Count  Dtype  \n",
      "---  ------           --------------  -----  \n",
      " 0   RowNumber        10000 non-null  int64  \n",
      " 1   CustomerId       10000 non-null  int64  \n",
      " 2   Surname          10000 non-null  object \n",
      " 3   CreditScore      10000 non-null  int64  \n",
      " 4   Geography        10000 non-null  object \n",
      " 5   Gender           10000 non-null  object \n",
      " 6   Age              10000 non-null  int64  \n",
      " 7   Tenure           10000 non-null  float64\n",
      " 8   Balance          10000 non-null  float64\n",
      " 9   NumOfProducts    10000 non-null  int64  \n",
      " 10  HasCrCard        10000 non-null  int64  \n",
      " 11  IsActiveMember   10000 non-null  int64  \n",
      " 12  EstimatedSalary  10000 non-null  float64\n",
      " 13  Exited           10000 non-null  int64  \n",
      "dtypes: float64(3), int64(8), object(3)\n",
      "memory usage: 1.1+ MB\n"
     ]
    }
   ],
   "source": [
    "# ещё раз посмотрим на структуру\n",
    "data.info()"
   ]
  },
  {
   "cell_type": "markdown",
   "metadata": {},
   "source": [
    "Отлично, теперь у нас нет пропущенных значений в данных"
   ]
  },
  {
   "cell_type": "code",
   "execution_count": 159,
   "metadata": {},
   "outputs": [
    {
     "data": {
      "text/html": [
       "<div>\n",
       "<style scoped>\n",
       "    .dataframe tbody tr th:only-of-type {\n",
       "        vertical-align: middle;\n",
       "    }\n",
       "\n",
       "    .dataframe tbody tr th {\n",
       "        vertical-align: top;\n",
       "    }\n",
       "\n",
       "    .dataframe thead th {\n",
       "        text-align: right;\n",
       "    }\n",
       "</style>\n",
       "<table border=\"1\" class=\"dataframe\">\n",
       "  <thead>\n",
       "    <tr style=\"text-align: right;\">\n",
       "      <th></th>\n",
       "      <th>Age</th>\n",
       "    </tr>\n",
       "    <tr>\n",
       "      <th>Geography</th>\n",
       "      <th></th>\n",
       "    </tr>\n",
       "  </thead>\n",
       "  <tbody>\n",
       "    <tr>\n",
       "      <th>France</th>\n",
       "      <td>5014</td>\n",
       "    </tr>\n",
       "    <tr>\n",
       "      <th>Germany</th>\n",
       "      <td>2509</td>\n",
       "    </tr>\n",
       "    <tr>\n",
       "      <th>Spain</th>\n",
       "      <td>2477</td>\n",
       "    </tr>\n",
       "  </tbody>\n",
       "</table>\n",
       "</div>"
      ],
      "text/plain": [
       "            Age\n",
       "Geography      \n",
       "France     5014\n",
       "Germany    2509\n",
       "Spain      2477"
      ]
     },
     "execution_count": 159,
     "metadata": {},
     "output_type": "execute_result"
    }
   ],
   "source": [
    "# посмотрим на географию проживания на всем наборе данных\n",
    "\n",
    "\n",
    "data.groupby('Geography').agg({'Age':'count'})"
   ]
  },
  {
   "cell_type": "markdown",
   "metadata": {},
   "source": [
    "Как и в нашей выборке в общем наборе данных Франция занимает первое место. "
   ]
  },
  {
   "cell_type": "code",
   "execution_count": 160,
   "metadata": {},
   "outputs": [
    {
     "data": {
      "text/html": [
       "<div>\n",
       "<style scoped>\n",
       "    .dataframe tbody tr th:only-of-type {\n",
       "        vertical-align: middle;\n",
       "    }\n",
       "\n",
       "    .dataframe tbody tr th {\n",
       "        vertical-align: top;\n",
       "    }\n",
       "\n",
       "    .dataframe thead th {\n",
       "        text-align: right;\n",
       "    }\n",
       "</style>\n",
       "<table border=\"1\" class=\"dataframe\">\n",
       "  <thead>\n",
       "    <tr style=\"text-align: right;\">\n",
       "      <th></th>\n",
       "      <th>Age</th>\n",
       "    </tr>\n",
       "    <tr>\n",
       "      <th>Gender</th>\n",
       "      <th></th>\n",
       "    </tr>\n",
       "  </thead>\n",
       "  <tbody>\n",
       "    <tr>\n",
       "      <th>Female</th>\n",
       "      <td>4543</td>\n",
       "    </tr>\n",
       "    <tr>\n",
       "      <th>Male</th>\n",
       "      <td>5457</td>\n",
       "    </tr>\n",
       "  </tbody>\n",
       "</table>\n",
       "</div>"
      ],
      "text/plain": [
       "         Age\n",
       "Gender      \n",
       "Female  4543\n",
       "Male    5457"
      ]
     },
     "execution_count": 160,
     "metadata": {},
     "output_type": "execute_result"
    }
   ],
   "source": [
    "# посмотрим на распределение клиентов по полу\n",
    "data.groupby('Gender').aggregate({'Age':'count'})"
   ]
  },
  {
   "cell_type": "markdown",
   "metadata": {},
   "source": [
    "Среди клиентов банка больше мужчин"
   ]
  },
  {
   "cell_type": "code",
   "execution_count": 161,
   "metadata": {},
   "outputs": [
    {
     "data": {
      "text/html": [
       "<div>\n",
       "<style scoped>\n",
       "    .dataframe tbody tr th:only-of-type {\n",
       "        vertical-align: middle;\n",
       "    }\n",
       "\n",
       "    .dataframe tbody tr th {\n",
       "        vertical-align: top;\n",
       "    }\n",
       "\n",
       "    .dataframe thead tr th {\n",
       "        text-align: left;\n",
       "    }\n",
       "\n",
       "    .dataframe thead tr:last-of-type th {\n",
       "        text-align: right;\n",
       "    }\n",
       "</style>\n",
       "<table border=\"1\" class=\"dataframe\">\n",
       "  <thead>\n",
       "    <tr>\n",
       "      <th></th>\n",
       "      <th colspan=\"2\" halign=\"left\">mean</th>\n",
       "      <th colspan=\"2\" halign=\"left\">median</th>\n",
       "    </tr>\n",
       "    <tr>\n",
       "      <th></th>\n",
       "      <th>Balance</th>\n",
       "      <th>EstimatedSalary</th>\n",
       "      <th>Balance</th>\n",
       "      <th>EstimatedSalary</th>\n",
       "    </tr>\n",
       "    <tr>\n",
       "      <th>Gender</th>\n",
       "      <th></th>\n",
       "      <th></th>\n",
       "      <th></th>\n",
       "      <th></th>\n",
       "    </tr>\n",
       "  </thead>\n",
       "  <tbody>\n",
       "    <tr>\n",
       "      <th>Female</th>\n",
       "      <td>75659.369139</td>\n",
       "      <td>100601.541382</td>\n",
       "      <td>96147.55</td>\n",
       "      <td>101905.34</td>\n",
       "    </tr>\n",
       "    <tr>\n",
       "      <th>Male</th>\n",
       "      <td>77173.974506</td>\n",
       "      <td>99664.576931</td>\n",
       "      <td>98064.97</td>\n",
       "      <td>98060.51</td>\n",
       "    </tr>\n",
       "  </tbody>\n",
       "</table>\n",
       "</div>"
      ],
      "text/plain": [
       "                mean                    median                \n",
       "             Balance EstimatedSalary   Balance EstimatedSalary\n",
       "Gender                                                        \n",
       "Female  75659.369139   100601.541382  96147.55       101905.34\n",
       "Male    77173.974506    99664.576931  98064.97        98060.51"
      ]
     },
     "execution_count": 161,
     "metadata": {},
     "output_type": "execute_result"
    }
   ],
   "source": [
    "data.pivot_table(values = ['Balance', 'EstimatedSalary'], index = 'Gender', aggfunc = ['mean', 'median'])"
   ]
  },
  {
   "cell_type": "markdown",
   "metadata": {},
   "source": [
    "Можно увидеть, что среди женщин и мужчин примерно одинаковые показатели по балансу на счете и предполагаемой заработной плане"
   ]
  },
  {
   "cell_type": "code",
   "execution_count": 162,
   "metadata": {},
   "outputs": [
    {
     "data": {
      "text/plain": [
       "37    478\n",
       "38    477\n",
       "35    474\n",
       "36    456\n",
       "34    447\n",
       "33    442\n",
       "40    432\n",
       "39    423\n",
       "32    418\n",
       "31    404\n",
       "Name: Age, dtype: int64"
      ]
     },
     "execution_count": 162,
     "metadata": {},
     "output_type": "execute_result"
    }
   ],
   "source": [
    "data['Age'].value_counts().sort_values(ascending = False).head(10)"
   ]
  },
  {
   "cell_type": "code",
   "execution_count": 163,
   "metadata": {},
   "outputs": [
    {
     "data": {
      "text/plain": [
       "4451"
      ]
     },
     "execution_count": 163,
     "metadata": {},
     "output_type": "execute_result"
    }
   ],
   "source": [
    "data['Age'].value_counts().sort_values(ascending = False).head(10).sum()"
   ]
  },
  {
   "cell_type": "markdown",
   "metadata": {},
   "source": [
    "Мы получили интересное наблюдение. В банке среди клиентов преобладают клиенты в возрасте от 31 года до 40 лет. При этом количество данных клиентов составляет 4451, что составляет более 44% (4451/10000)"
   ]
  },
  {
   "cell_type": "code",
   "execution_count": 164,
   "metadata": {},
   "outputs": [
    {
     "data": {
      "text/html": [
       "<div>\n",
       "<style scoped>\n",
       "    .dataframe tbody tr th:only-of-type {\n",
       "        vertical-align: middle;\n",
       "    }\n",
       "\n",
       "    .dataframe tbody tr th {\n",
       "        vertical-align: top;\n",
       "    }\n",
       "\n",
       "    .dataframe thead th {\n",
       "        text-align: right;\n",
       "    }\n",
       "</style>\n",
       "<table border=\"1\" class=\"dataframe\">\n",
       "  <thead>\n",
       "    <tr style=\"text-align: right;\">\n",
       "      <th></th>\n",
       "      <th>Age</th>\n",
       "    </tr>\n",
       "    <tr>\n",
       "      <th>Exited</th>\n",
       "      <th></th>\n",
       "    </tr>\n",
       "  </thead>\n",
       "  <tbody>\n",
       "    <tr>\n",
       "      <th>0</th>\n",
       "      <td>3913</td>\n",
       "    </tr>\n",
       "    <tr>\n",
       "      <th>1</th>\n",
       "      <td>538</td>\n",
       "    </tr>\n",
       "  </tbody>\n",
       "</table>\n",
       "</div>"
      ],
      "text/plain": [
       "         Age\n",
       "Exited      \n",
       "0       3913\n",
       "1        538"
      ]
     },
     "execution_count": 164,
     "metadata": {},
     "output_type": "execute_result"
    }
   ],
   "source": [
    "data.query(\"Age >= 31 and Age <41\").groupby(\"Exited\").agg({\"Age\":\"count\"})"
   ]
  },
  {
   "cell_type": "markdown",
   "metadata": {},
   "source": [
    "Можно сделать вывод, что в данной группе преобладают клиенты с отсутствием факта ухода. "
   ]
  },
  {
   "cell_type": "code",
   "execution_count": 165,
   "metadata": {},
   "outputs": [
    {
     "data": {
      "text/html": [
       "<div>\n",
       "<style scoped>\n",
       "    .dataframe tbody tr th:only-of-type {\n",
       "        vertical-align: middle;\n",
       "    }\n",
       "\n",
       "    .dataframe tbody tr th {\n",
       "        vertical-align: top;\n",
       "    }\n",
       "\n",
       "    .dataframe thead th {\n",
       "        text-align: right;\n",
       "    }\n",
       "</style>\n",
       "<table border=\"1\" class=\"dataframe\">\n",
       "  <thead>\n",
       "    <tr style=\"text-align: right;\">\n",
       "      <th></th>\n",
       "      <th>Age</th>\n",
       "    </tr>\n",
       "    <tr>\n",
       "      <th>Exited</th>\n",
       "      <th></th>\n",
       "    </tr>\n",
       "  </thead>\n",
       "  <tbody>\n",
       "    <tr>\n",
       "      <th>0</th>\n",
       "      <td>7963</td>\n",
       "    </tr>\n",
       "    <tr>\n",
       "      <th>1</th>\n",
       "      <td>2037</td>\n",
       "    </tr>\n",
       "  </tbody>\n",
       "</table>\n",
       "</div>"
      ],
      "text/plain": [
       "         Age\n",
       "Exited      \n",
       "0       7963\n",
       "1       2037"
      ]
     },
     "execution_count": 165,
     "metadata": {},
     "output_type": "execute_result"
    }
   ],
   "source": [
    "# посмотрим на аналогичный показатель по всему набору данных\n",
    "\n",
    "data.groupby(\"Exited\").agg({\"Age\":\"count\"})"
   ]
  },
  {
   "cell_type": "markdown",
   "metadata": {},
   "source": [
    "Количество клиентов по всему набору данных, которые уходят достаточно много. Это около 26%. Банку явно нужно искать причину такого действия. "
   ]
  },
  {
   "cell_type": "code",
   "execution_count": 166,
   "metadata": {},
   "outputs": [
    {
     "data": {
      "text/html": [
       "<div>\n",
       "<style scoped>\n",
       "    .dataframe tbody tr th:only-of-type {\n",
       "        vertical-align: middle;\n",
       "    }\n",
       "\n",
       "    .dataframe tbody tr th {\n",
       "        vertical-align: top;\n",
       "    }\n",
       "\n",
       "    .dataframe thead th {\n",
       "        text-align: right;\n",
       "    }\n",
       "</style>\n",
       "<table border=\"1\" class=\"dataframe\">\n",
       "  <thead>\n",
       "    <tr style=\"text-align: right;\">\n",
       "      <th></th>\n",
       "      <th>RowNumber</th>\n",
       "      <th>CustomerId</th>\n",
       "      <th>Surname</th>\n",
       "      <th>CreditScore</th>\n",
       "      <th>Geography</th>\n",
       "      <th>Gender</th>\n",
       "      <th>Age</th>\n",
       "      <th>Tenure</th>\n",
       "      <th>Balance</th>\n",
       "      <th>NumOfProducts</th>\n",
       "      <th>HasCrCard</th>\n",
       "      <th>IsActiveMember</th>\n",
       "      <th>EstimatedSalary</th>\n",
       "      <th>Exited</th>\n",
       "    </tr>\n",
       "  </thead>\n",
       "  <tbody>\n",
       "    <tr>\n",
       "      <th>0</th>\n",
       "      <td>1</td>\n",
       "      <td>15634602</td>\n",
       "      <td>Hargrave</td>\n",
       "      <td>619</td>\n",
       "      <td>France</td>\n",
       "      <td>Female</td>\n",
       "      <td>42</td>\n",
       "      <td>2.0</td>\n",
       "      <td>0.00</td>\n",
       "      <td>1</td>\n",
       "      <td>1</td>\n",
       "      <td>1</td>\n",
       "      <td>101348.88</td>\n",
       "      <td>1</td>\n",
       "    </tr>\n",
       "    <tr>\n",
       "      <th>1</th>\n",
       "      <td>2</td>\n",
       "      <td>15647311</td>\n",
       "      <td>Hill</td>\n",
       "      <td>608</td>\n",
       "      <td>Spain</td>\n",
       "      <td>Female</td>\n",
       "      <td>41</td>\n",
       "      <td>1.0</td>\n",
       "      <td>83807.86</td>\n",
       "      <td>1</td>\n",
       "      <td>0</td>\n",
       "      <td>1</td>\n",
       "      <td>112542.58</td>\n",
       "      <td>0</td>\n",
       "    </tr>\n",
       "    <tr>\n",
       "      <th>2</th>\n",
       "      <td>3</td>\n",
       "      <td>15619304</td>\n",
       "      <td>Onio</td>\n",
       "      <td>502</td>\n",
       "      <td>France</td>\n",
       "      <td>Female</td>\n",
       "      <td>42</td>\n",
       "      <td>8.0</td>\n",
       "      <td>159660.80</td>\n",
       "      <td>3</td>\n",
       "      <td>1</td>\n",
       "      <td>0</td>\n",
       "      <td>113931.57</td>\n",
       "      <td>1</td>\n",
       "    </tr>\n",
       "    <tr>\n",
       "      <th>3</th>\n",
       "      <td>4</td>\n",
       "      <td>15701354</td>\n",
       "      <td>Boni</td>\n",
       "      <td>699</td>\n",
       "      <td>France</td>\n",
       "      <td>Female</td>\n",
       "      <td>39</td>\n",
       "      <td>1.0</td>\n",
       "      <td>0.00</td>\n",
       "      <td>2</td>\n",
       "      <td>0</td>\n",
       "      <td>0</td>\n",
       "      <td>93826.63</td>\n",
       "      <td>0</td>\n",
       "    </tr>\n",
       "    <tr>\n",
       "      <th>4</th>\n",
       "      <td>5</td>\n",
       "      <td>15737888</td>\n",
       "      <td>Mitchell</td>\n",
       "      <td>850</td>\n",
       "      <td>Spain</td>\n",
       "      <td>Female</td>\n",
       "      <td>43</td>\n",
       "      <td>2.0</td>\n",
       "      <td>125510.82</td>\n",
       "      <td>1</td>\n",
       "      <td>1</td>\n",
       "      <td>1</td>\n",
       "      <td>79084.10</td>\n",
       "      <td>0</td>\n",
       "    </tr>\n",
       "  </tbody>\n",
       "</table>\n",
       "</div>"
      ],
      "text/plain": [
       "   RowNumber  CustomerId   Surname  CreditScore Geography  Gender  Age  \\\n",
       "0          1    15634602  Hargrave          619    France  Female   42   \n",
       "1          2    15647311      Hill          608     Spain  Female   41   \n",
       "2          3    15619304      Onio          502    France  Female   42   \n",
       "3          4    15701354      Boni          699    France  Female   39   \n",
       "4          5    15737888  Mitchell          850     Spain  Female   43   \n",
       "\n",
       "   Tenure    Balance  NumOfProducts  HasCrCard  IsActiveMember  \\\n",
       "0     2.0       0.00              1          1               1   \n",
       "1     1.0   83807.86              1          0               1   \n",
       "2     8.0  159660.80              3          1               0   \n",
       "3     1.0       0.00              2          0               0   \n",
       "4     2.0  125510.82              1          1               1   \n",
       "\n",
       "   EstimatedSalary  Exited  \n",
       "0        101348.88       1  \n",
       "1        112542.58       0  \n",
       "2        113931.57       1  \n",
       "3         93826.63       0  \n",
       "4         79084.10       0  "
      ]
     },
     "execution_count": 166,
     "metadata": {},
     "output_type": "execute_result"
    }
   ],
   "source": [
    "data.head(5)"
   ]
  },
  {
   "cell_type": "markdown",
   "metadata": {},
   "source": [
    "После проведенного анализа статистики нам необходимо рассмотреть визуализацию данных, так как график нам также может подсказать необходимые пропорции, которые мы могли первона"
   ]
  },
  {
   "cell_type": "code",
   "execution_count": 167,
   "metadata": {},
   "outputs": [
    {
     "data": {
      "image/png": "[encoded data removed]",
      "text/plain": [
       "<Figure size 432x288 with 1 Axes>"
      ]
     },
     "metadata": {},
     "output_type": "display_data"
    }
   ],
   "source": [
    "# визуализируем баланс у клиентов\n",
    "\n",
    "sns.set_style('whitegrid')\n",
    "fig, ax = plt.subplots()\n",
    "data['Balance'].hist(ax = ax, bins = 100)\n",
    "#ax.set_yscale('log')\n",
    "ax.tick_params(labelsize=14)\n",
    "ax.set_xlabel('Значение')\n",
    "ax.set_ylabel(\"Частота\");"
   ]
  },
  {
   "cell_type": "code",
   "execution_count": 212,
   "metadata": {},
   "outputs": [
    {
     "data": {
      "image/png": "[encoded data removed]",
      "text/plain": [
       "<Figure size 432x288 with 1 Axes>"
      ]
     },
     "metadata": {},
     "output_type": "display_data"
    }
   ],
   "source": [
    "# посмотрим на значения Balance больше нуля\n",
    "\n",
    "sns.set_style('whitegrid')\n",
    "fig, ax = plt.subplots()\n",
    "data.query(\"Balance > 0\")['Balance'].hist(ax = ax, bins = 100)\n",
    "#ax.set_yscale('log')\n",
    "ax.tick_params(labelsize=14)\n",
    "ax.set_xlabel('Значение')\n",
    "ax.set_ylabel(\"Частота\");"
   ]
  },
  {
   "cell_type": "markdown",
   "metadata": {},
   "source": [
    "График хорошо ложится в нормальное распределение. По графику можно увидеть, что примерно 64.8% значений находится в диапозоне от 100 000 до 150 000 "
   ]
  },
  {
   "cell_type": "code",
   "execution_count": 214,
   "metadata": {},
   "outputs": [
    {
     "data": {
      "text/plain": [
       "count      6383.000000\n",
       "mean     119827.493793\n",
       "std       30095.056462\n",
       "min        3768.690000\n",
       "25%      100181.975000\n",
       "50%      119839.690000\n",
       "75%      139512.290000\n",
       "max      250898.090000\n",
       "Name: balance, dtype: float64"
      ]
     },
     "execution_count": 214,
     "metadata": {},
     "output_type": "execute_result"
    }
   ],
   "source": [
    "data.query(\"Balance > 0\")['Balance'].describe()"
   ]
  },
  {
   "cell_type": "markdown",
   "metadata": {},
   "source": [
    "Среднее и медиана практически совпадают. В Балансе при ненулевых значениях практически отстутствуют выбросы. С одной стороны это хорошо. С другой стороны мы можем судить, что у банк работает со стандартными продуктовыми решениями, которые могут подходить большинству клиентов. Один из вариантов для улучшения показателей, это попробовать создать (в случае отсутствия) Premium подразделение для состоятельных клиентов. Также здесь можно расширить линейку инвестиционных продуктов (это требует более детального анализа действующих продуктовых решений). Как одно из предположений может  являться , то, что у банка могут быть не столь развиты маржинальные продукты. В любом случае банку стоит задуматься о создании дополнительного подразделения с целью увеличения более состоятельных клиентов или попробовать организвать агентскую сеть по продаже качественных продуктовых решений предлагаемых другими инвестиционными компаниями. Это позволить поднять маржинальность, а также расширение предлагаемой линейки продуктов. Быть может, определенный отток клиентов также связан с недостаточностью предлагаемых услуг (которые есть у конкурентов). "
   ]
  },
  {
   "cell_type": "code",
   "execution_count": 168,
   "metadata": {},
   "outputs": [
    {
     "data": {
      "text/html": [
       "<div>\n",
       "<style scoped>\n",
       "    .dataframe tbody tr th:only-of-type {\n",
       "        vertical-align: middle;\n",
       "    }\n",
       "\n",
       "    .dataframe tbody tr th {\n",
       "        vertical-align: top;\n",
       "    }\n",
       "\n",
       "    .dataframe thead th {\n",
       "        text-align: right;\n",
       "    }\n",
       "</style>\n",
       "<table border=\"1\" class=\"dataframe\">\n",
       "  <thead>\n",
       "    <tr style=\"text-align: right;\">\n",
       "      <th></th>\n",
       "      <th>Balance</th>\n",
       "    </tr>\n",
       "    <tr>\n",
       "      <th>Exited</th>\n",
       "      <th></th>\n",
       "    </tr>\n",
       "  </thead>\n",
       "  <tbody>\n",
       "    <tr>\n",
       "      <th>0</th>\n",
       "      <td>3117</td>\n",
       "    </tr>\n",
       "    <tr>\n",
       "      <th>1</th>\n",
       "      <td>500</td>\n",
       "    </tr>\n",
       "  </tbody>\n",
       "</table>\n",
       "</div>"
      ],
      "text/plain": [
       "        Balance\n",
       "Exited         \n",
       "0          3117\n",
       "1           500"
      ]
     },
     "execution_count": 168,
     "metadata": {},
     "output_type": "execute_result"
    }
   ],
   "source": [
    "data.query(\"Balance == 0\").groupby('Exited').agg({\"Balance\":\"count\"})"
   ]
  },
  {
   "cell_type": "markdown",
   "metadata": {},
   "source": [
    "Мы можем отметить, что в банке достаточно высокое количество клиентов не имеющих баланс. При этом факт ухода клиента отсутствует. \n",
    "Здесь можно сделать вывод о том, что присутсвует определенная высокая неэффективность, так как либо с данными клиентами не работают менеджеры, либо это большое количество клиентов, когда-то октрыло счет в банке, но по какой-то причине передумали класть деньги в банк. \n",
    "\n",
    "\n",
    "Дополнительно стоит отметить, что данные параметр может вносить путаницу для прогнозирования нашей модели, так как модель может ошибочно посчитать по данному признаку, что если баланс равен нулю, то нужно отнести клиента к группе 0 (отсутствие факта ухода)"
   ]
  },
  {
   "cell_type": "code",
   "execution_count": 169,
   "metadata": {},
   "outputs": [
    {
     "data": {
      "image/png": "[encoded data removed]",
      "text/plain": [
       "<Figure size 432x288 with 1 Axes>"
      ]
     },
     "metadata": {},
     "output_type": "display_data"
    }
   ],
   "source": [
    "# визуализируем Предпалагаемую зарплату у клиентов\n",
    "\n",
    "sns.set_style('whitegrid')\n",
    "fig, ax = plt.subplots()\n",
    "data['EstimatedSalary'].hist(ax = ax, bins = 100)\n",
    "#ax.set_yscale('log')\n",
    "ax.tick_params(labelsize=14)\n",
    "ax.set_xlabel('Значение')\n",
    "ax.set_ylabel(\"Частота\");"
   ]
  },
  {
   "cell_type": "markdown",
   "metadata": {},
   "source": [
    "Предпологаемая зарплата мало что нам говорит о клиентах банка, кроме того, что она имеет ширококий диапозон и у банка нет жестко сегментированной клиентуры. "
   ]
  },
  {
   "cell_type": "code",
   "execution_count": 170,
   "metadata": {},
   "outputs": [
    {
     "data": {
      "image/png": "[encoded data removed]",
      "text/plain": [
       "<Figure size 432x288 with 1 Axes>"
      ]
     },
     "metadata": {},
     "output_type": "display_data"
    }
   ],
   "source": [
    "\n",
    "# визуализируем Предпалагаемый кредитный рейтинг у клиентов\n",
    "\n",
    "sns.set_style('whitegrid')\n",
    "fig, ax = plt.subplots()\n",
    "data['CreditScore'].hist(ax = ax, bins = 100)\n",
    "#ax.set_yscale('log')\n",
    "ax.tick_params(labelsize=14)\n",
    "ax.set_xlabel('Значение')\n",
    "ax.set_ylabel(\"Частота\");\n",
    "\n"
   ]
  },
  {
   "cell_type": "markdown",
   "metadata": {},
   "source": [
    "Кредитный рейтинг имеет явные выбросы, при этом с высоким количеством. Быть может банк пошел на эту меру в более сложные экономические периоды, так как наблюдался отток клиентов и пришлось выдавать кредиты(например на ипотеку) с меньшим кредитным рейтингом. В этих условиях банку стоит задуматься в будущей на проработку большего количества предложений для клиентов. Тем самым большое количество купленных продуктов и услуги будут более значительно задерживать клиента в банке. Стоит задуматься над внедрением маржинальных продуктов (инвестиционных, страховых). Также, как было уже сказано выше, банку стоит рассмотреть премиум направление. Это позволит улучшить клиентскую базу, маржинальность и возможно статус банка, даже в лице простых клиентов."
   ]
  },
  {
   "cell_type": "code",
   "execution_count": 171,
   "metadata": {},
   "outputs": [],
   "source": [
    "# удалим столбцы RowNumber, CustomerId, которые не понадобятся для обучения\n",
    "data = data.drop(['RowNumber', 'CustomerId', \"Surname\"], axis = 1)\n"
   ]
  },
  {
   "cell_type": "code",
   "execution_count": 172,
   "metadata": {},
   "outputs": [
    {
     "data": {
      "text/html": [
       "<div>\n",
       "<style scoped>\n",
       "    .dataframe tbody tr th:only-of-type {\n",
       "        vertical-align: middle;\n",
       "    }\n",
       "\n",
       "    .dataframe tbody tr th {\n",
       "        vertical-align: top;\n",
       "    }\n",
       "\n",
       "    .dataframe thead th {\n",
       "        text-align: right;\n",
       "    }\n",
       "</style>\n",
       "<table border=\"1\" class=\"dataframe\">\n",
       "  <thead>\n",
       "    <tr style=\"text-align: right;\">\n",
       "      <th></th>\n",
       "      <th>creditscore</th>\n",
       "      <th>geography</th>\n",
       "      <th>gender</th>\n",
       "      <th>age</th>\n",
       "      <th>tenure</th>\n",
       "      <th>balance</th>\n",
       "      <th>numofproducts</th>\n",
       "      <th>hascrcard</th>\n",
       "      <th>isactivemember</th>\n",
       "      <th>estimatedsalary</th>\n",
       "      <th>exited</th>\n",
       "    </tr>\n",
       "  </thead>\n",
       "  <tbody>\n",
       "    <tr>\n",
       "      <th>0</th>\n",
       "      <td>619</td>\n",
       "      <td>France</td>\n",
       "      <td>Female</td>\n",
       "      <td>42</td>\n",
       "      <td>2.0</td>\n",
       "      <td>0.00</td>\n",
       "      <td>1</td>\n",
       "      <td>1</td>\n",
       "      <td>1</td>\n",
       "      <td>101348.88</td>\n",
       "      <td>1</td>\n",
       "    </tr>\n",
       "    <tr>\n",
       "      <th>1</th>\n",
       "      <td>608</td>\n",
       "      <td>Spain</td>\n",
       "      <td>Female</td>\n",
       "      <td>41</td>\n",
       "      <td>1.0</td>\n",
       "      <td>83807.86</td>\n",
       "      <td>1</td>\n",
       "      <td>0</td>\n",
       "      <td>1</td>\n",
       "      <td>112542.58</td>\n",
       "      <td>0</td>\n",
       "    </tr>\n",
       "    <tr>\n",
       "      <th>2</th>\n",
       "      <td>502</td>\n",
       "      <td>France</td>\n",
       "      <td>Female</td>\n",
       "      <td>42</td>\n",
       "      <td>8.0</td>\n",
       "      <td>159660.80</td>\n",
       "      <td>3</td>\n",
       "      <td>1</td>\n",
       "      <td>0</td>\n",
       "      <td>113931.57</td>\n",
       "      <td>1</td>\n",
       "    </tr>\n",
       "    <tr>\n",
       "      <th>3</th>\n",
       "      <td>699</td>\n",
       "      <td>France</td>\n",
       "      <td>Female</td>\n",
       "      <td>39</td>\n",
       "      <td>1.0</td>\n",
       "      <td>0.00</td>\n",
       "      <td>2</td>\n",
       "      <td>0</td>\n",
       "      <td>0</td>\n",
       "      <td>93826.63</td>\n",
       "      <td>0</td>\n",
       "    </tr>\n",
       "    <tr>\n",
       "      <th>4</th>\n",
       "      <td>850</td>\n",
       "      <td>Spain</td>\n",
       "      <td>Female</td>\n",
       "      <td>43</td>\n",
       "      <td>2.0</td>\n",
       "      <td>125510.82</td>\n",
       "      <td>1</td>\n",
       "      <td>1</td>\n",
       "      <td>1</td>\n",
       "      <td>79084.10</td>\n",
       "      <td>0</td>\n",
       "    </tr>\n",
       "  </tbody>\n",
       "</table>\n",
       "</div>"
      ],
      "text/plain": [
       "   creditscore geography  gender  age  tenure    balance  numofproducts  \\\n",
       "0          619    France  Female   42     2.0       0.00              1   \n",
       "1          608     Spain  Female   41     1.0   83807.86              1   \n",
       "2          502    France  Female   42     8.0  159660.80              3   \n",
       "3          699    France  Female   39     1.0       0.00              2   \n",
       "4          850     Spain  Female   43     2.0  125510.82              1   \n",
       "\n",
       "   hascrcard  isactivemember  estimatedsalary  exited  \n",
       "0          1               1        101348.88       1  \n",
       "1          0               1        112542.58       0  \n",
       "2          1               0        113931.57       1  \n",
       "3          0               0         93826.63       0  \n",
       "4          1               1         79084.10       0  "
      ]
     },
     "execution_count": 172,
     "metadata": {},
     "output_type": "execute_result"
    }
   ],
   "source": [
    "# приведём значения столбцов в единый стандарт\n",
    "data.columns = [x.lower().replace(' ', '_') for x in data.columns.values]\n",
    "data.head(5)"
   ]
  },
  {
   "cell_type": "markdown",
   "metadata": {},
   "source": [
    "**Вывод :** Рассмотрена параметры набора данных. Присутствует явный перекос значений в столбцу Exited. Это логично, так как при равном количестве или большем в сторону ухода клиентво банк вероятно уже был дефолтным. Здесь мы наблюдаем высокое значение показателя в связи с которым видно, что высокая доля клиентов уходит. \n",
    "\n",
    "\n",
    "Показатели Баланса на счёт говорят о том, что данные распределены нормально, но присутствуют выбросы в сторону нулевого значения. Для более подробной оценки необходимо видеть состояние переводов, а также статус клиента (зарплатный счёт, счёт для переводов за границу, счёт для покупок в интернете.). В такой ситуации нулевые значения на балансе можно было бы объяснить гораздо подробнее. \n",
    "\n",
    "Диапозон предпалагаемой зарплаты находится в широком размахе значений. Это также говорит о том, что у нас нет жесткой сегментации клиентов, то есть банк не нацелен на премиум сигемент или же наоборот на широкую розницу. Клиентами банка является широкая группа клиентов. \n",
    "\n",
    "Наибольшее колиестов клиентов из Франции. Германия и Испания распределены примерно поровну. \n",
    "\n",
    "\n",
    "Клиенты в возрасте от 31 до 40 лет занимают значительную долю среди всех клиентов банка. Это хороший показатель с точки зрения того, что клиенты банка достаточно молодые люди. С другой стороны необходимо смотреть насколько хорошо они удовлетворены услугами, так как может присутствовать ситуация, что данная возрастная группа может более спокойно переходить из банка в банк. Таким образом банку следует также обратить на это внимание для исследования и возможных мер с качественным удержанием клиентов. "
   ]
  },
  {
   "cell_type": "markdown",
   "metadata": {},
   "source": [
    "## Исследование задачи"
   ]
  },
  {
   "cell_type": "code",
   "execution_count": 173,
   "metadata": {},
   "outputs": [
    {
     "data": {
      "text/plain": [
       "0    7963\n",
       "1    2037\n",
       "Name: exited, dtype: int64"
      ]
     },
     "execution_count": 173,
     "metadata": {},
     "output_type": "execute_result"
    }
   ],
   "source": [
    "# рассмотрим баланс значений в наборе данных в зависимости от столбца exited\n",
    "\n",
    "data.exited.value_counts()"
   ]
  },
  {
   "cell_type": "markdown",
   "metadata": {},
   "source": [
    "Можно заметить, что при обучении модели будет присутствовать дисбаланс класса. "
   ]
  },
  {
   "cell_type": "code",
   "execution_count": 174,
   "metadata": {},
   "outputs": [],
   "source": [
    "# произведём необходимое преобразование категориальных данных и сделаем Стандартизацию количественных \n",
    "# данных\n",
    "\n",
    "\n",
    "data_ohe = pd.get_dummies(data, drop_first=True)\n",
    "\n",
    "train_valid, test = train_test_split(data_ohe, test_size=0.2)\n",
    "train, valid = train_test_split(train_valid, test_size=0.25)\n",
    "features_train = train.drop(['exited'], axis=1)\n",
    "target_train = train['exited']\n",
    "features_valid = valid.drop(['exited'], axis=1)\n",
    "target_valid = valid['exited']\n",
    "features_test = test.drop(['exited'], axis=1)\n",
    "target_test = test['exited']\n",
    "\n",
    "numeric = ['creditscore', 'age', 'tenure', 'balance', 'estimatedsalary']\n",
    "\n",
    "scaler = StandardScaler()\n",
    "scaler.fit(features_train[numeric])\n",
    "features_train[numeric] = scaler.transform(features_train[numeric])\n",
    "features_valid[numeric] = scaler.transform(features_valid[numeric])\n",
    "features_test[numeric] = scaler.transform(features_test[numeric])"
   ]
  },
  {
   "cell_type": "code",
   "execution_count": 175,
   "metadata": {},
   "outputs": [
    {
     "name": "stdout",
     "output_type": "stream",
     "text": [
      "(6000, 11)\n",
      "(2000, 11)\n",
      "(2000, 11)\n",
      "(6000,)\n",
      "(2000,)\n",
      "(2000,)\n"
     ]
    }
   ],
   "source": [
    "# проверим размер\n",
    "\n",
    "print(features_train.shape)\n",
    "print(features_valid.shape)\n",
    "print(features_test.shape)\n",
    "print(target_train.shape)\n",
    "print(target_valid.shape)\n",
    "print(target_test.shape)"
   ]
  },
  {
   "cell_type": "code",
   "execution_count": 176,
   "metadata": {},
   "outputs": [
    {
     "data": {
      "text/plain": [
       "DecisionTreeClassifier(random_state=12345)"
      ]
     },
     "execution_count": 176,
     "metadata": {},
     "output_type": "execute_result"
    }
   ],
   "source": [
    "# обучим модель \n",
    "model = DecisionTreeClassifier(random_state=12345)\n",
    "model.fit(features_train, target_train)"
   ]
  },
  {
   "cell_type": "code",
   "execution_count": 177,
   "metadata": {},
   "outputs": [],
   "source": [
    "predicted_valid = model.predict(features_valid)\n",
    "accuracy_valid = accuracy_score(target_valid, predicted_valid)"
   ]
  },
  {
   "cell_type": "code",
   "execution_count": 178,
   "metadata": {},
   "outputs": [
    {
     "name": "stdout",
     "output_type": "stream",
     "text": [
      "0.789\n"
     ]
    }
   ],
   "source": [
    "print(accuracy_valid)"
   ]
  },
  {
   "cell_type": "code",
   "execution_count": 179,
   "metadata": {},
   "outputs": [
    {
     "name": "stdout",
     "output_type": "stream",
     "text": [
      "0.7963\n"
     ]
    }
   ],
   "source": [
    "# проверка адекватности модели\n",
    "target = data['exited']\n",
    "features = data.drop('exited', axis=1)\n",
    "\n",
    "target_pred_constant = pd.Series([0]*len(target))\n",
    "print(accuracy_score(target, target_pred_constant))"
   ]
  },
  {
   "cell_type": "markdown",
   "metadata": {},
   "source": [
    "В нашей задаче наблюдается сильный дисбаланс классов , что плохо сказывается на обучении модели."
   ]
  },
  {
   "cell_type": "code",
   "execution_count": 180,
   "metadata": {},
   "outputs": [
    {
     "name": "stdout",
     "output_type": "stream",
     "text": [
      "[[1370  217]\n",
      " [ 205  208]]\n"
     ]
    }
   ],
   "source": [
    "# посчитаем матрицу ошибок\n",
    "\n",
    "print(confusion_matrix(target_valid, predicted_valid))"
   ]
  },
  {
   "cell_type": "code",
   "execution_count": 181,
   "metadata": {},
   "outputs": [
    {
     "name": "stdout",
     "output_type": "stream",
     "text": [
      "0.5036319612590799\n"
     ]
    }
   ],
   "source": [
    "# посмотрим на полноту\n",
    "print(recall_score(target_valid, predicted_valid))\n"
   ]
  },
  {
   "cell_type": "markdown",
   "metadata": {},
   "source": [
    "Доля правильных ответов составляет 0.55"
   ]
  },
  {
   "cell_type": "code",
   "execution_count": 182,
   "metadata": {},
   "outputs": [
    {
     "name": "stdout",
     "output_type": "stream",
     "text": [
      "0.4894117647058824\n"
     ]
    }
   ],
   "source": [
    "print(precision_score(target_valid, predicted_valid))\n"
   ]
  },
  {
   "cell_type": "markdown",
   "metadata": {},
   "source": [
    "точность составляет 0.48\n"
   ]
  },
  {
   "cell_type": "code",
   "execution_count": 183,
   "metadata": {},
   "outputs": [
    {
     "name": "stdout",
     "output_type": "stream",
     "text": [
      "0.49642004773269693\n"
     ]
    }
   ],
   "source": [
    "# рассмотрим показатель метрики f1\n",
    "print(f1_score(target_valid, predicted_valid))"
   ]
  },
  {
   "cell_type": "code",
   "execution_count": 184,
   "metadata": {},
   "outputs": [
    {
     "name": "stdout",
     "output_type": "stream",
     "text": [
      "0.6834479907114555\n"
     ]
    }
   ],
   "source": [
    "probabilities_valid_dtree = model.predict_proba(features_valid)\n",
    "probabilities_one_valid_dtree = probabilities_valid_dtree[:, 1]\n",
    "\n",
    "auc_roc_dtree = roc_auc_score(target_valid, probabilities_one_valid_dtree)\n",
    "print(auc_roc_dtree)"
   ]
  },
  {
   "cell_type": "code",
   "execution_count": 185,
   "metadata": {},
   "outputs": [
    {
     "data": {
      "image/png": "[encoded data removed]",
      "text/plain": [
       "<Figure size 432x288 with 1 Axes>"
      ]
     },
     "metadata": {},
     "output_type": "display_data"
    }
   ],
   "source": [
    "fpr, tpr, thresholds = roc_curve(target_valid, probabilities_one_valid_dtree) \n",
    "\n",
    "plt.figure()\n",
    "plt.plot(fpr, tpr)\n",
    "plt.xlim([0.0, 1.0])\n",
    "plt.ylim([0.0, 1.0])\n",
    "plt.xlabel('False Positive Rate')\n",
    "plt.ylabel('True Positive Rate')\n",
    "plt.title('ROC-кривая')\n",
    "plt.show()\n",
    "\n"
   ]
  },
  {
   "cell_type": "markdown",
   "metadata": {},
   "source": [
    "Показатели модели не самые лучшие. Требуется улучшение."
   ]
  },
  {
   "cell_type": "markdown",
   "metadata": {},
   "source": [
    "модель показывает хорошие результаты, но мы не учитывали дисбаланс классов. "
   ]
  },
  {
   "cell_type": "code",
   "execution_count": 186,
   "metadata": {},
   "outputs": [],
   "source": [
    "# напишем функцию и проведем перемешивание\n",
    "def upsample(features, target, repeat):\n",
    "    features_zeros = features[target == 0]\n",
    "    features_ones = features[target == 1]\n",
    "    target_zeros = target[target == 0]\n",
    "    target_ones = target[target == 1]\n",
    "\n",
    "    features_upsampled = pd.concat([features_zeros] + [features_ones] * repeat)\n",
    "    target_upsampled = pd.concat([target_zeros] + [target_ones] * repeat)\n",
    "    \n",
    "    features_upsampled, target_upsampled = shuffle(\n",
    "        features_upsampled, target_upsampled, random_state=12345)\n",
    "    \n",
    "    return features_upsampled, target_upsampled\n",
    "\n",
    "features_upsampled, target_upsampled = upsample(features_train, target_train, 3)\n"
   ]
  },
  {
   "cell_type": "code",
   "execution_count": 187,
   "metadata": {},
   "outputs": [
    {
     "name": "stdout",
     "output_type": "stream",
     "text": [
      "F1: 0.5148279952550415\n"
     ]
    }
   ],
   "source": [
    "# обучим модель и посмотрим на значения DecisionTreeClassifier\n",
    "\n",
    "model = DecisionTreeClassifier(random_state=12345).fit(features_upsampled, target_upsampled)\n",
    "predicted_valid = model.predict(features_valid)\n",
    "print(\"F1:\", f1_score(target_valid, predicted_valid))"
   ]
  },
  {
   "cell_type": "markdown",
   "metadata": {},
   "source": [
    "F1 показывает 0.51. Значение является более худшим по сравнению с тем, которое требуется для выполнения задачи. "
   ]
  },
  {
   "cell_type": "code",
   "execution_count": 188,
   "metadata": {},
   "outputs": [
    {
     "name": "stdout",
     "output_type": "stream",
     "text": [
      "0.69560411393419\n"
     ]
    },
    {
     "data": {
      "image/png": "[encoded data removed]",
      "text/plain": [
       "<Figure size 432x288 with 1 Axes>"
      ]
     },
     "metadata": {},
     "output_type": "display_data"
    }
   ],
   "source": [
    "\n",
    "# напишем функцию для ROC-кривой\n",
    "\n",
    "def auc_roc_plot(features_valid):\n",
    "    probabilities_valid = model.predict_proba(features_valid)\n",
    "    probabilities_one_valid = probabilities_valid[:, 1]\n",
    "    auc_roc = roc_auc_score(target_valid, probabilities_one_valid)\n",
    "    fpr, tpr, thresholds = roc_curve(target_valid, probabilities_one_valid)\n",
    "    print(auc_roc)\n",
    "    plt.figure()\n",
    "    plt.plot(fpr, tpr)\n",
    "    plt.xlim([0.0, 1.0])\n",
    "    plt.ylim([0.0, 1.0])\n",
    "    plt.xlabel('False Positive Rate')\n",
    "    plt.ylabel('True Positive Rate')\n",
    "    plt.title('ROC-кривая')\n",
    "    plt.show()\n",
    "\n",
    "    \n",
    "auc_roc_plot(features_valid)\n",
    "    \n",
    "    \n",
    "\n",
    "\n",
    "\n"
   ]
  },
  {
   "cell_type": "markdown",
   "metadata": {},
   "source": [
    "Модель требует улучшения"
   ]
  },
  {
   "cell_type": "code",
   "execution_count": 189,
   "metadata": {},
   "outputs": [
    {
     "name": "stdout",
     "output_type": "stream",
     "text": [
      "F1: 0.5330535152151102\n"
     ]
    }
   ],
   "source": [
    "# обучим модель и посмотрим на значения LogisticRegression\n",
    "model = LogisticRegression(random_state=12345, solver='liblinear').fit(features_upsampled, target_upsampled)\n",
    "predicted_valid = model.predict(features_valid)\n",
    "print(\"F1:\", f1_score(target_valid, predicted_valid))"
   ]
  },
  {
   "cell_type": "markdown",
   "metadata": {},
   "source": [
    "Результаты работы отстают от поставленных целей"
   ]
  },
  {
   "cell_type": "code",
   "execution_count": 190,
   "metadata": {},
   "outputs": [
    {
     "name": "stdout",
     "output_type": "stream",
     "text": [
      "0.7880661732508839\n"
     ]
    },
    {
     "data": {
      "image/png": "[encoded data removed]",
      "text/plain": [
       "<Figure size 432x288 with 1 Axes>"
      ]
     },
     "metadata": {},
     "output_type": "display_data"
    }
   ],
   "source": [
    "def auc_roc_plot(features_valid):\n",
    "    probabilities_valid = model.predict_proba(features_valid)\n",
    "    probabilities_one_valid = probabilities_valid[:, 1]\n",
    "    auc_roc = roc_auc_score(target_valid, probabilities_one_valid)\n",
    "    fpr, tpr, thresholds = roc_curve(target_valid, probabilities_one_valid)\n",
    "    print(auc_roc)\n",
    "    plt.figure()\n",
    "    plt.plot(fpr, tpr)\n",
    "    plt.xlim([0.0, 1.0])\n",
    "    plt.ylim([0.0, 1.0])\n",
    "    plt.xlabel('False Positive Rate')\n",
    "    plt.ylabel('True Positive Rate')\n",
    "    plt.title('ROC-кривая')\n",
    "    plt.show()\n",
    "\n",
    "    \n",
    "auc_roc_plot(features_valid)"
   ]
  },
  {
   "cell_type": "markdown",
   "metadata": {},
   "source": [
    "Используем GridSearch для подбора наилучших гиперпараметров для LogisticRegression и DecisionTreeClassifier"
   ]
  },
  {
   "cell_type": "code",
   "execution_count": 192,
   "metadata": {},
   "outputs": [],
   "source": [
    "grid_values = {'penalty': ['l1','l2'], 'C': [0.001,0.01,0.1,1,10,100,1000]}\n",
    "model_lr_gr = GridSearchCV(model, param_grid=grid_values)"
   ]
  },
  {
   "cell_type": "code",
   "execution_count": 193,
   "metadata": {},
   "outputs": [],
   "source": [
    "grid_search = GridSearchCV(LogisticRegression(), param_grid=grid_values, cv=5)"
   ]
  },
  {
   "cell_type": "code",
   "execution_count": 194,
   "metadata": {},
   "outputs": [
    {
     "data": {
      "text/plain": [
       "GridSearchCV(cv=5, estimator=LogisticRegression(),\n",
       "             param_grid={'C': [0.001, 0.01, 0.1, 1, 10, 100, 1000],\n",
       "                         'penalty': ['l1', 'l2']})"
      ]
     },
     "execution_count": 194,
     "metadata": {},
     "output_type": "execute_result"
    }
   ],
   "source": [
    "grid_search.fit(features_upsampled, target_upsampled)"
   ]
  },
  {
   "cell_type": "code",
   "execution_count": 195,
   "metadata": {},
   "outputs": [
    {
     "name": "stdout",
     "output_type": "stream",
     "text": [
      "Наилучшие показатели параметров : {'C': 100, 'penalty': 'l2'}\n"
     ]
    }
   ],
   "source": [
    "print(\"Наилучшие показатели параметров : {}\".format(grid_search.best_params_))"
   ]
  },
  {
   "cell_type": "code",
   "execution_count": 196,
   "metadata": {},
   "outputs": [
    {
     "name": "stdout",
     "output_type": "stream",
     "text": [
      "F1: 0.5324947589098533\n"
     ]
    }
   ],
   "source": [
    "predicted_valid_lr_gr = grid_search.predict(features_valid)\n",
    "print(\"F1:\", f1_score(target_valid, predicted_valid_lr_gr))"
   ]
  },
  {
   "cell_type": "markdown",
   "metadata": {},
   "source": [
    "Результат меньше, чем необходимое значение в 0.59"
   ]
  },
  {
   "cell_type": "code",
   "execution_count": 197,
   "metadata": {},
   "outputs": [
    {
     "name": "stdout",
     "output_type": "stream",
     "text": [
      "0.7880661732508839\n"
     ]
    },
    {
     "data": {
      "image/png": "[encoded data removed]",
      "text/plain": [
       "<Figure size 432x288 with 1 Axes>"
      ]
     },
     "metadata": {},
     "output_type": "display_data"
    }
   ],
   "source": [
    "def auc_roc_plot(features_valid):\n",
    "    probabilities_valid = model.predict_proba(features_valid)\n",
    "    probabilities_one_valid = probabilities_valid[:, 1]\n",
    "    auc_roc = roc_auc_score(target_valid, probabilities_one_valid)\n",
    "    fpr, tpr, thresholds = roc_curve(target_valid, probabilities_one_valid)\n",
    "    print(auc_roc)\n",
    "    plt.figure()\n",
    "    plt.plot(fpr, tpr)\n",
    "    plt.xlim([0.0, 1.0])\n",
    "    plt.ylim([0.0, 1.0])\n",
    "    plt.xlabel('False Positive Rate')\n",
    "    plt.ylabel('True Positive Rate')\n",
    "    plt.title('ROC-кривая')\n",
    "    plt.show()\n",
    "\n",
    "    \n",
    "auc_roc_plot(features_valid)"
   ]
  },
  {
   "cell_type": "markdown",
   "metadata": {},
   "source": [
    "Результат требует улучшения"
   ]
  },
  {
   "cell_type": "code",
   "execution_count": null,
   "metadata": {},
   "outputs": [],
   "source": [
    "#"
   ]
  },
  {
   "cell_type": "code",
   "execution_count": 198,
   "metadata": {},
   "outputs": [],
   "source": [
    "# применим GridSearch \n",
    "\n",
    "# tree_para = {'criterion':['gini','entropy'],'max_depth':[4,5,6,7,8,9,10,11,12,15,20,30,40,50,70,90,120,150]}\n",
    "# model = GridSearchCV(DecisionTreeClassifier(), tree_para, cv=10)\n"
   ]
  },
  {
   "cell_type": "code",
   "execution_count": null,
   "metadata": {},
   "outputs": [],
   "source": [
    "tree_para = {'criterion':['gini','entropy'],'max_depth':[2, 4,5,6,7,8,9,10,11,12,15,20,30,40,50,70,90,120,150, 250, 300]}\n",
    "model = GridSearchCV(DecisionTreeClassifier(), tree_para, cv=10)"
   ]
  },
  {
   "cell_type": "code",
   "execution_count": 199,
   "metadata": {
    "scrolled": true
   },
   "outputs": [
    {
     "name": "stdout",
     "output_type": "stream",
     "text": [
      "F1: 0.49763033175355453\n"
     ]
    }
   ],
   "source": [
    "model.fit(features_upsampled, target_upsampled)\n",
    "predicted_valid_gr_tree = model.predict(features_valid)\n",
    "print(\"F1:\", f1_score(target_valid, predicted_valid_gr_tree))"
   ]
  },
  {
   "cell_type": "code",
   "execution_count": 200,
   "metadata": {},
   "outputs": [
    {
     "name": "stdout",
     "output_type": "stream",
     "text": [
      "0.6847692587015262\n"
     ]
    },
    {
     "data": {
      "image/png": "[encoded data removed]",
      "text/plain": [
       "<Figure size 432x288 with 1 Axes>"
      ]
     },
     "metadata": {},
     "output_type": "display_data"
    }
   ],
   "source": [
    "def auc_roc_plot(features_valid):\n",
    "    probabilities_valid = model.predict_proba(features_valid)\n",
    "    probabilities_one_valid = probabilities_valid[:, 1]\n",
    "    auc_roc = roc_auc_score(target_valid, probabilities_one_valid)\n",
    "    fpr, tpr, thresholds = roc_curve(target_valid, probabilities_one_valid)\n",
    "    print(auc_roc)\n",
    "    plt.figure()\n",
    "    plt.plot(fpr, tpr)\n",
    "    plt.xlim([0.0, 1.0])\n",
    "    plt.ylim([0.0, 1.0])\n",
    "    plt.xlabel('False Positive Rate')\n",
    "    plt.ylabel('True Positive Rate')\n",
    "    plt.title('ROC-кривая')\n",
    "    plt.show()\n",
    "\n",
    "    \n",
    "auc_roc_plot(features_valid)"
   ]
  },
  {
   "cell_type": "markdown",
   "metadata": {},
   "source": [
    "Результат неудовлетворительный"
   ]
  },
  {
   "cell_type": "markdown",
   "metadata": {},
   "source": [
    "Результат хуже, чем необходимый"
   ]
  },
  {
   "cell_type": "code",
   "execution_count": 201,
   "metadata": {},
   "outputs": [
    {
     "name": "stdout",
     "output_type": "stream",
     "text": [
      "F1: 0.6191117092866757\n"
     ]
    }
   ],
   "source": [
    "#  обучим модель RandomForestClassifier\n",
    "\n",
    "model_rf = RandomForestClassifier(n_estimators=1000, max_depth = 20, random_state=12345)\n",
    "model_rf.fit(features_upsampled, target_upsampled)\n",
    "predicted_value_rf = model_rf.predict(features_valid)\n",
    "print(\"F1:\", f1_score(target_valid, predicted_value_rf))"
   ]
  },
  {
   "cell_type": "markdown",
   "metadata": {},
   "source": [
    "\n",
    "\n",
    "Посмотрим на наилучшее значение F1 при разных показателях гиперпараметра max_depth"
   ]
  },
  {
   "cell_type": "code",
   "execution_count": 202,
   "metadata": {},
   "outputs": [
    {
     "name": "stdout",
     "output_type": "stream",
     "text": [
      "max_depth =  5\n",
      "F1: 0.5940119760479042\n",
      "max_depth =  10\n",
      "F1: 0.6336154776299878\n",
      "max_depth =  20\n",
      "F1: 0.6191117092866757\n",
      "max_depth =  50\n",
      "F1: 0.6129032258064516\n",
      "max_depth =  100\n",
      "F1: 0.6129032258064516\n",
      "max_depth =  120\n",
      "F1: 0.6129032258064516\n",
      "max_depth =  150\n",
      "F1: 0.6129032258064516\n"
     ]
    }
   ],
   "source": [
    "for i in [5, 10, 20, 50, 100, 120, 150, 200, 250]:\n",
    "    model_rf = RandomForestClassifier(n_estimators=1000, max_depth = i, random_state=12345)\n",
    "    print('max_depth = ', i)\n",
    "    model_rf.fit(features_upsampled, target_upsampled)\n",
    "    predicted_value_rf = model_rf.predict(features_valid)\n",
    "    print(\"F1:\", f1_score(target_valid, predicted_value_rf))"
   ]
  },
  {
   "cell_type": "markdown",
   "metadata": {},
   "source": [
    "В результате мы получили лучшие значения на первоначально обученной модели с значением max_depth равным 10. Вновь обучим модель с целью дальнейшего тестирования данных уже на тестовом наборе данных"
   ]
  },
  {
   "cell_type": "code",
   "execution_count": 203,
   "metadata": {},
   "outputs": [
    {
     "name": "stdout",
     "output_type": "stream",
     "text": [
      "F1: 0.6336154776299878\n"
     ]
    }
   ],
   "source": [
    "model_rf = RandomForestClassifier(n_estimators=1000, max_depth = 10, random_state=12345)\n",
    "model_rf.fit(features_upsampled, target_upsampled)\n",
    "predicted_value_rf = model_rf.predict(features_valid)\n",
    "print(\"F1:\", f1_score(target_valid, predicted_value_rf))"
   ]
  },
  {
   "cell_type": "code",
   "execution_count": 205,
   "metadata": {},
   "outputs": [],
   "source": [
    "# param_grid = {\n",
    "# 'n_estimators': [1000, 1500],\n",
    "# 'min_samples_leaf': [1, 5, 10, 20],\n",
    "# 'max_depth': [20, 50, 100],\n",
    "# 'max_features': ['auto', 'sqrt'],\n",
    "# 'bootstrap': [True, False]}\n",
    "\n",
    "\n",
    "# model_gridsearch = GridSearchCV(\n",
    "# estimator=model_rf,\n",
    "# param_grid=param_grid)\n",
    "\n",
    "\n",
    "# model_gridsearch.fit(features_upsampled, target_upsampled)\n",
    "# predicted_valid_gr_rf = model_gridsearch.predict(features_valid)\n",
    "# print(\"F1:\", f1_score(target_valid, predicted_valid_rf))"
   ]
  },
  {
   "cell_type": "code",
   "execution_count": null,
   "metadata": {},
   "outputs": [],
   "source": []
  },
  {
   "cell_type": "markdown",
   "metadata": {},
   "source": [
    "**Вывод:**\n",
    "Набор данных был соответствующим образом приведён для дальнейшего обучения выбранных моделей. В результате ряда преобразования набор данных был разделен на обучающиеся данные, валидационные и тестовые. При обучении трех моделей выбрана модель с наилучшими показателями метрики F1. Значение метрики F1 соответствуют более высокому значению, чем 0.59 и можно приступать к тестированию модели. "
   ]
  },
  {
   "cell_type": "markdown",
   "metadata": {},
   "source": [
    "## Тестирование модели"
   ]
  },
  {
   "cell_type": "code",
   "execution_count": 206,
   "metadata": {},
   "outputs": [
    {
     "name": "stdout",
     "output_type": "stream",
     "text": [
      "F1: 0.624263839811543\n"
     ]
    }
   ],
   "source": [
    "predicted_feat_test = model_rf.predict(features_test)\n",
    "\n",
    "print(\"F1:\", f1_score(target_test, predicted_feat_test))"
   ]
  },
  {
   "cell_type": "markdown",
   "metadata": {},
   "source": [
    "Реузльтат метрики F1 на тестовой выборке больше, чем требуется (0.59)"
   ]
  },
  {
   "cell_type": "markdown",
   "metadata": {},
   "source": [
    "Посмотрим на параметры ROC-кривой. Для этого возьмем необходимые функции и сделаем определенные преобразования с прогнозами по модели. "
   ]
  },
  {
   "cell_type": "code",
   "execution_count": 207,
   "metadata": {},
   "outputs": [
    {
     "name": "stdout",
     "output_type": "stream",
     "text": [
      "0.8692249832552931\n"
     ]
    }
   ],
   "source": [
    "probabilities_valid = model_rf.predict_proba(features_valid)\n",
    "probabilities_one_valid = probabilities_valid[:, 1]\n",
    "\n",
    "auc_roc = roc_auc_score(target_valid, probabilities_one_valid)\n",
    "print(auc_roc)"
   ]
  },
  {
   "cell_type": "code",
   "execution_count": 208,
   "metadata": {},
   "outputs": [],
   "source": [
    "fpr, tpr, thresholds = roc_curve(target_valid, probabilities_one_valid) \n"
   ]
  },
  {
   "cell_type": "code",
   "execution_count": 209,
   "metadata": {},
   "outputs": [
    {
     "data": {
      "image/png": "[encoded data removed]",
      "text/plain": [
       "<Figure size 432x288 with 1 Axes>"
      ]
     },
     "metadata": {},
     "output_type": "display_data"
    }
   ],
   "source": [
    "plt.figure()\n",
    "plt.plot(fpr, tpr)\n",
    "plt.xlim([0.0, 1.0])\n",
    "plt.ylim([0.0, 1.0])\n",
    "plt.xlabel('False Positive Rate')\n",
    "plt.ylabel('True Positive Rate')\n",
    "plt.title('ROC-кривая')\n",
    "plt.show()"
   ]
  },
  {
   "cell_type": "markdown",
   "metadata": {},
   "source": [
    "Площадь под кривой равна 0.85 и модель явно отличается от случайной модели, так как в противном случае площадь равнялась бы 0.5"
   ]
  },
  {
   "cell_type": "markdown",
   "metadata": {},
   "source": [
    "**Вывод:**\n",
    "\n",
    "- Проведено ислледование набора данных по клиентам банка. \n",
    "\n",
    "- Произведен подбор алгоритма модели машинного обучения для осуществления необходимых значений метрики F1.\n",
    "\n",
    "- Проведено тестирование модели на тестовом наборе данных. Результа соответствует поставленным требованиям. \n",
    "\n",
    "В ходе работы был исследован набора данных. Произведены необходимые преобразования и обучена лучшая модель для прогноза оттока клиентов. Тестирование модели показало хорошие результаты. В результате у банка будет присутствовать необходимый инструмент для прогноза оттока клиентов. "
   ]
  },
  {
   "cell_type": "code",
   "execution_count": null,
   "metadata": {},
   "outputs": [],
   "source": []
  }
 ],
 "metadata": {
  "ExecuteTimeLog": [
   {
    "duration": 367,
    "start_time": "2022-10-18T19:56:30.848Z"
   },
   {
    "duration": 178,
    "start_time": "2022-10-18T19:56:45.241Z"
   },
   {
    "duration": 18,
    "start_time": "2022-10-18T19:56:51.123Z"
   },
   {
    "duration": 13,
    "start_time": "2022-10-18T19:57:31.248Z"
   },
   {
    "duration": 7,
    "start_time": "2022-10-18T19:59:34.339Z"
   },
   {
    "duration": 6,
    "start_time": "2022-10-18T19:59:44.577Z"
   },
   {
    "duration": 8,
    "start_time": "2022-10-18T20:00:14.574Z"
   },
   {
    "duration": 9,
    "start_time": "2022-10-18T20:00:29.643Z"
   },
   {
    "duration": 1186,
    "start_time": "2022-10-18T20:02:12.675Z"
   },
   {
    "duration": 6,
    "start_time": "2022-10-18T20:02:24.878Z"
   },
   {
    "duration": 6,
    "start_time": "2022-10-18T20:02:29.853Z"
   },
   {
    "duration": 5,
    "start_time": "2022-10-18T20:02:59.527Z"
   },
   {
    "duration": 1118,
    "start_time": "2022-10-18T20:04:25.568Z"
   },
   {
    "duration": 39,
    "start_time": "2022-10-18T20:04:47.099Z"
   },
   {
    "duration": 29,
    "start_time": "2022-10-18T20:04:50.972Z"
   },
   {
    "duration": 10,
    "start_time": "2022-10-18T20:05:06.357Z"
   },
   {
    "duration": 27,
    "start_time": "2022-10-18T20:06:58.421Z"
   },
   {
    "duration": 25,
    "start_time": "2022-10-18T20:07:34.940Z"
   },
   {
    "duration": 10,
    "start_time": "2022-10-18T20:07:42.845Z"
   },
   {
    "duration": 8,
    "start_time": "2022-10-18T20:08:37.766Z"
   },
   {
    "duration": 11,
    "start_time": "2022-10-18T20:09:22.640Z"
   },
   {
    "duration": 8,
    "start_time": "2022-10-18T20:09:44.689Z"
   },
   {
    "duration": 8,
    "start_time": "2022-10-18T20:10:02.087Z"
   },
   {
    "duration": 7,
    "start_time": "2022-10-18T20:10:26.996Z"
   },
   {
    "duration": 6,
    "start_time": "2022-10-18T20:11:43.172Z"
   },
   {
    "duration": 23,
    "start_time": "2022-10-18T20:11:47.696Z"
   },
   {
    "duration": 8,
    "start_time": "2022-10-18T20:11:50.051Z"
   },
   {
    "duration": 8,
    "start_time": "2022-10-18T20:12:51.644Z"
   },
   {
    "duration": 8,
    "start_time": "2022-10-18T20:13:17.842Z"
   },
   {
    "duration": 13,
    "start_time": "2022-10-18T20:14:20.434Z"
   },
   {
    "duration": 10,
    "start_time": "2022-10-18T20:14:37.837Z"
   },
   {
    "duration": 10,
    "start_time": "2022-10-18T20:15:05.050Z"
   },
   {
    "duration": 9,
    "start_time": "2022-10-18T20:15:34.548Z"
   },
   {
    "duration": 9,
    "start_time": "2022-10-18T20:15:56.337Z"
   },
   {
    "duration": 10,
    "start_time": "2022-10-18T20:16:54.793Z"
   },
   {
    "duration": 5,
    "start_time": "2022-10-18T20:22:22.775Z"
   },
   {
    "duration": 17,
    "start_time": "2022-10-18T20:22:38.271Z"
   },
   {
    "duration": 11,
    "start_time": "2022-10-18T20:24:16.337Z"
   },
   {
    "duration": 13,
    "start_time": "2022-10-18T20:25:33.744Z"
   },
   {
    "duration": 17,
    "start_time": "2022-10-18T20:28:42.495Z"
   },
   {
    "duration": 9,
    "start_time": "2022-10-18T20:29:13.487Z"
   },
   {
    "duration": 20,
    "start_time": "2022-10-18T20:29:22.579Z"
   },
   {
    "duration": 11,
    "start_time": "2022-10-18T20:29:51.819Z"
   },
   {
    "duration": 80,
    "start_time": "2022-10-18T20:30:23.686Z"
   },
   {
    "duration": 64,
    "start_time": "2022-10-18T20:30:30.597Z"
   },
   {
    "duration": 9,
    "start_time": "2022-10-18T20:30:50.619Z"
   },
   {
    "duration": 9,
    "start_time": "2022-10-18T20:31:07.410Z"
   },
   {
    "duration": 9,
    "start_time": "2022-10-18T20:31:27.402Z"
   },
   {
    "duration": 24,
    "start_time": "2022-10-18T20:32:17.327Z"
   },
   {
    "duration": 7,
    "start_time": "2022-10-18T20:34:07.896Z"
   },
   {
    "duration": 7,
    "start_time": "2022-10-18T20:34:30.721Z"
   },
   {
    "duration": 6,
    "start_time": "2022-10-18T20:34:40.000Z"
   },
   {
    "duration": 7,
    "start_time": "2022-10-18T20:34:44.629Z"
   },
   {
    "duration": 7,
    "start_time": "2022-10-18T20:34:51.917Z"
   },
   {
    "duration": 6,
    "start_time": "2022-10-18T20:35:20.743Z"
   },
   {
    "duration": 8,
    "start_time": "2022-10-18T20:35:24.425Z"
   },
   {
    "duration": 8,
    "start_time": "2022-10-18T20:35:41.375Z"
   },
   {
    "duration": 6,
    "start_time": "2022-10-18T20:37:00.798Z"
   },
   {
    "duration": 6,
    "start_time": "2022-10-18T20:37:05.081Z"
   },
   {
    "duration": 23,
    "start_time": "2022-10-18T20:38:19.635Z"
   },
   {
    "duration": 40,
    "start_time": "2022-10-18T20:38:35.056Z"
   },
   {
    "duration": 25,
    "start_time": "2022-10-18T20:38:41.549Z"
   },
   {
    "duration": 82,
    "start_time": "2022-10-18T20:40:00.121Z"
   },
   {
    "duration": 13,
    "start_time": "2022-10-18T20:40:11.441Z"
   },
   {
    "duration": 13,
    "start_time": "2022-10-18T20:40:18.730Z"
   },
   {
    "duration": 12,
    "start_time": "2022-10-18T20:43:21.806Z"
   },
   {
    "duration": 410,
    "start_time": "2022-10-22T13:42:07.791Z"
   },
   {
    "duration": 61,
    "start_time": "2022-10-22T13:42:08.203Z"
   },
   {
    "duration": 17,
    "start_time": "2022-10-22T13:42:08.265Z"
   },
   {
    "duration": 11,
    "start_time": "2022-10-22T13:42:08.284Z"
   },
   {
    "duration": 6,
    "start_time": "2022-10-22T13:42:08.297Z"
   },
   {
    "duration": 9,
    "start_time": "2022-10-22T13:42:08.304Z"
   },
   {
    "duration": 23,
    "start_time": "2022-10-22T13:42:08.315Z"
   },
   {
    "duration": 8,
    "start_time": "2022-10-22T13:42:08.340Z"
   },
   {
    "duration": 10,
    "start_time": "2022-10-22T13:42:08.349Z"
   },
   {
    "duration": 11,
    "start_time": "2022-10-22T13:42:08.360Z"
   },
   {
    "duration": 11,
    "start_time": "2022-10-22T13:42:08.373Z"
   },
   {
    "duration": 24,
    "start_time": "2022-10-22T13:42:08.385Z"
   },
   {
    "duration": 12,
    "start_time": "2022-10-22T13:42:08.411Z"
   },
   {
    "duration": 10,
    "start_time": "2022-10-22T13:42:08.425Z"
   },
   {
    "duration": 8,
    "start_time": "2022-10-22T13:42:08.436Z"
   },
   {
    "duration": 19,
    "start_time": "2022-10-22T13:42:08.445Z"
   },
   {
    "duration": 6,
    "start_time": "2022-10-22T13:42:08.466Z"
   },
   {
    "duration": 36,
    "start_time": "2022-10-22T13:42:08.473Z"
   },
   {
    "duration": 11,
    "start_time": "2022-10-22T13:42:08.511Z"
   },
   {
    "duration": 12,
    "start_time": "2022-10-22T13:42:08.524Z"
   },
   {
    "duration": 12,
    "start_time": "2022-10-22T13:43:20.939Z"
   },
   {
    "duration": 4,
    "start_time": "2022-10-22T13:45:58.673Z"
   },
   {
    "duration": 66,
    "start_time": "2022-10-22T13:46:25.633Z"
   },
   {
    "duration": 233,
    "start_time": "2022-10-22T13:54:38.131Z"
   },
   {
    "duration": 24,
    "start_time": "2022-10-22T13:54:49.232Z"
   },
   {
    "duration": 6,
    "start_time": "2022-10-22T13:55:37.324Z"
   },
   {
    "duration": 19,
    "start_time": "2022-10-22T13:55:49.855Z"
   },
   {
    "duration": 229,
    "start_time": "2022-10-22T13:56:01.842Z"
   },
   {
    "duration": 29,
    "start_time": "2022-10-22T13:56:04.551Z"
   },
   {
    "duration": 464,
    "start_time": "2022-10-22T19:14:51.190Z"
   },
   {
    "duration": 58,
    "start_time": "2022-10-22T19:14:51.656Z"
   },
   {
    "duration": 27,
    "start_time": "2022-10-22T19:14:51.716Z"
   },
   {
    "duration": 12,
    "start_time": "2022-10-22T19:14:51.745Z"
   },
   {
    "duration": 25,
    "start_time": "2022-10-22T19:14:51.759Z"
   },
   {
    "duration": 18,
    "start_time": "2022-10-22T19:14:51.785Z"
   },
   {
    "duration": 31,
    "start_time": "2022-10-22T19:14:51.805Z"
   },
   {
    "duration": 8,
    "start_time": "2022-10-22T19:14:51.838Z"
   },
   {
    "duration": 23,
    "start_time": "2022-10-22T19:14:51.847Z"
   },
   {
    "duration": 28,
    "start_time": "2022-10-22T19:14:51.873Z"
   },
   {
    "duration": 19,
    "start_time": "2022-10-22T19:14:51.902Z"
   },
   {
    "duration": 28,
    "start_time": "2022-10-22T19:14:51.923Z"
   },
   {
    "duration": 20,
    "start_time": "2022-10-22T19:14:51.953Z"
   },
   {
    "duration": 25,
    "start_time": "2022-10-22T19:14:51.974Z"
   },
   {
    "duration": 13,
    "start_time": "2022-10-22T19:14:52.001Z"
   },
   {
    "duration": 43,
    "start_time": "2022-10-22T19:14:52.016Z"
   },
   {
    "duration": 16,
    "start_time": "2022-10-22T19:14:52.061Z"
   },
   {
    "duration": 21,
    "start_time": "2022-10-22T19:14:52.079Z"
   },
   {
    "duration": 30,
    "start_time": "2022-10-22T19:14:52.102Z"
   },
   {
    "duration": 17,
    "start_time": "2022-10-22T19:14:52.134Z"
   },
   {
    "duration": 26,
    "start_time": "2022-10-22T19:14:52.153Z"
   },
   {
    "duration": 17,
    "start_time": "2022-10-22T19:14:52.181Z"
   },
   {
    "duration": 219,
    "start_time": "2022-10-22T19:14:52.200Z"
   },
   {
    "duration": 35,
    "start_time": "2022-10-22T19:14:52.421Z"
   },
   {
    "duration": 908,
    "start_time": "2022-10-22T19:15:40.422Z"
   },
   {
    "duration": 550,
    "start_time": "2022-10-22T19:16:30.463Z"
   },
   {
    "duration": 264,
    "start_time": "2022-10-22T19:16:43.790Z"
   },
   {
    "duration": 340,
    "start_time": "2022-10-22T19:17:56.589Z"
   },
   {
    "duration": 99,
    "start_time": "2022-10-22T19:19:05.503Z"
   },
   {
    "duration": 8,
    "start_time": "2022-10-22T19:19:24.107Z"
   },
   {
    "duration": 279,
    "start_time": "2022-10-22T19:19:45.250Z"
   },
   {
    "duration": 334,
    "start_time": "2022-10-22T19:20:35.439Z"
   },
   {
    "duration": 1284,
    "start_time": "2022-10-22T22:14:58.911Z"
   },
   {
    "duration": 161,
    "start_time": "2022-10-22T22:15:00.197Z"
   },
   {
    "duration": 16,
    "start_time": "2022-10-22T22:15:00.360Z"
   },
   {
    "duration": 12,
    "start_time": "2022-10-22T22:15:00.377Z"
   },
   {
    "duration": 6,
    "start_time": "2022-10-22T22:15:00.391Z"
   },
   {
    "duration": 9,
    "start_time": "2022-10-22T22:15:00.398Z"
   },
   {
    "duration": 29,
    "start_time": "2022-10-22T22:15:00.409Z"
   },
   {
    "duration": 8,
    "start_time": "2022-10-22T22:15:00.439Z"
   },
   {
    "duration": 8,
    "start_time": "2022-10-22T22:15:00.448Z"
   },
   {
    "duration": 16,
    "start_time": "2022-10-22T22:15:00.457Z"
   },
   {
    "duration": 31,
    "start_time": "2022-10-22T22:15:00.475Z"
   },
   {
    "duration": 33,
    "start_time": "2022-10-22T22:15:00.508Z"
   },
   {
    "duration": 18,
    "start_time": "2022-10-22T22:15:00.543Z"
   },
   {
    "duration": 11,
    "start_time": "2022-10-22T22:15:00.564Z"
   },
   {
    "duration": 18,
    "start_time": "2022-10-22T22:15:00.577Z"
   },
   {
    "duration": 33,
    "start_time": "2022-10-22T22:15:00.597Z"
   },
   {
    "duration": 5,
    "start_time": "2022-10-22T22:15:00.631Z"
   },
   {
    "duration": 18,
    "start_time": "2022-10-22T22:15:00.638Z"
   },
   {
    "duration": 35,
    "start_time": "2022-10-22T22:15:00.657Z"
   },
   {
    "duration": 15,
    "start_time": "2022-10-22T22:15:00.693Z"
   },
   {
    "duration": 20,
    "start_time": "2022-10-22T22:15:00.710Z"
   },
   {
    "duration": 264,
    "start_time": "2022-10-22T22:15:00.731Z"
   },
   {
    "duration": 245,
    "start_time": "2022-10-22T22:15:00.996Z"
   },
   {
    "duration": 237,
    "start_time": "2022-10-22T22:15:01.243Z"
   },
   {
    "duration": 242,
    "start_time": "2022-10-22T22:15:01.481Z"
   },
   {
    "duration": 4,
    "start_time": "2022-10-22T22:15:01.725Z"
   },
   {
    "duration": 246,
    "start_time": "2022-10-22T22:15:01.730Z"
   },
   {
    "duration": 34,
    "start_time": "2022-10-22T22:15:01.978Z"
   },
   {
    "duration": 310,
    "start_time": "2022-10-22T22:17:08.083Z"
   },
   {
    "duration": 239,
    "start_time": "2022-10-22T22:17:29.634Z"
   },
   {
    "duration": 218,
    "start_time": "2022-10-22T22:17:46.533Z"
   },
   {
    "duration": 217,
    "start_time": "2022-10-22T22:18:16.329Z"
   },
   {
    "duration": 101,
    "start_time": "2022-10-22T22:19:19.011Z"
   },
   {
    "duration": 21,
    "start_time": "2022-10-22T22:19:24.962Z"
   },
   {
    "duration": 11,
    "start_time": "2022-10-22T22:20:17.111Z"
   },
   {
    "duration": 12,
    "start_time": "2022-10-23T15:54:48.045Z"
   },
   {
    "duration": 12,
    "start_time": "2022-10-23T15:56:37.904Z"
   },
   {
    "duration": 5,
    "start_time": "2022-10-23T15:57:53.180Z"
   },
   {
    "duration": 12,
    "start_time": "2022-10-23T16:13:03.991Z"
   },
   {
    "duration": 259,
    "start_time": "2022-10-23T16:17:08.989Z"
   },
   {
    "duration": 3,
    "start_time": "2022-10-23T16:18:12.934Z"
   },
   {
    "duration": 307,
    "start_time": "2022-10-23T16:18:22.824Z"
   },
   {
    "duration": 3,
    "start_time": "2022-10-23T16:18:44.974Z"
   },
   {
    "duration": 294,
    "start_time": "2022-10-23T16:18:54.908Z"
   },
   {
    "duration": 3,
    "start_time": "2022-10-23T16:19:45.904Z"
   },
   {
    "duration": 301,
    "start_time": "2022-10-23T16:19:51.981Z"
   },
   {
    "duration": 3,
    "start_time": "2022-10-23T16:20:19.714Z"
   },
   {
    "duration": 4,
    "start_time": "2022-10-23T16:20:35.246Z"
   },
   {
    "duration": 4,
    "start_time": "2022-10-23T16:20:54.649Z"
   },
   {
    "duration": 35,
    "start_time": "2022-10-23T16:22:24.941Z"
   },
   {
    "duration": 1133,
    "start_time": "2022-10-23T16:22:58.143Z"
   },
   {
    "duration": 52,
    "start_time": "2022-10-23T16:23:21.074Z"
   },
   {
    "duration": 4,
    "start_time": "2022-10-23T16:23:36.088Z"
   },
   {
    "duration": 181,
    "start_time": "2022-10-23T16:59:56.441Z"
   },
   {
    "duration": 11,
    "start_time": "2022-10-23T17:02:25.426Z"
   },
   {
    "duration": 5,
    "start_time": "2022-10-23T17:04:29.383Z"
   },
   {
    "duration": 7,
    "start_time": "2022-10-23T17:04:56.941Z"
   },
   {
    "duration": 13,
    "start_time": "2022-10-23T17:05:59.119Z"
   },
   {
    "duration": 4,
    "start_time": "2022-10-23T17:06:06.574Z"
   },
   {
    "duration": 7,
    "start_time": "2022-10-23T17:06:14.242Z"
   },
   {
    "duration": 4,
    "start_time": "2022-10-23T17:07:38.428Z"
   },
   {
    "duration": 5,
    "start_time": "2022-10-23T17:07:46.111Z"
   },
   {
    "duration": 5,
    "start_time": "2022-10-23T17:10:01.908Z"
   },
   {
    "duration": 7,
    "start_time": "2022-10-23T17:10:13.040Z"
   },
   {
    "duration": 9,
    "start_time": "2022-10-23T17:13:39.762Z"
   },
   {
    "duration": 3,
    "start_time": "2022-10-23T17:13:56.192Z"
   },
   {
    "duration": 996,
    "start_time": "2022-10-23T17:14:02.149Z"
   },
   {
    "duration": 57,
    "start_time": "2022-10-23T17:16:54.271Z"
   },
   {
    "duration": 5,
    "start_time": "2022-10-23T17:17:16.726Z"
   },
   {
    "duration": 885,
    "start_time": "2022-10-23T17:17:25.038Z"
   },
   {
    "duration": 1062,
    "start_time": "2022-10-23T17:18:41.971Z"
   },
   {
    "duration": 177,
    "start_time": "2022-10-25T05:59:14.743Z"
   },
   {
    "duration": 24,
    "start_time": "2022-10-25T06:00:37.828Z"
   },
   {
    "duration": 37,
    "start_time": "2022-10-25T06:02:14.572Z"
   },
   {
    "duration": 4,
    "start_time": "2022-10-25T06:02:17.636Z"
   },
   {
    "duration": 11,
    "start_time": "2022-10-25T06:02:33.648Z"
   },
   {
    "duration": 5,
    "start_time": "2022-10-25T06:02:38.482Z"
   },
   {
    "duration": 3,
    "start_time": "2022-10-25T06:02:39.398Z"
   },
   {
    "duration": 8,
    "start_time": "2022-10-25T06:02:41.359Z"
   },
   {
    "duration": 7,
    "start_time": "2022-10-25T06:02:53.389Z"
   },
   {
    "duration": 5,
    "start_time": "2022-10-25T06:02:54.553Z"
   },
   {
    "duration": 11,
    "start_time": "2022-10-25T06:03:14.127Z"
   },
   {
    "duration": 5,
    "start_time": "2022-10-25T06:03:26.460Z"
   },
   {
    "duration": 36,
    "start_time": "2022-10-25T06:07:03.946Z"
   },
   {
    "duration": 6,
    "start_time": "2022-10-25T06:07:36.047Z"
   },
   {
    "duration": 38,
    "start_time": "2022-10-25T06:07:38.290Z"
   },
   {
    "duration": 11,
    "start_time": "2022-10-25T06:09:31.597Z"
   },
   {
    "duration": 12,
    "start_time": "2022-10-25T06:10:05.880Z"
   },
   {
    "duration": 45,
    "start_time": "2022-10-25T06:10:27.269Z"
   },
   {
    "duration": 48,
    "start_time": "2022-10-25T06:16:44.574Z"
   },
   {
    "duration": 365,
    "start_time": "2022-10-25T06:17:33.982Z"
   },
   {
    "duration": 17,
    "start_time": "2022-10-25T06:17:51.898Z"
   },
   {
    "duration": 69,
    "start_time": "2022-10-25T06:17:53.170Z"
   },
   {
    "duration": 405,
    "start_time": "2022-10-25T06:17:54.240Z"
   },
   {
    "duration": 13,
    "start_time": "2022-10-25T06:17:58.649Z"
   },
   {
    "duration": 49,
    "start_time": "2022-10-25T06:17:59.307Z"
   },
   {
    "duration": 234,
    "start_time": "2022-10-25T06:17:59.895Z"
   },
   {
    "duration": 31,
    "start_time": "2022-10-25T06:21:47.349Z"
   },
   {
    "duration": 4,
    "start_time": "2022-10-25T06:32:36.147Z"
   },
   {
    "duration": 3,
    "start_time": "2022-10-25T06:32:58.876Z"
   },
   {
    "duration": 7,
    "start_time": "2022-10-25T06:33:55.872Z"
   },
   {
    "duration": 598,
    "start_time": "2022-10-25T06:34:08.343Z"
   },
   {
    "duration": 13,
    "start_time": "2022-10-25T06:34:56.272Z"
   },
   {
    "duration": 4,
    "start_time": "2022-10-25T06:35:00.170Z"
   },
   {
    "duration": 23,
    "start_time": "2022-10-25T06:35:02.122Z"
   },
   {
    "duration": 2,
    "start_time": "2022-10-25T06:36:55.061Z"
   },
   {
    "duration": 17471,
    "start_time": "2022-10-25T06:37:26.768Z"
   },
   {
    "duration": 3,
    "start_time": "2022-10-25T06:39:28.840Z"
   },
   {
    "duration": 101,
    "start_time": "2022-10-25T06:40:29.137Z"
   },
   {
    "duration": 36,
    "start_time": "2022-10-25T06:42:02.923Z"
   },
   {
    "duration": 48,
    "start_time": "2022-10-25T06:47:50.714Z"
   },
   {
    "duration": 27,
    "start_time": "2022-10-25T06:47:56.580Z"
   },
   {
    "duration": 32,
    "start_time": "2022-10-25T06:48:00.561Z"
   },
   {
    "duration": 3,
    "start_time": "2022-10-25T06:52:32.899Z"
   },
   {
    "duration": 3,
    "start_time": "2022-10-25T06:52:38.169Z"
   },
   {
    "duration": 58877,
    "start_time": "2022-10-25T06:52:39.673Z"
   },
   {
    "duration": 3,
    "start_time": "2022-10-25T06:53:43.499Z"
   },
   {
    "duration": 16,
    "start_time": "2022-10-25T06:53:47.840Z"
   },
   {
    "duration": 19,
    "start_time": "2022-10-25T06:54:20.164Z"
   },
   {
    "duration": 6,
    "start_time": "2022-10-25T06:54:21.311Z"
   },
   {
    "duration": 32,
    "start_time": "2022-10-25T06:54:24.589Z"
   },
   {
    "duration": 10,
    "start_time": "2022-10-25T06:54:25.451Z"
   },
   {
    "duration": 6,
    "start_time": "2022-10-25T06:54:34.775Z"
   },
   {
    "duration": 3,
    "start_time": "2022-10-25T06:54:35.556Z"
   },
   {
    "duration": 9,
    "start_time": "2022-10-25T06:54:38.391Z"
   },
   {
    "duration": 7,
    "start_time": "2022-10-25T06:54:41.079Z"
   },
   {
    "duration": 6,
    "start_time": "2022-10-25T06:54:41.887Z"
   },
   {
    "duration": 19,
    "start_time": "2022-10-25T06:54:49.022Z"
   },
   {
    "duration": 8,
    "start_time": "2022-10-25T06:54:52.664Z"
   },
   {
    "duration": 22,
    "start_time": "2022-10-25T06:54:56.550Z"
   },
   {
    "duration": 47,
    "start_time": "2022-10-25T06:54:58.897Z"
   },
   {
    "duration": 66,
    "start_time": "2022-10-25T06:55:00.963Z"
   },
   {
    "duration": 4,
    "start_time": "2022-10-25T06:55:05.559Z"
   },
   {
    "duration": 3,
    "start_time": "2022-10-25T06:55:06.776Z"
   },
   {
    "duration": 132578,
    "start_time": "2022-10-25T06:55:09.879Z"
   },
   {
    "duration": 4,
    "start_time": "2022-10-25T06:57:27.367Z"
   },
   {
    "duration": 16,
    "start_time": "2022-10-25T06:57:31.399Z"
   },
   {
    "duration": 40,
    "start_time": "2022-10-25T06:58:15.048Z"
   },
   {
    "duration": 4,
    "start_time": "2022-10-25T06:58:17.052Z"
   },
   {
    "duration": 20,
    "start_time": "2022-10-25T06:58:17.774Z"
   },
   {
    "duration": 38,
    "start_time": "2022-10-25T06:58:41.660Z"
   },
   {
    "duration": 5,
    "start_time": "2022-10-25T06:58:43.138Z"
   },
   {
    "duration": 44,
    "start_time": "2022-10-25T06:58:44.110Z"
   },
   {
    "duration": 12,
    "start_time": "2022-10-25T06:58:45.386Z"
   },
   {
    "duration": 6,
    "start_time": "2022-10-25T06:58:46.907Z"
   },
   {
    "duration": 3,
    "start_time": "2022-10-25T06:58:47.657Z"
   },
   {
    "duration": 10,
    "start_time": "2022-10-25T06:58:49.639Z"
   },
   {
    "duration": 6,
    "start_time": "2022-10-25T06:58:51.087Z"
   },
   {
    "duration": 6,
    "start_time": "2022-10-25T06:58:52.087Z"
   },
   {
    "duration": 5,
    "start_time": "2022-10-25T06:58:53.789Z"
   },
   {
    "duration": 5,
    "start_time": "2022-10-25T06:58:57.561Z"
   },
   {
    "duration": 15,
    "start_time": "2022-10-25T06:59:11.812Z"
   },
   {
    "duration": 53,
    "start_time": "2022-10-25T06:59:13.564Z"
   },
   {
    "duration": 34,
    "start_time": "2022-10-25T06:59:17.730Z"
   },
   {
    "duration": 5,
    "start_time": "2022-10-25T06:59:21.929Z"
   },
   {
    "duration": 4,
    "start_time": "2022-10-25T06:59:22.799Z"
   },
   {
    "duration": 23434,
    "start_time": "2022-10-25T06:59:24.299Z"
   },
   {
    "duration": 4,
    "start_time": "2022-10-25T06:59:55.020Z"
   },
   {
    "duration": 9,
    "start_time": "2022-10-25T06:59:56.970Z"
   },
   {
    "duration": 1477,
    "start_time": "2022-10-25T09:05:24.136Z"
   },
   {
    "duration": 79,
    "start_time": "2022-10-25T09:05:25.615Z"
   },
   {
    "duration": 16,
    "start_time": "2022-10-25T09:05:25.696Z"
   },
   {
    "duration": 14,
    "start_time": "2022-10-25T09:05:25.713Z"
   },
   {
    "duration": 7,
    "start_time": "2022-10-25T09:05:25.729Z"
   },
   {
    "duration": 8,
    "start_time": "2022-10-25T09:05:25.737Z"
   },
   {
    "duration": 19,
    "start_time": "2022-10-25T09:05:25.746Z"
   },
   {
    "duration": 37,
    "start_time": "2022-10-25T09:05:25.766Z"
   },
   {
    "duration": 6,
    "start_time": "2022-10-25T09:05:25.805Z"
   },
   {
    "duration": 12,
    "start_time": "2022-10-25T09:05:25.813Z"
   },
   {
    "duration": 7,
    "start_time": "2022-10-25T09:05:25.826Z"
   },
   {
    "duration": 7,
    "start_time": "2022-10-25T09:05:25.834Z"
   },
   {
    "duration": 14,
    "start_time": "2022-10-25T09:05:25.843Z"
   },
   {
    "duration": 7,
    "start_time": "2022-10-25T09:05:25.860Z"
   },
   {
    "duration": 39,
    "start_time": "2022-10-25T09:05:25.868Z"
   },
   {
    "duration": 19,
    "start_time": "2022-10-25T09:05:25.909Z"
   },
   {
    "duration": 5,
    "start_time": "2022-10-25T09:05:25.930Z"
   },
   {
    "duration": 6,
    "start_time": "2022-10-25T09:05:25.936Z"
   },
   {
    "duration": 12,
    "start_time": "2022-10-25T09:05:25.943Z"
   },
   {
    "duration": 46,
    "start_time": "2022-10-25T09:05:25.957Z"
   },
   {
    "duration": 12,
    "start_time": "2022-10-25T09:05:26.004Z"
   },
   {
    "duration": 258,
    "start_time": "2022-10-25T09:05:26.018Z"
   },
   {
    "duration": 11,
    "start_time": "2022-10-25T09:05:26.277Z"
   },
   {
    "duration": 235,
    "start_time": "2022-10-25T09:05:26.289Z"
   },
   {
    "duration": 291,
    "start_time": "2022-10-25T09:05:26.526Z"
   },
   {
    "duration": 4,
    "start_time": "2022-10-25T09:05:26.819Z"
   },
   {
    "duration": 14,
    "start_time": "2022-10-25T09:05:26.824Z"
   },
   {
    "duration": 29,
    "start_time": "2022-10-25T09:05:26.839Z"
   },
   {
    "duration": 36,
    "start_time": "2022-10-25T09:05:26.869Z"
   },
   {
    "duration": 39,
    "start_time": "2022-10-25T09:05:26.907Z"
   },
   {
    "duration": 5,
    "start_time": "2022-10-25T09:05:26.947Z"
   },
   {
    "duration": 54,
    "start_time": "2022-10-25T09:05:26.953Z"
   },
   {
    "duration": 11,
    "start_time": "2022-10-25T09:05:27.009Z"
   },
   {
    "duration": 7,
    "start_time": "2022-10-25T09:05:27.021Z"
   },
   {
    "duration": 9,
    "start_time": "2022-10-25T09:05:27.029Z"
   },
   {
    "duration": 20,
    "start_time": "2022-10-25T09:05:27.040Z"
   },
   {
    "duration": 6,
    "start_time": "2022-10-25T09:05:27.062Z"
   },
   {
    "duration": 32,
    "start_time": "2022-10-25T09:05:27.070Z"
   },
   {
    "duration": 6,
    "start_time": "2022-10-25T09:05:27.104Z"
   },
   {
    "duration": 15,
    "start_time": "2022-10-25T09:05:27.112Z"
   },
   {
    "duration": 18,
    "start_time": "2022-10-25T09:05:27.132Z"
   },
   {
    "duration": 53,
    "start_time": "2022-10-25T09:05:27.152Z"
   },
   {
    "duration": 27,
    "start_time": "2022-10-25T09:05:27.206Z"
   },
   {
    "duration": 4,
    "start_time": "2022-10-25T09:05:27.301Z"
   },
   {
    "duration": 93,
    "start_time": "2022-10-25T09:05:27.308Z"
   },
   {
    "duration": 16204,
    "start_time": "2022-10-25T09:05:27.403Z"
   },
   {
    "duration": 94,
    "start_time": "2022-10-25T09:05:43.608Z"
   },
   {
    "duration": 106,
    "start_time": "2022-10-25T09:05:43.703Z"
   },
   {
    "duration": 56,
    "start_time": "2022-10-25T09:07:32.426Z"
   },
   {
    "duration": 5,
    "start_time": "2022-10-25T09:07:40.933Z"
   },
   {
    "duration": 123,
    "start_time": "2022-10-25T09:10:31.696Z"
   },
   {
    "duration": 633,
    "start_time": "2022-10-25T09:10:42.676Z"
   },
   {
    "duration": 765,
    "start_time": "2022-10-25T09:10:53.940Z"
   },
   {
    "duration": 571,
    "start_time": "2022-10-25T09:11:11.931Z"
   },
   {
    "duration": 4,
    "start_time": "2022-10-25T09:11:31.527Z"
   },
   {
    "duration": 644,
    "start_time": "2022-10-25T09:14:57.761Z"
   },
   {
    "duration": 4,
    "start_time": "2022-10-25T09:15:21.019Z"
   },
   {
    "duration": 533,
    "start_time": "2022-10-25T09:15:27.069Z"
   },
   {
    "duration": 606,
    "start_time": "2022-10-25T09:15:49.602Z"
   },
   {
    "duration": 1231,
    "start_time": "2022-10-25T09:16:03.172Z"
   },
   {
    "duration": 626,
    "start_time": "2022-10-25T09:16:28.779Z"
   },
   {
    "duration": 298,
    "start_time": "2022-10-25T09:16:34.706Z"
   },
   {
    "duration": 793,
    "start_time": "2022-10-25T09:16:40.408Z"
   },
   {
    "duration": 400,
    "start_time": "2022-10-25T09:16:45.311Z"
   },
   {
    "duration": 235,
    "start_time": "2022-10-25T09:16:50.874Z"
   },
   {
    "duration": 254,
    "start_time": "2022-10-25T09:16:55.946Z"
   },
   {
    "duration": 30,
    "start_time": "2022-10-25T09:17:00.409Z"
   },
   {
    "duration": 296,
    "start_time": "2022-10-25T09:17:13.908Z"
   },
   {
    "duration": 162,
    "start_time": "2022-10-25T09:18:10.640Z"
   },
   {
    "duration": 290,
    "start_time": "2022-10-25T09:18:44.011Z"
   },
   {
    "duration": 462,
    "start_time": "2022-10-25T09:19:01.445Z"
   },
   {
    "duration": 36,
    "start_time": "2022-10-25T09:19:12.675Z"
   },
   {
    "duration": 9,
    "start_time": "2022-10-25T09:19:20.281Z"
   },
   {
    "duration": 40,
    "start_time": "2022-10-25T09:19:25.564Z"
   },
   {
    "duration": 26,
    "start_time": "2022-10-25T09:19:32.696Z"
   },
   {
    "duration": 3,
    "start_time": "2022-10-25T09:19:42.535Z"
   },
   {
    "duration": 2,
    "start_time": "2022-10-25T09:19:43.266Z"
   },
   {
    "duration": 17444,
    "start_time": "2022-10-25T09:19:43.966Z"
   },
   {
    "duration": 5,
    "start_time": "2022-10-25T09:20:04.225Z"
   },
   {
    "duration": 8,
    "start_time": "2022-10-25T09:20:06.114Z"
   },
   {
    "duration": 607,
    "start_time": "2022-10-25T09:20:24.794Z"
   },
   {
    "duration": 245,
    "start_time": "2022-10-25T09:20:30.156Z"
   },
   {
    "duration": 192,
    "start_time": "2022-10-25T09:20:34.112Z"
   },
   {
    "duration": 3,
    "start_time": "2022-10-25T09:24:17.955Z"
   },
   {
    "duration": 9646,
    "start_time": "2022-10-25T09:24:19.255Z"
   },
   {
    "duration": 3,
    "start_time": "2022-10-25T09:24:31.327Z"
   },
   {
    "duration": 7,
    "start_time": "2022-10-25T09:24:33.074Z"
   },
   {
    "duration": 3,
    "start_time": "2022-10-25T09:24:36.818Z"
   },
   {
    "duration": 9529,
    "start_time": "2022-10-25T09:25:42.255Z"
   },
   {
    "duration": 9,
    "start_time": "2022-10-25T09:26:07.905Z"
   },
   {
    "duration": 8,
    "start_time": "2022-10-25T09:26:31.766Z"
   },
   {
    "duration": 3,
    "start_time": "2022-10-25T09:27:03.395Z"
   },
   {
    "duration": 9493,
    "start_time": "2022-10-25T09:27:04.502Z"
   },
   {
    "duration": 9508,
    "start_time": "2022-10-25T09:27:28.665Z"
   },
   {
    "duration": 6,
    "start_time": "2022-10-25T14:59:20.110Z"
   },
   {
    "duration": 117704,
    "start_time": "2022-10-25T15:01:30.562Z"
   },
   {
    "duration": 61,
    "start_time": "2022-10-25T15:05:15.200Z"
   },
   {
    "duration": 31736,
    "start_time": "2022-10-25T15:05:35.999Z"
   },
   {
    "duration": 22782,
    "start_time": "2022-10-25T15:06:34.798Z"
   },
   {
    "duration": 32480,
    "start_time": "2022-10-25T15:07:07.840Z"
   },
   {
    "duration": 11654,
    "start_time": "2022-10-25T15:07:56.620Z"
   },
   {
    "duration": 232429,
    "start_time": "2022-10-25T15:08:21.891Z"
   },
   {
    "duration": 14173,
    "start_time": "2022-10-25T15:13:35.137Z"
   },
   {
    "duration": 28838,
    "start_time": "2022-10-25T15:14:07.713Z"
   },
   {
    "duration": 3071014,
    "start_time": "2022-10-25T15:18:59.982Z"
   },
   {
    "duration": 14,
    "start_time": "2022-10-25T16:19:33.056Z"
   },
   {
    "duration": 48,
    "start_time": "2022-10-25T16:19:33.073Z"
   },
   {
    "duration": 14,
    "start_time": "2022-10-25T16:19:33.123Z"
   },
   {
    "duration": 28,
    "start_time": "2022-10-25T16:19:33.138Z"
   },
   {
    "duration": 14,
    "start_time": "2022-10-25T16:19:33.171Z"
   },
   {
    "duration": 18,
    "start_time": "2022-10-25T16:19:33.187Z"
   },
   {
    "duration": 26,
    "start_time": "2022-10-25T16:19:33.207Z"
   },
   {
    "duration": 8,
    "start_time": "2022-10-25T16:19:33.234Z"
   },
   {
    "duration": 12,
    "start_time": "2022-10-25T16:19:33.265Z"
   },
   {
    "duration": 13,
    "start_time": "2022-10-25T16:19:33.279Z"
   },
   {
    "duration": 12,
    "start_time": "2022-10-25T16:19:33.294Z"
   },
   {
    "duration": 12,
    "start_time": "2022-10-25T16:19:33.308Z"
   },
   {
    "duration": 42,
    "start_time": "2022-10-25T16:19:33.324Z"
   },
   {
    "duration": 14,
    "start_time": "2022-10-25T16:19:33.368Z"
   },
   {
    "duration": 15,
    "start_time": "2022-10-25T16:19:33.384Z"
   },
   {
    "duration": 23,
    "start_time": "2022-10-25T16:19:33.402Z"
   },
   {
    "duration": 9,
    "start_time": "2022-10-25T16:19:33.460Z"
   },
   {
    "duration": 8,
    "start_time": "2022-10-25T16:19:33.470Z"
   },
   {
    "duration": 18,
    "start_time": "2022-10-25T16:19:33.480Z"
   },
   {
    "duration": 9,
    "start_time": "2022-10-25T16:19:33.500Z"
   },
   {
    "duration": 15,
    "start_time": "2022-10-25T16:19:33.511Z"
   },
   {
    "duration": 280,
    "start_time": "2022-10-25T16:19:33.554Z"
   },
   {
    "duration": 23,
    "start_time": "2022-10-25T16:19:33.836Z"
   },
   {
    "duration": 280,
    "start_time": "2022-10-25T16:19:33.860Z"
   },
   {
    "duration": 293,
    "start_time": "2022-10-25T16:19:34.141Z"
   },
   {
    "duration": 4,
    "start_time": "2022-10-25T16:19:34.437Z"
   },
   {
    "duration": 46,
    "start_time": "2022-10-25T16:19:34.443Z"
   },
   {
    "duration": 18,
    "start_time": "2022-10-25T16:19:34.490Z"
   },
   {
    "duration": 42,
    "start_time": "2022-10-25T16:19:34.510Z"
   },
   {
    "duration": 56,
    "start_time": "2022-10-25T16:19:34.554Z"
   },
   {
    "duration": 6,
    "start_time": "2022-10-25T16:19:34.612Z"
   },
   {
    "duration": 48,
    "start_time": "2022-10-25T16:19:34.620Z"
   },
   {
    "duration": 13,
    "start_time": "2022-10-25T16:19:34.673Z"
   },
   {
    "duration": 8,
    "start_time": "2022-10-25T16:19:34.688Z"
   },
   {
    "duration": 5,
    "start_time": "2022-10-25T16:19:34.697Z"
   },
   {
    "duration": 13,
    "start_time": "2022-10-25T16:19:34.704Z"
   },
   {
    "duration": 42,
    "start_time": "2022-10-25T16:19:34.721Z"
   },
   {
    "duration": 6,
    "start_time": "2022-10-25T16:19:34.764Z"
   },
   {
    "duration": 7,
    "start_time": "2022-10-25T16:19:34.772Z"
   },
   {
    "duration": 9,
    "start_time": "2022-10-25T16:19:34.780Z"
   },
   {
    "duration": 14,
    "start_time": "2022-10-25T16:19:34.791Z"
   },
   {
    "duration": 73,
    "start_time": "2022-10-25T16:19:34.806Z"
   },
   {
    "duration": 76,
    "start_time": "2022-10-25T16:19:34.881Z"
   },
   {
    "duration": 10,
    "start_time": "2022-10-25T16:19:34.959Z"
   },
   {
    "duration": 127,
    "start_time": "2022-10-25T16:19:34.972Z"
   },
   {
    "duration": 16965,
    "start_time": "2022-10-25T16:19:35.101Z"
   },
   {
    "duration": 5,
    "start_time": "2022-10-25T16:19:52.069Z"
   },
   {
    "duration": 30,
    "start_time": "2022-10-25T16:19:52.162Z"
   },
   {
    "duration": 169,
    "start_time": "2022-10-25T16:19:52.194Z"
   },
   {
    "duration": 11252,
    "start_time": "2022-10-25T16:19:52.366Z"
   },
   {
    "duration": 8947,
    "start_time": "2022-10-25T16:20:03.620Z"
   },
   {
    "duration": 661986,
    "start_time": "2022-10-25T16:20:12.569Z"
   },
   {
    "duration": 0,
    "start_time": "2022-10-25T16:31:14.557Z"
   },
   {
    "duration": 7,
    "start_time": "2022-10-25T20:08:32.975Z"
   },
   {
    "duration": 2,
    "start_time": "2022-10-25T20:08:48.890Z"
   },
   {
    "duration": 8,
    "start_time": "2022-10-25T20:09:05.800Z"
   },
   {
    "duration": 1510,
    "start_time": "2022-10-25T20:09:15.263Z"
   },
   {
    "duration": 78,
    "start_time": "2022-10-25T20:09:16.775Z"
   },
   {
    "duration": 17,
    "start_time": "2022-10-25T20:09:16.855Z"
   },
   {
    "duration": 14,
    "start_time": "2022-10-25T20:09:16.874Z"
   },
   {
    "duration": 7,
    "start_time": "2022-10-25T20:09:16.889Z"
   },
   {
    "duration": 4,
    "start_time": "2022-10-25T20:09:16.898Z"
   },
   {
    "duration": 48,
    "start_time": "2022-10-25T20:09:16.904Z"
   },
   {
    "duration": 8,
    "start_time": "2022-10-25T20:09:16.954Z"
   },
   {
    "duration": 13,
    "start_time": "2022-10-25T20:09:16.964Z"
   },
   {
    "duration": 8,
    "start_time": "2022-10-25T20:09:16.981Z"
   },
   {
    "duration": 52,
    "start_time": "2022-10-25T20:09:16.991Z"
   },
   {
    "duration": 8,
    "start_time": "2022-10-25T20:09:17.044Z"
   },
   {
    "duration": 13,
    "start_time": "2022-10-25T20:09:17.054Z"
   },
   {
    "duration": 8,
    "start_time": "2022-10-25T20:09:17.069Z"
   },
   {
    "duration": 8,
    "start_time": "2022-10-25T20:09:17.079Z"
   },
   {
    "duration": 60,
    "start_time": "2022-10-25T20:09:17.088Z"
   },
   {
    "duration": 8,
    "start_time": "2022-10-25T20:09:17.150Z"
   },
   {
    "duration": 28,
    "start_time": "2022-10-25T20:09:17.160Z"
   },
   {
    "duration": 20,
    "start_time": "2022-10-25T20:09:17.190Z"
   },
   {
    "duration": 8,
    "start_time": "2022-10-25T20:09:17.212Z"
   },
   {
    "duration": 14,
    "start_time": "2022-10-25T20:09:17.238Z"
   },
   {
    "duration": 334,
    "start_time": "2022-10-25T20:09:17.254Z"
   },
   {
    "duration": 12,
    "start_time": "2022-10-25T20:09:17.591Z"
   },
   {
    "duration": 348,
    "start_time": "2022-10-25T20:09:17.605Z"
   },
   {
    "duration": 274,
    "start_time": "2022-10-25T20:09:17.955Z"
   },
   {
    "duration": 8,
    "start_time": "2022-10-25T20:09:18.231Z"
   },
   {
    "duration": 16,
    "start_time": "2022-10-25T20:09:18.240Z"
   },
   {
    "duration": 5,
    "start_time": "2022-10-25T20:09:18.259Z"
   },
   {
    "duration": 15,
    "start_time": "2022-10-25T20:09:18.265Z"
   },
   {
    "duration": 73,
    "start_time": "2022-10-25T20:09:18.282Z"
   },
   {
    "duration": 5,
    "start_time": "2022-10-25T20:09:18.357Z"
   },
   {
    "duration": 44,
    "start_time": "2022-10-25T20:09:18.363Z"
   },
   {
    "duration": 10,
    "start_time": "2022-10-25T20:09:18.409Z"
   },
   {
    "duration": 5,
    "start_time": "2022-10-25T20:09:18.438Z"
   },
   {
    "duration": 6,
    "start_time": "2022-10-25T20:09:18.445Z"
   },
   {
    "duration": 9,
    "start_time": "2022-10-25T20:09:18.452Z"
   },
   {
    "duration": 9,
    "start_time": "2022-10-25T20:09:18.463Z"
   },
   {
    "duration": 8,
    "start_time": "2022-10-25T20:09:18.474Z"
   },
   {
    "duration": 6,
    "start_time": "2022-10-25T20:09:18.483Z"
   },
   {
    "duration": 5,
    "start_time": "2022-10-25T20:09:18.490Z"
   },
   {
    "duration": 53,
    "start_time": "2022-10-25T20:09:18.497Z"
   },
   {
    "duration": 50,
    "start_time": "2022-10-25T20:09:18.552Z"
   },
   {
    "duration": 137,
    "start_time": "2022-10-25T20:09:18.603Z"
   },
   {
    "duration": 4,
    "start_time": "2022-10-25T20:09:18.742Z"
   },
   {
    "duration": 99,
    "start_time": "2022-10-25T20:09:18.747Z"
   },
   {
    "duration": 10101,
    "start_time": "2022-10-25T20:09:18.848Z"
   },
   {
    "duration": 4,
    "start_time": "2022-10-25T20:09:29.040Z"
   },
   {
    "duration": 103,
    "start_time": "2022-10-25T20:09:29.046Z"
   },
   {
    "duration": 99,
    "start_time": "2022-10-25T20:09:29.151Z"
   },
   {
    "duration": 10853,
    "start_time": "2022-10-25T20:09:29.254Z"
   },
   {
    "duration": 8661,
    "start_time": "2022-10-25T20:09:40.109Z"
   },
   {
    "duration": 3,
    "start_time": "2022-10-25T20:09:48.771Z"
   },
   {
    "duration": 54834,
    "start_time": "2022-10-25T20:09:48.775Z"
   },
   {
    "duration": 3,
    "start_time": "2022-10-25T20:10:43.610Z"
   },
   {
    "duration": 8614,
    "start_time": "2022-10-25T20:11:18.024Z"
   },
   {
    "duration": 483,
    "start_time": "2022-10-25T20:12:23.366Z"
   },
   {
    "duration": 71,
    "start_time": "2022-10-25T20:27:48.020Z"
   },
   {
    "duration": 5,
    "start_time": "2022-10-25T20:27:56.088Z"
   },
   {
    "duration": 5,
    "start_time": "2022-10-25T20:28:12.584Z"
   },
   {
    "duration": 6,
    "start_time": "2022-10-25T20:28:16.115Z"
   },
   {
    "duration": 4,
    "start_time": "2022-10-25T20:38:25.185Z"
   },
   {
    "duration": 11,
    "start_time": "2022-10-25T20:39:18.908Z"
   },
   {
    "duration": 4,
    "start_time": "2022-10-25T20:39:34.837Z"
   },
   {
    "duration": 6,
    "start_time": "2022-10-25T20:39:43.104Z"
   },
   {
    "duration": 9,
    "start_time": "2022-10-25T20:40:13.883Z"
   },
   {
    "duration": 12,
    "start_time": "2022-10-25T20:40:43.068Z"
   },
   {
    "duration": 11,
    "start_time": "2022-10-25T20:41:02.251Z"
   },
   {
    "duration": 4,
    "start_time": "2022-10-25T20:41:29.403Z"
   },
   {
    "duration": 134,
    "start_time": "2022-10-25T20:41:52.744Z"
   },
   {
    "duration": 1552,
    "start_time": "2022-10-26T04:42:32.560Z"
   },
   {
    "duration": 83,
    "start_time": "2022-10-26T04:42:34.114Z"
   },
   {
    "duration": 17,
    "start_time": "2022-10-26T04:42:34.199Z"
   },
   {
    "duration": 15,
    "start_time": "2022-10-26T04:42:34.218Z"
   },
   {
    "duration": 6,
    "start_time": "2022-10-26T04:42:34.234Z"
   },
   {
    "duration": 11,
    "start_time": "2022-10-26T04:42:34.242Z"
   },
   {
    "duration": 24,
    "start_time": "2022-10-26T04:42:34.254Z"
   },
   {
    "duration": 7,
    "start_time": "2022-10-26T04:42:34.280Z"
   },
   {
    "duration": 12,
    "start_time": "2022-10-26T04:42:34.289Z"
   },
   {
    "duration": 10,
    "start_time": "2022-10-26T04:42:34.305Z"
   },
   {
    "duration": 9,
    "start_time": "2022-10-26T04:42:34.316Z"
   },
   {
    "duration": 7,
    "start_time": "2022-10-26T04:42:34.353Z"
   },
   {
    "duration": 8,
    "start_time": "2022-10-26T04:42:34.361Z"
   },
   {
    "duration": 14,
    "start_time": "2022-10-26T04:42:34.370Z"
   },
   {
    "duration": 12,
    "start_time": "2022-10-26T04:42:34.386Z"
   },
   {
    "duration": 8,
    "start_time": "2022-10-26T04:42:34.399Z"
   },
   {
    "duration": 49,
    "start_time": "2022-10-26T04:42:34.409Z"
   },
   {
    "duration": 5,
    "start_time": "2022-10-26T04:42:34.460Z"
   },
   {
    "duration": 17,
    "start_time": "2022-10-26T04:42:34.467Z"
   },
   {
    "duration": 15,
    "start_time": "2022-10-26T04:42:34.485Z"
   },
   {
    "duration": 7,
    "start_time": "2022-10-26T04:42:34.502Z"
   },
   {
    "duration": 12,
    "start_time": "2022-10-26T04:42:34.510Z"
   },
   {
    "duration": 306,
    "start_time": "2022-10-26T04:42:34.524Z"
   },
   {
    "duration": 23,
    "start_time": "2022-10-26T04:42:34.831Z"
   },
   {
    "duration": 349,
    "start_time": "2022-10-26T04:42:34.856Z"
   },
   {
    "duration": 266,
    "start_time": "2022-10-26T04:42:35.207Z"
   },
   {
    "duration": 76,
    "start_time": "2022-10-26T04:42:35.475Z"
   },
   {
    "duration": 0,
    "start_time": "2022-10-26T04:42:35.554Z"
   },
   {
    "duration": 0,
    "start_time": "2022-10-26T04:42:35.555Z"
   },
   {
    "duration": 0,
    "start_time": "2022-10-26T04:42:35.557Z"
   },
   {
    "duration": 0,
    "start_time": "2022-10-26T04:42:35.558Z"
   },
   {
    "duration": 0,
    "start_time": "2022-10-26T04:42:35.559Z"
   },
   {
    "duration": 0,
    "start_time": "2022-10-26T04:42:35.563Z"
   },
   {
    "duration": 0,
    "start_time": "2022-10-26T04:42:35.565Z"
   },
   {
    "duration": 1,
    "start_time": "2022-10-26T04:42:35.566Z"
   },
   {
    "duration": 0,
    "start_time": "2022-10-26T04:42:35.568Z"
   },
   {
    "duration": 0,
    "start_time": "2022-10-26T04:42:35.569Z"
   },
   {
    "duration": 0,
    "start_time": "2022-10-26T04:42:35.571Z"
   },
   {
    "duration": 0,
    "start_time": "2022-10-26T04:42:35.573Z"
   },
   {
    "duration": 0,
    "start_time": "2022-10-26T04:42:35.574Z"
   },
   {
    "duration": 0,
    "start_time": "2022-10-26T04:42:35.575Z"
   },
   {
    "duration": 0,
    "start_time": "2022-10-26T04:42:35.576Z"
   },
   {
    "duration": 0,
    "start_time": "2022-10-26T04:42:35.577Z"
   },
   {
    "duration": 0,
    "start_time": "2022-10-26T04:42:35.577Z"
   },
   {
    "duration": 0,
    "start_time": "2022-10-26T04:42:35.578Z"
   },
   {
    "duration": 0,
    "start_time": "2022-10-26T04:42:35.579Z"
   },
   {
    "duration": 0,
    "start_time": "2022-10-26T04:42:35.580Z"
   },
   {
    "duration": 0,
    "start_time": "2022-10-26T04:42:35.580Z"
   },
   {
    "duration": 0,
    "start_time": "2022-10-26T04:42:35.581Z"
   },
   {
    "duration": 0,
    "start_time": "2022-10-26T04:42:35.581Z"
   },
   {
    "duration": 0,
    "start_time": "2022-10-26T04:42:35.582Z"
   },
   {
    "duration": 0,
    "start_time": "2022-10-26T04:42:35.587Z"
   },
   {
    "duration": 0,
    "start_time": "2022-10-26T04:42:35.591Z"
   },
   {
    "duration": 0,
    "start_time": "2022-10-26T04:42:35.597Z"
   },
   {
    "duration": 0,
    "start_time": "2022-10-26T04:42:35.598Z"
   },
   {
    "duration": 0,
    "start_time": "2022-10-26T04:42:35.600Z"
   },
   {
    "duration": 0,
    "start_time": "2022-10-26T04:42:35.602Z"
   },
   {
    "duration": 8,
    "start_time": "2022-10-26T04:43:50.326Z"
   },
   {
    "duration": 475,
    "start_time": "2022-10-26T04:43:59.413Z"
   },
   {
    "duration": 5,
    "start_time": "2022-10-26T04:44:21.210Z"
   },
   {
    "duration": 45,
    "start_time": "2022-10-26T04:44:21.217Z"
   },
   {
    "duration": 12,
    "start_time": "2022-10-26T04:44:21.264Z"
   },
   {
    "duration": 21,
    "start_time": "2022-10-26T04:44:21.278Z"
   },
   {
    "duration": 7,
    "start_time": "2022-10-26T04:44:21.300Z"
   },
   {
    "duration": 6,
    "start_time": "2022-10-26T04:44:21.308Z"
   },
   {
    "duration": 42,
    "start_time": "2022-10-26T04:44:21.315Z"
   },
   {
    "duration": 10,
    "start_time": "2022-10-26T04:44:21.359Z"
   },
   {
    "duration": 12,
    "start_time": "2022-10-26T04:44:21.371Z"
   },
   {
    "duration": 11,
    "start_time": "2022-10-26T04:44:21.386Z"
   },
   {
    "duration": 11,
    "start_time": "2022-10-26T04:44:21.399Z"
   },
   {
    "duration": 46,
    "start_time": "2022-10-26T04:44:21.411Z"
   },
   {
    "duration": 28,
    "start_time": "2022-10-26T04:44:21.460Z"
   },
   {
    "duration": 20,
    "start_time": "2022-10-26T04:44:21.490Z"
   },
   {
    "duration": 13,
    "start_time": "2022-10-26T04:44:21.512Z"
   },
   {
    "duration": 17,
    "start_time": "2022-10-26T04:44:21.527Z"
   },
   {
    "duration": 32,
    "start_time": "2022-10-26T04:44:21.546Z"
   },
   {
    "duration": 7,
    "start_time": "2022-10-26T04:44:21.580Z"
   },
   {
    "duration": 11,
    "start_time": "2022-10-26T04:44:21.590Z"
   },
   {
    "duration": 21,
    "start_time": "2022-10-26T04:44:21.603Z"
   },
   {
    "duration": 30,
    "start_time": "2022-10-26T04:44:21.626Z"
   },
   {
    "duration": 18,
    "start_time": "2022-10-26T04:44:21.659Z"
   },
   {
    "duration": 339,
    "start_time": "2022-10-26T04:44:21.679Z"
   },
   {
    "duration": 11,
    "start_time": "2022-10-26T04:44:22.019Z"
   },
   {
    "duration": 276,
    "start_time": "2022-10-26T04:44:22.032Z"
   },
   {
    "duration": 273,
    "start_time": "2022-10-26T04:44:22.310Z"
   },
   {
    "duration": 41,
    "start_time": "2022-10-26T04:44:22.585Z"
   },
   {
    "duration": 0,
    "start_time": "2022-10-26T04:44:22.629Z"
   },
   {
    "duration": 0,
    "start_time": "2022-10-26T04:44:22.630Z"
   },
   {
    "duration": 0,
    "start_time": "2022-10-26T04:44:22.632Z"
   },
   {
    "duration": 0,
    "start_time": "2022-10-26T04:44:22.633Z"
   },
   {
    "duration": 0,
    "start_time": "2022-10-26T04:44:22.635Z"
   },
   {
    "duration": 0,
    "start_time": "2022-10-26T04:44:22.636Z"
   },
   {
    "duration": 0,
    "start_time": "2022-10-26T04:44:22.638Z"
   },
   {
    "duration": 0,
    "start_time": "2022-10-26T04:44:22.639Z"
   },
   {
    "duration": 0,
    "start_time": "2022-10-26T04:44:22.640Z"
   },
   {
    "duration": 0,
    "start_time": "2022-10-26T04:44:22.642Z"
   },
   {
    "duration": 0,
    "start_time": "2022-10-26T04:44:22.643Z"
   },
   {
    "duration": 0,
    "start_time": "2022-10-26T04:44:22.645Z"
   },
   {
    "duration": 0,
    "start_time": "2022-10-26T04:44:22.646Z"
   },
   {
    "duration": 0,
    "start_time": "2022-10-26T04:44:22.648Z"
   },
   {
    "duration": 0,
    "start_time": "2022-10-26T04:44:22.649Z"
   },
   {
    "duration": 0,
    "start_time": "2022-10-26T04:44:22.650Z"
   },
   {
    "duration": 0,
    "start_time": "2022-10-26T04:44:22.656Z"
   },
   {
    "duration": 0,
    "start_time": "2022-10-26T04:44:22.657Z"
   },
   {
    "duration": 0,
    "start_time": "2022-10-26T04:44:22.658Z"
   },
   {
    "duration": 0,
    "start_time": "2022-10-26T04:44:22.660Z"
   },
   {
    "duration": 0,
    "start_time": "2022-10-26T04:44:22.661Z"
   },
   {
    "duration": 0,
    "start_time": "2022-10-26T04:44:22.661Z"
   },
   {
    "duration": 0,
    "start_time": "2022-10-26T04:44:22.663Z"
   },
   {
    "duration": 0,
    "start_time": "2022-10-26T04:44:22.664Z"
   },
   {
    "duration": 0,
    "start_time": "2022-10-26T04:44:22.665Z"
   },
   {
    "duration": 0,
    "start_time": "2022-10-26T04:44:22.667Z"
   },
   {
    "duration": 0,
    "start_time": "2022-10-26T04:44:22.668Z"
   },
   {
    "duration": 0,
    "start_time": "2022-10-26T04:44:22.669Z"
   },
   {
    "duration": 0,
    "start_time": "2022-10-26T04:44:22.670Z"
   },
   {
    "duration": 11,
    "start_time": "2022-10-26T04:44:30.456Z"
   },
   {
    "duration": 0,
    "start_time": "2022-10-26T04:44:30.469Z"
   },
   {
    "duration": 5,
    "start_time": "2022-10-26T04:44:51.369Z"
   },
   {
    "duration": 79,
    "start_time": "2022-10-26T04:44:51.379Z"
   },
   {
    "duration": 22,
    "start_time": "2022-10-26T04:44:51.461Z"
   },
   {
    "duration": 66,
    "start_time": "2022-10-26T04:44:51.485Z"
   },
   {
    "duration": 42,
    "start_time": "2022-10-26T04:44:51.554Z"
   },
   {
    "duration": 20,
    "start_time": "2022-10-26T04:44:51.599Z"
   },
   {
    "duration": 49,
    "start_time": "2022-10-26T04:44:51.621Z"
   },
   {
    "duration": 26,
    "start_time": "2022-10-26T04:44:51.672Z"
   },
   {
    "duration": 32,
    "start_time": "2022-10-26T04:44:51.701Z"
   },
   {
    "duration": 43,
    "start_time": "2022-10-26T04:44:51.735Z"
   },
   {
    "duration": 30,
    "start_time": "2022-10-26T04:44:51.780Z"
   },
   {
    "duration": 15,
    "start_time": "2022-10-26T04:44:51.812Z"
   },
   {
    "duration": 24,
    "start_time": "2022-10-26T04:44:51.829Z"
   },
   {
    "duration": 31,
    "start_time": "2022-10-26T04:44:51.855Z"
   },
   {
    "duration": 24,
    "start_time": "2022-10-26T04:44:51.890Z"
   },
   {
    "duration": 13,
    "start_time": "2022-10-26T04:44:51.915Z"
   },
   {
    "duration": 26,
    "start_time": "2022-10-26T04:44:51.930Z"
   },
   {
    "duration": 8,
    "start_time": "2022-10-26T04:44:51.958Z"
   },
   {
    "duration": 30,
    "start_time": "2022-10-26T04:44:51.968Z"
   },
   {
    "duration": 31,
    "start_time": "2022-10-26T04:44:52.000Z"
   },
   {
    "duration": 17,
    "start_time": "2022-10-26T04:44:52.033Z"
   },
   {
    "duration": 20,
    "start_time": "2022-10-26T04:44:52.051Z"
   },
   {
    "duration": 302,
    "start_time": "2022-10-26T04:44:52.073Z"
   },
   {
    "duration": 11,
    "start_time": "2022-10-26T04:44:52.377Z"
   },
   {
    "duration": 434,
    "start_time": "2022-10-26T04:44:52.391Z"
   },
   {
    "duration": 275,
    "start_time": "2022-10-26T04:44:52.826Z"
   },
   {
    "duration": 47,
    "start_time": "2022-10-26T04:44:53.103Z"
   },
   {
    "duration": 0,
    "start_time": "2022-10-26T04:44:53.152Z"
   },
   {
    "duration": 1,
    "start_time": "2022-10-26T04:44:53.153Z"
   },
   {
    "duration": 0,
    "start_time": "2022-10-26T04:44:53.155Z"
   },
   {
    "duration": 0,
    "start_time": "2022-10-26T04:44:53.156Z"
   },
   {
    "duration": 0,
    "start_time": "2022-10-26T04:44:53.157Z"
   },
   {
    "duration": 0,
    "start_time": "2022-10-26T04:44:53.158Z"
   },
   {
    "duration": 0,
    "start_time": "2022-10-26T04:44:53.159Z"
   },
   {
    "duration": 0,
    "start_time": "2022-10-26T04:44:53.160Z"
   },
   {
    "duration": 0,
    "start_time": "2022-10-26T04:44:53.161Z"
   },
   {
    "duration": 0,
    "start_time": "2022-10-26T04:44:53.162Z"
   },
   {
    "duration": 0,
    "start_time": "2022-10-26T04:44:53.163Z"
   },
   {
    "duration": 0,
    "start_time": "2022-10-26T04:44:53.164Z"
   },
   {
    "duration": 0,
    "start_time": "2022-10-26T04:44:53.165Z"
   },
   {
    "duration": 0,
    "start_time": "2022-10-26T04:44:53.166Z"
   },
   {
    "duration": 0,
    "start_time": "2022-10-26T04:44:53.167Z"
   },
   {
    "duration": 0,
    "start_time": "2022-10-26T04:44:53.168Z"
   },
   {
    "duration": 0,
    "start_time": "2022-10-26T04:44:53.169Z"
   },
   {
    "duration": 0,
    "start_time": "2022-10-26T04:44:53.170Z"
   },
   {
    "duration": 0,
    "start_time": "2022-10-26T04:44:53.171Z"
   },
   {
    "duration": 0,
    "start_time": "2022-10-26T04:44:53.172Z"
   },
   {
    "duration": 0,
    "start_time": "2022-10-26T04:44:53.173Z"
   },
   {
    "duration": 0,
    "start_time": "2022-10-26T04:44:53.174Z"
   },
   {
    "duration": 0,
    "start_time": "2022-10-26T04:44:53.175Z"
   },
   {
    "duration": 0,
    "start_time": "2022-10-26T04:44:53.176Z"
   },
   {
    "duration": 1,
    "start_time": "2022-10-26T04:44:53.177Z"
   },
   {
    "duration": 0,
    "start_time": "2022-10-26T04:44:53.178Z"
   },
   {
    "duration": 0,
    "start_time": "2022-10-26T04:44:53.179Z"
   },
   {
    "duration": 0,
    "start_time": "2022-10-26T04:44:53.180Z"
   },
   {
    "duration": 0,
    "start_time": "2022-10-26T04:44:53.181Z"
   },
   {
    "duration": 0,
    "start_time": "2022-10-26T04:44:53.183Z"
   },
   {
    "duration": 10,
    "start_time": "2022-10-26T04:45:04.126Z"
   },
   {
    "duration": 351,
    "start_time": "2022-10-26T04:45:07.936Z"
   },
   {
    "duration": 283,
    "start_time": "2022-10-26T04:45:15.492Z"
   },
   {
    "duration": 49,
    "start_time": "2022-10-26T04:45:18.609Z"
   },
   {
    "duration": 6,
    "start_time": "2022-10-26T04:45:22.088Z"
   },
   {
    "duration": 12,
    "start_time": "2022-10-26T04:45:24.168Z"
   },
   {
    "duration": 6,
    "start_time": "2022-10-26T04:45:46.088Z"
   },
   {
    "duration": 39,
    "start_time": "2022-10-26T04:45:47.757Z"
   },
   {
    "duration": 4,
    "start_time": "2022-10-26T04:45:49.409Z"
   },
   {
    "duration": 33,
    "start_time": "2022-10-26T04:45:52.526Z"
   },
   {
    "duration": 6,
    "start_time": "2022-10-26T04:45:53.768Z"
   },
   {
    "duration": 3,
    "start_time": "2022-10-26T04:45:54.488Z"
   },
   {
    "duration": 10,
    "start_time": "2022-10-26T04:45:56.367Z"
   },
   {
    "duration": 7,
    "start_time": "2022-10-26T04:45:58.047Z"
   },
   {
    "duration": 6,
    "start_time": "2022-10-26T04:46:00.047Z"
   },
   {
    "duration": 7,
    "start_time": "2022-10-26T04:46:11.910Z"
   },
   {
    "duration": 6,
    "start_time": "2022-10-26T04:46:19.617Z"
   },
   {
    "duration": 14,
    "start_time": "2022-10-26T04:46:23.726Z"
   },
   {
    "duration": 38,
    "start_time": "2022-10-26T04:46:25.730Z"
   },
   {
    "duration": 27,
    "start_time": "2022-10-26T04:46:28.208Z"
   },
   {
    "duration": 4,
    "start_time": "2022-10-26T04:46:31.607Z"
   },
   {
    "duration": 3,
    "start_time": "2022-10-26T04:46:33.687Z"
   },
   {
    "duration": 9016,
    "start_time": "2022-10-26T04:46:34.149Z"
   },
   {
    "duration": 4,
    "start_time": "2022-10-26T04:46:43.255Z"
   },
   {
    "duration": 8,
    "start_time": "2022-10-26T04:46:46.410Z"
   },
   {
    "duration": 3,
    "start_time": "2022-10-26T04:46:59.743Z"
   },
   {
    "duration": 10815,
    "start_time": "2022-10-26T04:47:01.817Z"
   },
   {
    "duration": 8668,
    "start_time": "2022-10-26T04:47:17.201Z"
   },
   {
    "duration": 55593,
    "start_time": "2022-10-26T04:47:38.374Z"
   },
   {
    "duration": 8734,
    "start_time": "2022-10-26T04:48:38.897Z"
   },
   {
    "duration": 495,
    "start_time": "2022-10-26T04:48:57.406Z"
   },
   {
    "duration": 510,
    "start_time": "2022-10-26T04:49:17.017Z"
   },
   {
    "duration": 5,
    "start_time": "2022-10-26T04:49:23.895Z"
   },
   {
    "duration": 146,
    "start_time": "2022-10-26T04:49:25.048Z"
   },
   {
    "duration": 1725,
    "start_time": "2022-10-26T13:31:34.941Z"
   },
   {
    "duration": 80,
    "start_time": "2022-10-26T13:31:36.668Z"
   },
   {
    "duration": 18,
    "start_time": "2022-10-26T13:31:36.749Z"
   },
   {
    "duration": 13,
    "start_time": "2022-10-26T13:31:36.770Z"
   },
   {
    "duration": 6,
    "start_time": "2022-10-26T13:31:36.785Z"
   },
   {
    "duration": 21,
    "start_time": "2022-10-26T13:31:36.793Z"
   },
   {
    "duration": 33,
    "start_time": "2022-10-26T13:31:36.816Z"
   },
   {
    "duration": 10,
    "start_time": "2022-10-26T13:31:36.851Z"
   },
   {
    "duration": 17,
    "start_time": "2022-10-26T13:31:36.863Z"
   },
   {
    "duration": 9,
    "start_time": "2022-10-26T13:31:36.883Z"
   },
   {
    "duration": 12,
    "start_time": "2022-10-26T13:31:36.893Z"
   },
   {
    "duration": 11,
    "start_time": "2022-10-26T13:31:36.906Z"
   },
   {
    "duration": 19,
    "start_time": "2022-10-26T13:31:36.920Z"
   },
   {
    "duration": 16,
    "start_time": "2022-10-26T13:31:36.941Z"
   },
   {
    "duration": 23,
    "start_time": "2022-10-26T13:31:36.959Z"
   },
   {
    "duration": 23,
    "start_time": "2022-10-26T13:31:36.984Z"
   },
   {
    "duration": 39,
    "start_time": "2022-10-26T13:31:37.008Z"
   },
   {
    "duration": 5,
    "start_time": "2022-10-26T13:31:37.049Z"
   },
   {
    "duration": 10,
    "start_time": "2022-10-26T13:31:37.056Z"
   },
   {
    "duration": 23,
    "start_time": "2022-10-26T13:31:37.067Z"
   },
   {
    "duration": 8,
    "start_time": "2022-10-26T13:31:37.092Z"
   },
   {
    "duration": 19,
    "start_time": "2022-10-26T13:31:37.103Z"
   },
   {
    "duration": 283,
    "start_time": "2022-10-26T13:31:37.123Z"
   },
   {
    "duration": 11,
    "start_time": "2022-10-26T13:31:37.408Z"
   },
   {
    "duration": 365,
    "start_time": "2022-10-26T13:31:37.420Z"
   },
   {
    "duration": 277,
    "start_time": "2022-10-26T13:31:37.787Z"
   },
   {
    "duration": 11,
    "start_time": "2022-10-26T13:31:38.066Z"
   },
   {
    "duration": 12,
    "start_time": "2022-10-26T13:31:38.081Z"
   },
   {
    "duration": 9,
    "start_time": "2022-10-26T13:31:38.094Z"
   },
   {
    "duration": 42,
    "start_time": "2022-10-26T13:31:38.105Z"
   },
   {
    "duration": 5,
    "start_time": "2022-10-26T13:31:38.148Z"
   },
   {
    "duration": 49,
    "start_time": "2022-10-26T13:31:38.154Z"
   },
   {
    "duration": 6,
    "start_time": "2022-10-26T13:31:38.204Z"
   },
   {
    "duration": 8,
    "start_time": "2022-10-26T13:31:38.212Z"
   },
   {
    "duration": 10,
    "start_time": "2022-10-26T13:31:38.222Z"
   },
   {
    "duration": 8,
    "start_time": "2022-10-26T13:31:38.234Z"
   },
   {
    "duration": 6,
    "start_time": "2022-10-26T13:31:38.243Z"
   },
   {
    "duration": 5,
    "start_time": "2022-10-26T13:31:38.277Z"
   },
   {
    "duration": 10,
    "start_time": "2022-10-26T13:31:38.283Z"
   },
   {
    "duration": 15,
    "start_time": "2022-10-26T13:31:38.295Z"
   },
   {
    "duration": 38,
    "start_time": "2022-10-26T13:31:38.312Z"
   },
   {
    "duration": 42,
    "start_time": "2022-10-26T13:31:38.352Z"
   },
   {
    "duration": 3,
    "start_time": "2022-10-26T13:31:38.396Z"
   },
   {
    "duration": 109,
    "start_time": "2022-10-26T13:31:38.477Z"
   },
   {
    "duration": 8990,
    "start_time": "2022-10-26T13:31:38.587Z"
   },
   {
    "duration": 4,
    "start_time": "2022-10-26T13:31:47.579Z"
   },
   {
    "duration": 110,
    "start_time": "2022-10-26T13:31:47.585Z"
   },
   {
    "duration": 95,
    "start_time": "2022-10-26T13:31:47.697Z"
   },
   {
    "duration": 10820,
    "start_time": "2022-10-26T13:31:47.877Z"
   },
   {
    "duration": 9164,
    "start_time": "2022-10-26T13:31:58.699Z"
   },
   {
    "duration": 56071,
    "start_time": "2022-10-26T13:32:07.865Z"
   },
   {
    "duration": 8766,
    "start_time": "2022-10-26T13:33:03.937Z"
   },
   {
    "duration": 520,
    "start_time": "2022-10-26T13:33:12.705Z"
   },
   {
    "duration": 530,
    "start_time": "2022-10-26T13:33:13.228Z"
   },
   {
    "duration": 5,
    "start_time": "2022-10-26T13:33:13.759Z"
   },
   {
    "duration": 245,
    "start_time": "2022-10-26T13:33:13.765Z"
   },
   {
    "duration": 1630,
    "start_time": "2022-10-27T19:27:42.086Z"
   },
   {
    "duration": 80,
    "start_time": "2022-10-27T19:27:43.718Z"
   },
   {
    "duration": 17,
    "start_time": "2022-10-27T19:27:43.800Z"
   },
   {
    "duration": 14,
    "start_time": "2022-10-27T19:27:43.818Z"
   },
   {
    "duration": 7,
    "start_time": "2022-10-27T19:27:43.834Z"
   },
   {
    "duration": 9,
    "start_time": "2022-10-27T19:27:43.843Z"
   },
   {
    "duration": 35,
    "start_time": "2022-10-27T19:27:43.853Z"
   },
   {
    "duration": 8,
    "start_time": "2022-10-27T19:27:43.889Z"
   },
   {
    "duration": 19,
    "start_time": "2022-10-27T19:27:43.899Z"
   },
   {
    "duration": 12,
    "start_time": "2022-10-27T19:27:43.920Z"
   },
   {
    "duration": 8,
    "start_time": "2022-10-27T19:27:43.934Z"
   },
   {
    "duration": 6,
    "start_time": "2022-10-27T19:27:43.944Z"
   },
   {
    "duration": 25,
    "start_time": "2022-10-27T19:27:43.952Z"
   },
   {
    "duration": 15,
    "start_time": "2022-10-27T19:27:43.980Z"
   },
   {
    "duration": 9,
    "start_time": "2022-10-27T19:27:43.996Z"
   },
   {
    "duration": 12,
    "start_time": "2022-10-27T19:27:44.007Z"
   },
   {
    "duration": 24,
    "start_time": "2022-10-27T19:27:44.021Z"
   },
   {
    "duration": 31,
    "start_time": "2022-10-27T19:27:44.047Z"
   },
   {
    "duration": 10,
    "start_time": "2022-10-27T19:27:44.080Z"
   },
   {
    "duration": 16,
    "start_time": "2022-10-27T19:27:44.092Z"
   },
   {
    "duration": 8,
    "start_time": "2022-10-27T19:27:44.110Z"
   },
   {
    "duration": 12,
    "start_time": "2022-10-27T19:27:44.120Z"
   },
   {
    "duration": 308,
    "start_time": "2022-10-27T19:27:44.134Z"
   },
   {
    "duration": 12,
    "start_time": "2022-10-27T19:27:44.444Z"
   },
   {
    "duration": 386,
    "start_time": "2022-10-27T19:27:44.458Z"
   },
   {
    "duration": 276,
    "start_time": "2022-10-27T19:27:44.847Z"
   },
   {
    "duration": 4,
    "start_time": "2022-10-27T19:27:45.124Z"
   },
   {
    "duration": 17,
    "start_time": "2022-10-27T19:27:45.130Z"
   },
   {
    "duration": 11,
    "start_time": "2022-10-27T19:27:45.149Z"
   },
   {
    "duration": 64,
    "start_time": "2022-10-27T19:27:45.163Z"
   },
   {
    "duration": 6,
    "start_time": "2022-10-27T19:27:45.229Z"
   },
   {
    "duration": 57,
    "start_time": "2022-10-27T19:27:45.237Z"
   },
   {
    "duration": 9,
    "start_time": "2022-10-27T19:27:45.297Z"
   },
   {
    "duration": 18,
    "start_time": "2022-10-27T19:27:45.309Z"
   },
   {
    "duration": 16,
    "start_time": "2022-10-27T19:27:45.329Z"
   },
   {
    "duration": 14,
    "start_time": "2022-10-27T19:27:45.348Z"
   },
   {
    "duration": 16,
    "start_time": "2022-10-27T19:27:45.364Z"
   },
   {
    "duration": 5,
    "start_time": "2022-10-27T19:27:45.382Z"
   },
   {
    "duration": 16,
    "start_time": "2022-10-27T19:27:45.389Z"
   },
   {
    "duration": 15,
    "start_time": "2022-10-27T19:27:45.407Z"
   },
   {
    "duration": 61,
    "start_time": "2022-10-27T19:27:45.427Z"
   },
   {
    "duration": 27,
    "start_time": "2022-10-27T19:27:45.490Z"
   },
   {
    "duration": 3,
    "start_time": "2022-10-27T19:27:45.577Z"
   },
   {
    "duration": 99,
    "start_time": "2022-10-27T19:27:45.585Z"
   },
   {
    "duration": 10701,
    "start_time": "2022-10-27T19:27:45.685Z"
   },
   {
    "duration": 4,
    "start_time": "2022-10-27T19:27:56.478Z"
   },
   {
    "duration": 101,
    "start_time": "2022-10-27T19:27:56.483Z"
   },
   {
    "duration": 93,
    "start_time": "2022-10-27T19:27:56.586Z"
   },
   {
    "duration": 10264,
    "start_time": "2022-10-27T19:27:56.681Z"
   },
   {
    "duration": 8541,
    "start_time": "2022-10-27T19:28:06.947Z"
   },
   {
    "duration": 53613,
    "start_time": "2022-10-27T19:28:15.490Z"
   },
   {
    "duration": 8512,
    "start_time": "2022-10-27T19:29:09.106Z"
   },
   {
    "duration": 516,
    "start_time": "2022-10-27T19:29:17.620Z"
   },
   {
    "duration": 502,
    "start_time": "2022-10-27T19:29:18.137Z"
   },
   {
    "duration": 3,
    "start_time": "2022-10-27T19:29:18.641Z"
   },
   {
    "duration": 154,
    "start_time": "2022-10-27T19:29:18.646Z"
   },
   {
    "duration": 14,
    "start_time": "2022-10-27T19:32:11.049Z"
   },
   {
    "duration": 110,
    "start_time": "2022-10-27T19:32:56.790Z"
   },
   {
    "duration": 7,
    "start_time": "2022-10-27T19:33:03.185Z"
   },
   {
    "duration": 39,
    "start_time": "2022-10-27T19:33:24.556Z"
   },
   {
    "duration": 13,
    "start_time": "2022-10-27T19:33:25.008Z"
   },
   {
    "duration": 12,
    "start_time": "2022-10-27T19:33:25.977Z"
   },
   {
    "duration": 7,
    "start_time": "2022-10-27T19:33:29.609Z"
   },
   {
    "duration": 4,
    "start_time": "2022-10-27T19:34:10.078Z"
   },
   {
    "duration": 24,
    "start_time": "2022-10-27T19:34:18.517Z"
   },
   {
    "duration": 8,
    "start_time": "2022-10-27T19:35:05.337Z"
   },
   {
    "duration": 9,
    "start_time": "2022-10-27T19:35:06.054Z"
   },
   {
    "duration": 8,
    "start_time": "2022-10-27T19:35:12.618Z"
   },
   {
    "duration": 9,
    "start_time": "2022-10-27T19:35:19.459Z"
   },
   {
    "duration": 6,
    "start_time": "2022-10-27T19:35:24.338Z"
   },
   {
    "duration": 4,
    "start_time": "2022-10-27T19:37:29.416Z"
   },
   {
    "duration": 12,
    "start_time": "2022-10-27T19:37:31.796Z"
   },
   {
    "duration": 9,
    "start_time": "2022-10-27T19:37:34.916Z"
   },
   {
    "duration": 9,
    "start_time": "2022-10-27T19:37:37.186Z"
   },
   {
    "duration": 22,
    "start_time": "2022-10-27T19:37:38.948Z"
   },
   {
    "duration": 6,
    "start_time": "2022-10-27T19:37:41.903Z"
   },
   {
    "duration": 7,
    "start_time": "2022-10-27T19:37:44.283Z"
   },
   {
    "duration": 12,
    "start_time": "2022-10-27T19:37:46.385Z"
   },
   {
    "duration": 9,
    "start_time": "2022-10-27T19:37:49.471Z"
   },
   {
    "duration": 12,
    "start_time": "2022-10-27T19:37:53.666Z"
   },
   {
    "duration": 249,
    "start_time": "2022-10-27T19:37:56.412Z"
   },
   {
    "duration": 276,
    "start_time": "2022-10-27T19:38:21.043Z"
   },
   {
    "duration": 10,
    "start_time": "2022-10-27T19:39:03.998Z"
   },
   {
    "duration": 13,
    "start_time": "2022-10-27T19:39:10.282Z"
   },
   {
    "duration": 6,
    "start_time": "2022-10-27T19:39:15.039Z"
   },
   {
    "duration": 381,
    "start_time": "2022-10-27T19:39:19.311Z"
   },
   {
    "duration": 4,
    "start_time": "2022-10-27T19:39:23.061Z"
   },
   {
    "duration": 765,
    "start_time": "2022-10-27T19:39:27.361Z"
   },
   {
    "duration": 48,
    "start_time": "2022-10-27T19:39:29.391Z"
   },
   {
    "duration": 3,
    "start_time": "2022-10-27T19:39:30.436Z"
   },
   {
    "duration": 8,
    "start_time": "2022-10-27T19:39:36.697Z"
   },
   {
    "duration": 5,
    "start_time": "2022-10-27T19:39:41.331Z"
   },
   {
    "duration": 5,
    "start_time": "2022-10-27T19:39:41.715Z"
   },
   {
    "duration": 5,
    "start_time": "2022-10-27T19:39:59.002Z"
   },
   {
    "duration": 5,
    "start_time": "2022-10-27T19:40:10.907Z"
   },
   {
    "duration": 50,
    "start_time": "2022-10-27T19:43:44.188Z"
   },
   {
    "duration": 44,
    "start_time": "2022-10-27T19:44:12.488Z"
   },
   {
    "duration": 142,
    "start_time": "2022-10-27T19:45:14.435Z"
   },
   {
    "duration": 107,
    "start_time": "2022-10-27T19:46:47.485Z"
   },
   {
    "duration": 971,
    "start_time": "2022-10-27T19:46:51.172Z"
   },
   {
    "duration": 11,
    "start_time": "2022-10-27T19:52:27.022Z"
   },
   {
    "duration": 58,
    "start_time": "2022-10-27T19:52:39.171Z"
   },
   {
    "duration": 189,
    "start_time": "2022-10-27T19:53:07.242Z"
   },
   {
    "duration": 101,
    "start_time": "2022-10-27T19:54:02.385Z"
   },
   {
    "duration": 651,
    "start_time": "2022-10-27T19:54:13.129Z"
   },
   {
    "duration": 661,
    "start_time": "2022-10-27T19:55:13.216Z"
   },
   {
    "duration": 650,
    "start_time": "2022-10-27T19:56:36.926Z"
   },
   {
    "duration": 331,
    "start_time": "2022-10-27T19:56:40.899Z"
   },
   {
    "duration": 3,
    "start_time": "2022-10-27T19:57:16.084Z"
   },
   {
    "duration": 3,
    "start_time": "2022-10-27T19:57:20.978Z"
   },
   {
    "duration": 55630,
    "start_time": "2022-10-27T19:57:21.453Z"
   },
   {
    "duration": 3,
    "start_time": "2022-10-27T19:58:49.287Z"
   },
   {
    "duration": 141,
    "start_time": "2022-10-27T19:58:50.840Z"
   },
   {
    "duration": 4,
    "start_time": "2022-10-27T19:58:57.447Z"
   },
   {
    "duration": 193689,
    "start_time": "2022-10-27T19:58:58.984Z"
   },
   {
    "duration": 24837,
    "start_time": "2022-10-27T20:08:08.409Z"
   },
   {
    "duration": 24553,
    "start_time": "2022-10-27T20:12:44.455Z"
   },
   {
    "duration": 440564,
    "start_time": "2022-10-27T20:13:13.859Z"
   },
   {
    "duration": 72121,
    "start_time": "2022-10-27T20:20:55.053Z"
   },
   {
    "duration": 876,
    "start_time": "2022-10-27T20:22:24.115Z"
   },
   {
    "duration": 951,
    "start_time": "2022-10-27T20:22:30.149Z"
   },
   {
    "duration": 5,
    "start_time": "2022-10-27T20:22:36.941Z"
   },
   {
    "duration": 142,
    "start_time": "2022-10-27T20:22:38.026Z"
   },
   {
    "duration": 3,
    "start_time": "2022-10-27T20:32:15.412Z"
   },
   {
    "duration": 5,
    "start_time": "2022-10-27T20:32:55.409Z"
   },
   {
    "duration": 1599364,
    "start_time": "2022-10-27T20:33:59.256Z"
   },
   {
    "duration": 1465,
    "start_time": "2022-10-29T09:36:34.189Z"
   },
   {
    "duration": 165,
    "start_time": "2022-10-29T09:36:35.656Z"
   },
   {
    "duration": 16,
    "start_time": "2022-10-29T09:36:35.823Z"
   },
   {
    "duration": 12,
    "start_time": "2022-10-29T09:36:35.841Z"
   },
   {
    "duration": 5,
    "start_time": "2022-10-29T09:36:35.855Z"
   },
   {
    "duration": 6,
    "start_time": "2022-10-29T09:36:35.862Z"
   },
   {
    "duration": 24,
    "start_time": "2022-10-29T09:36:35.869Z"
   },
   {
    "duration": 15,
    "start_time": "2022-10-29T09:36:35.894Z"
   },
   {
    "duration": 9,
    "start_time": "2022-10-29T09:36:35.910Z"
   },
   {
    "duration": 8,
    "start_time": "2022-10-29T09:36:35.922Z"
   },
   {
    "duration": 8,
    "start_time": "2022-10-29T09:36:35.931Z"
   },
   {
    "duration": 6,
    "start_time": "2022-10-29T09:36:35.940Z"
   },
   {
    "duration": 123,
    "start_time": "2022-10-29T09:36:35.948Z"
   },
   {
    "duration": 0,
    "start_time": "2022-10-29T09:36:36.073Z"
   },
   {
    "duration": 0,
    "start_time": "2022-10-29T09:36:36.074Z"
   },
   {
    "duration": 0,
    "start_time": "2022-10-29T09:36:36.075Z"
   },
   {
    "duration": 0,
    "start_time": "2022-10-29T09:36:36.076Z"
   },
   {
    "duration": 0,
    "start_time": "2022-10-29T09:36:36.077Z"
   },
   {
    "duration": 0,
    "start_time": "2022-10-29T09:36:36.078Z"
   },
   {
    "duration": 0,
    "start_time": "2022-10-29T09:36:36.079Z"
   },
   {
    "duration": 0,
    "start_time": "2022-10-29T09:36:36.080Z"
   },
   {
    "duration": 0,
    "start_time": "2022-10-29T09:36:36.081Z"
   },
   {
    "duration": 0,
    "start_time": "2022-10-29T09:36:36.081Z"
   },
   {
    "duration": 0,
    "start_time": "2022-10-29T09:36:36.082Z"
   },
   {
    "duration": 0,
    "start_time": "2022-10-29T09:36:36.083Z"
   },
   {
    "duration": 0,
    "start_time": "2022-10-29T09:36:36.084Z"
   },
   {
    "duration": 0,
    "start_time": "2022-10-29T09:36:36.085Z"
   },
   {
    "duration": 0,
    "start_time": "2022-10-29T09:36:36.105Z"
   },
   {
    "duration": 0,
    "start_time": "2022-10-29T09:36:36.106Z"
   },
   {
    "duration": 0,
    "start_time": "2022-10-29T09:36:36.107Z"
   },
   {
    "duration": 0,
    "start_time": "2022-10-29T09:36:36.108Z"
   },
   {
    "duration": 0,
    "start_time": "2022-10-29T09:36:36.109Z"
   },
   {
    "duration": 0,
    "start_time": "2022-10-29T09:36:36.110Z"
   },
   {
    "duration": 0,
    "start_time": "2022-10-29T09:36:36.111Z"
   },
   {
    "duration": 0,
    "start_time": "2022-10-29T09:36:36.111Z"
   },
   {
    "duration": 0,
    "start_time": "2022-10-29T09:36:36.112Z"
   },
   {
    "duration": 0,
    "start_time": "2022-10-29T09:36:36.113Z"
   },
   {
    "duration": 0,
    "start_time": "2022-10-29T09:36:36.114Z"
   },
   {
    "duration": 0,
    "start_time": "2022-10-29T09:36:36.115Z"
   },
   {
    "duration": 0,
    "start_time": "2022-10-29T09:36:36.116Z"
   },
   {
    "duration": 0,
    "start_time": "2022-10-29T09:36:36.116Z"
   },
   {
    "duration": 0,
    "start_time": "2022-10-29T09:36:36.118Z"
   },
   {
    "duration": 0,
    "start_time": "2022-10-29T09:36:36.118Z"
   },
   {
    "duration": 0,
    "start_time": "2022-10-29T09:36:36.119Z"
   },
   {
    "duration": 0,
    "start_time": "2022-10-29T09:36:36.120Z"
   },
   {
    "duration": 0,
    "start_time": "2022-10-29T09:36:36.121Z"
   },
   {
    "duration": 0,
    "start_time": "2022-10-29T09:36:36.122Z"
   },
   {
    "duration": 0,
    "start_time": "2022-10-29T09:36:36.123Z"
   },
   {
    "duration": 0,
    "start_time": "2022-10-29T09:36:36.124Z"
   },
   {
    "duration": 0,
    "start_time": "2022-10-29T09:36:36.124Z"
   },
   {
    "duration": 0,
    "start_time": "2022-10-29T09:36:36.125Z"
   },
   {
    "duration": 0,
    "start_time": "2022-10-29T09:36:36.126Z"
   },
   {
    "duration": 0,
    "start_time": "2022-10-29T09:36:36.127Z"
   },
   {
    "duration": 0,
    "start_time": "2022-10-29T09:36:36.128Z"
   },
   {
    "duration": 0,
    "start_time": "2022-10-29T09:36:36.128Z"
   },
   {
    "duration": 0,
    "start_time": "2022-10-29T09:36:36.129Z"
   },
   {
    "duration": 0,
    "start_time": "2022-10-29T09:36:36.130Z"
   },
   {
    "duration": 0,
    "start_time": "2022-10-29T09:36:36.131Z"
   },
   {
    "duration": 0,
    "start_time": "2022-10-29T09:36:36.131Z"
   },
   {
    "duration": 0,
    "start_time": "2022-10-29T09:36:36.132Z"
   },
   {
    "duration": 9,
    "start_time": "2022-10-29T09:36:36.668Z"
   },
   {
    "duration": 0,
    "start_time": "2022-10-29T09:36:36.678Z"
   },
   {
    "duration": 4,
    "start_time": "2022-10-29T09:37:13.988Z"
   },
   {
    "duration": 53,
    "start_time": "2022-10-29T09:37:13.995Z"
   },
   {
    "duration": 12,
    "start_time": "2022-10-29T09:37:14.050Z"
   },
   {
    "duration": 17,
    "start_time": "2022-10-29T09:37:14.063Z"
   },
   {
    "duration": 6,
    "start_time": "2022-10-29T09:37:14.082Z"
   },
   {
    "duration": 6,
    "start_time": "2022-10-29T09:37:14.089Z"
   },
   {
    "duration": 21,
    "start_time": "2022-10-29T09:37:14.168Z"
   },
   {
    "duration": 7,
    "start_time": "2022-10-29T09:37:14.191Z"
   },
   {
    "duration": 11,
    "start_time": "2022-10-29T09:37:14.199Z"
   },
   {
    "duration": 8,
    "start_time": "2022-10-29T09:37:14.212Z"
   },
   {
    "duration": 12,
    "start_time": "2022-10-29T09:37:14.222Z"
   },
   {
    "duration": 6,
    "start_time": "2022-10-29T09:37:14.243Z"
   },
   {
    "duration": 28,
    "start_time": "2022-10-29T09:37:14.251Z"
   },
   {
    "duration": 0,
    "start_time": "2022-10-29T09:37:14.281Z"
   },
   {
    "duration": 0,
    "start_time": "2022-10-29T09:37:14.282Z"
   },
   {
    "duration": 0,
    "start_time": "2022-10-29T09:37:14.283Z"
   },
   {
    "duration": 0,
    "start_time": "2022-10-29T09:37:14.285Z"
   },
   {
    "duration": 20,
    "start_time": "2022-10-29T09:37:14.327Z"
   },
   {
    "duration": 4,
    "start_time": "2022-10-29T09:37:14.349Z"
   },
   {
    "duration": 8,
    "start_time": "2022-10-29T09:37:14.355Z"
   },
   {
    "duration": 17,
    "start_time": "2022-10-29T09:37:14.364Z"
   },
   {
    "duration": 6,
    "start_time": "2022-10-29T09:37:14.383Z"
   },
   {
    "duration": 11,
    "start_time": "2022-10-29T09:37:14.391Z"
   },
   {
    "duration": 250,
    "start_time": "2022-10-29T09:37:14.408Z"
   },
   {
    "duration": 11,
    "start_time": "2022-10-29T09:37:14.661Z"
   },
   {
    "duration": 312,
    "start_time": "2022-10-29T09:37:14.674Z"
   },
   {
    "duration": 254,
    "start_time": "2022-10-29T09:37:14.988Z"
   },
   {
    "duration": 4,
    "start_time": "2022-10-29T09:37:15.245Z"
   },
   {
    "duration": 14,
    "start_time": "2022-10-29T09:37:15.251Z"
   },
   {
    "duration": 9,
    "start_time": "2022-10-29T09:37:15.266Z"
   },
   {
    "duration": 52,
    "start_time": "2022-10-29T09:37:15.277Z"
   },
   {
    "duration": 4,
    "start_time": "2022-10-29T09:37:15.331Z"
   },
   {
    "duration": 19,
    "start_time": "2022-10-29T09:37:15.337Z"
   },
   {
    "duration": 0,
    "start_time": "2022-10-29T09:37:15.359Z"
   },
   {
    "duration": 1,
    "start_time": "2022-10-29T09:37:15.360Z"
   },
   {
    "duration": 0,
    "start_time": "2022-10-29T09:37:15.362Z"
   },
   {
    "duration": 0,
    "start_time": "2022-10-29T09:37:15.363Z"
   },
   {
    "duration": 0,
    "start_time": "2022-10-29T09:37:15.365Z"
   },
   {
    "duration": 0,
    "start_time": "2022-10-29T09:37:15.366Z"
   },
   {
    "duration": 0,
    "start_time": "2022-10-29T09:37:15.367Z"
   },
   {
    "duration": 0,
    "start_time": "2022-10-29T09:37:15.369Z"
   },
   {
    "duration": 0,
    "start_time": "2022-10-29T09:37:15.370Z"
   },
   {
    "duration": 0,
    "start_time": "2022-10-29T09:37:15.371Z"
   },
   {
    "duration": 0,
    "start_time": "2022-10-29T09:37:15.405Z"
   },
   {
    "duration": 0,
    "start_time": "2022-10-29T09:37:15.406Z"
   },
   {
    "duration": 0,
    "start_time": "2022-10-29T09:37:15.407Z"
   },
   {
    "duration": 0,
    "start_time": "2022-10-29T09:37:15.408Z"
   },
   {
    "duration": 0,
    "start_time": "2022-10-29T09:37:15.409Z"
   },
   {
    "duration": 0,
    "start_time": "2022-10-29T09:37:15.409Z"
   },
   {
    "duration": 0,
    "start_time": "2022-10-29T09:37:15.410Z"
   },
   {
    "duration": 0,
    "start_time": "2022-10-29T09:37:15.411Z"
   },
   {
    "duration": 0,
    "start_time": "2022-10-29T09:37:15.412Z"
   },
   {
    "duration": 0,
    "start_time": "2022-10-29T09:37:15.413Z"
   },
   {
    "duration": 0,
    "start_time": "2022-10-29T09:37:15.413Z"
   },
   {
    "duration": 0,
    "start_time": "2022-10-29T09:37:15.415Z"
   },
   {
    "duration": 0,
    "start_time": "2022-10-29T09:37:15.416Z"
   },
   {
    "duration": 0,
    "start_time": "2022-10-29T09:37:15.416Z"
   },
   {
    "duration": 0,
    "start_time": "2022-10-29T09:37:15.417Z"
   },
   {
    "duration": 0,
    "start_time": "2022-10-29T09:37:15.418Z"
   },
   {
    "duration": 0,
    "start_time": "2022-10-29T09:37:15.418Z"
   },
   {
    "duration": 0,
    "start_time": "2022-10-29T09:37:15.419Z"
   },
   {
    "duration": 0,
    "start_time": "2022-10-29T09:37:15.420Z"
   },
   {
    "duration": 10,
    "start_time": "2022-10-29T09:38:08.745Z"
   },
   {
    "duration": 11,
    "start_time": "2022-10-29T09:38:12.338Z"
   },
   {
    "duration": 1193,
    "start_time": "2022-10-29T09:38:16.222Z"
   },
   {
    "duration": 0,
    "start_time": "2022-10-29T09:38:17.417Z"
   },
   {
    "duration": 18,
    "start_time": "2022-10-29T09:38:17.830Z"
   },
   {
    "duration": 1191,
    "start_time": "2022-10-29T09:38:18.931Z"
   },
   {
    "duration": 0,
    "start_time": "2022-10-29T09:38:20.124Z"
   },
   {
    "duration": 12,
    "start_time": "2022-10-29T09:38:21.435Z"
   },
   {
    "duration": 1238,
    "start_time": "2022-10-29T09:38:31.022Z"
   },
   {
    "duration": 5,
    "start_time": "2022-10-29T09:38:41.658Z"
   },
   {
    "duration": 40,
    "start_time": "2022-10-29T09:38:42.700Z"
   },
   {
    "duration": 12,
    "start_time": "2022-10-29T09:38:43.628Z"
   },
   {
    "duration": 12,
    "start_time": "2022-10-29T09:38:46.353Z"
   },
   {
    "duration": 7,
    "start_time": "2022-10-29T09:38:47.503Z"
   },
   {
    "duration": 4,
    "start_time": "2022-10-29T09:38:50.301Z"
   },
   {
    "duration": 20,
    "start_time": "2022-10-29T09:38:51.532Z"
   },
   {
    "duration": 8,
    "start_time": "2022-10-29T09:38:52.076Z"
   },
   {
    "duration": 8,
    "start_time": "2022-10-29T09:38:53.382Z"
   },
   {
    "duration": 8,
    "start_time": "2022-10-29T09:38:54.310Z"
   },
   {
    "duration": 8,
    "start_time": "2022-10-29T09:38:56.655Z"
   },
   {
    "duration": 5,
    "start_time": "2022-10-29T09:38:57.056Z"
   },
   {
    "duration": 9,
    "start_time": "2022-10-29T09:39:01.459Z"
   },
   {
    "duration": 7,
    "start_time": "2022-10-29T09:39:11.385Z"
   },
   {
    "duration": 4,
    "start_time": "2022-10-29T09:39:14.694Z"
   },
   {
    "duration": 12,
    "start_time": "2022-10-29T09:39:15.778Z"
   },
   {
    "duration": 8,
    "start_time": "2022-10-29T09:39:19.783Z"
   },
   {
    "duration": 8,
    "start_time": "2022-10-29T09:39:20.899Z"
   },
   {
    "duration": 21,
    "start_time": "2022-10-29T09:39:23.231Z"
   },
   {
    "duration": 5,
    "start_time": "2022-10-29T09:39:25.738Z"
   },
   {
    "duration": 6,
    "start_time": "2022-10-29T09:39:27.278Z"
   },
   {
    "duration": 11,
    "start_time": "2022-10-29T09:39:28.546Z"
   },
   {
    "duration": 10,
    "start_time": "2022-10-29T09:39:30.691Z"
   },
   {
    "duration": 16,
    "start_time": "2022-10-29T09:39:32.553Z"
   },
   {
    "duration": 228,
    "start_time": "2022-10-29T09:39:35.136Z"
   },
   {
    "duration": 10,
    "start_time": "2022-10-29T09:39:49.812Z"
   },
   {
    "duration": 244,
    "start_time": "2022-10-29T09:39:52.633Z"
   },
   {
    "duration": 241,
    "start_time": "2022-10-29T09:39:54.139Z"
   },
   {
    "duration": 5,
    "start_time": "2022-10-29T09:39:57.822Z"
   },
   {
    "duration": 11,
    "start_time": "2022-10-29T09:39:58.836Z"
   },
   {
    "duration": 1294,
    "start_time": "2022-10-29T09:40:21.137Z"
   },
   {
    "duration": 1416,
    "start_time": "2022-10-29T09:40:26.025Z"
   },
   {
    "duration": 1413,
    "start_time": "2022-10-29T09:40:54.574Z"
   },
   {
    "duration": 12,
    "start_time": "2022-10-29T09:41:01.762Z"
   },
   {
    "duration": 10,
    "start_time": "2022-10-29T09:41:14.891Z"
   },
   {
    "duration": 39,
    "start_time": "2022-10-29T09:41:27.644Z"
   },
   {
    "duration": 13,
    "start_time": "2022-10-29T09:41:28.812Z"
   },
   {
    "duration": 4,
    "start_time": "2022-10-29T09:43:52.582Z"
   },
   {
    "duration": 38,
    "start_time": "2022-10-29T09:43:52.887Z"
   },
   {
    "duration": 10,
    "start_time": "2022-10-29T09:43:52.927Z"
   },
   {
    "duration": 12,
    "start_time": "2022-10-29T09:43:52.938Z"
   },
   {
    "duration": 5,
    "start_time": "2022-10-29T09:43:52.952Z"
   },
   {
    "duration": 6,
    "start_time": "2022-10-29T09:43:52.959Z"
   },
   {
    "duration": 20,
    "start_time": "2022-10-29T09:43:52.966Z"
   },
   {
    "duration": 7,
    "start_time": "2022-10-29T09:43:53.005Z"
   },
   {
    "duration": 7,
    "start_time": "2022-10-29T09:43:53.014Z"
   },
   {
    "duration": 8,
    "start_time": "2022-10-29T09:43:53.023Z"
   },
   {
    "duration": 8,
    "start_time": "2022-10-29T09:43:53.033Z"
   },
   {
    "duration": 5,
    "start_time": "2022-10-29T09:43:53.042Z"
   },
   {
    "duration": 8,
    "start_time": "2022-10-29T09:43:53.048Z"
   },
   {
    "duration": 4,
    "start_time": "2022-10-29T09:43:53.058Z"
   },
   {
    "duration": 10,
    "start_time": "2022-10-29T09:43:53.065Z"
   },
   {
    "duration": 7,
    "start_time": "2022-10-29T09:43:53.105Z"
   },
   {
    "duration": 6,
    "start_time": "2022-10-29T09:43:53.114Z"
   },
   {
    "duration": 29,
    "start_time": "2022-10-29T09:43:53.122Z"
   },
   {
    "duration": 7,
    "start_time": "2022-10-29T09:43:53.155Z"
   },
   {
    "duration": 6,
    "start_time": "2022-10-29T09:43:53.164Z"
   },
   {
    "duration": 12,
    "start_time": "2022-10-29T09:43:53.171Z"
   },
   {
    "duration": 25,
    "start_time": "2022-10-29T09:43:53.184Z"
   },
   {
    "duration": 13,
    "start_time": "2022-10-29T09:43:53.210Z"
   },
   {
    "duration": 238,
    "start_time": "2022-10-29T09:43:53.224Z"
   },
   {
    "duration": 10,
    "start_time": "2022-10-29T09:43:53.464Z"
   },
   {
    "duration": 234,
    "start_time": "2022-10-29T09:43:53.475Z"
   },
   {
    "duration": 224,
    "start_time": "2022-10-29T09:43:53.711Z"
   },
   {
    "duration": 4,
    "start_time": "2022-10-29T09:43:53.936Z"
   },
   {
    "duration": 13,
    "start_time": "2022-10-29T09:43:53.941Z"
   },
   {
    "duration": 7,
    "start_time": "2022-10-29T09:43:53.956Z"
   },
   {
    "duration": 52,
    "start_time": "2022-10-29T09:43:53.964Z"
   },
   {
    "duration": 4,
    "start_time": "2022-10-29T09:43:54.017Z"
   },
   {
    "duration": 31,
    "start_time": "2022-10-29T09:43:54.022Z"
   },
   {
    "duration": 4,
    "start_time": "2022-10-29T09:43:54.055Z"
   },
   {
    "duration": 4,
    "start_time": "2022-10-29T09:43:54.061Z"
   },
   {
    "duration": 10,
    "start_time": "2022-10-29T09:43:54.066Z"
   },
   {
    "duration": 29,
    "start_time": "2022-10-29T09:43:54.077Z"
   },
   {
    "duration": 5,
    "start_time": "2022-10-29T09:43:54.107Z"
   },
   {
    "duration": 5,
    "start_time": "2022-10-29T09:43:54.113Z"
   },
   {
    "duration": 5,
    "start_time": "2022-10-29T09:43:54.119Z"
   },
   {
    "duration": 7,
    "start_time": "2022-10-29T09:43:54.125Z"
   },
   {
    "duration": 153,
    "start_time": "2022-10-29T09:43:54.135Z"
   },
   {
    "duration": 16,
    "start_time": "2022-10-29T09:43:54.290Z"
   },
   {
    "duration": 36,
    "start_time": "2022-10-29T09:43:54.307Z"
   },
   {
    "duration": 140,
    "start_time": "2022-10-29T09:43:54.344Z"
   },
   {
    "duration": 120,
    "start_time": "2022-10-29T09:43:54.486Z"
   },
   {
    "duration": 406,
    "start_time": "2022-10-29T09:43:54.608Z"
   },
   {
    "duration": 10,
    "start_time": "2022-10-29T09:43:55.015Z"
   },
   {
    "duration": 0,
    "start_time": "2022-10-29T09:43:55.027Z"
   },
   {
    "duration": 0,
    "start_time": "2022-10-29T09:43:55.028Z"
   },
   {
    "duration": 0,
    "start_time": "2022-10-29T09:43:55.029Z"
   },
   {
    "duration": 0,
    "start_time": "2022-10-29T09:43:55.030Z"
   },
   {
    "duration": 0,
    "start_time": "2022-10-29T09:43:55.031Z"
   },
   {
    "duration": 0,
    "start_time": "2022-10-29T09:43:55.031Z"
   },
   {
    "duration": 0,
    "start_time": "2022-10-29T09:43:55.032Z"
   },
   {
    "duration": 0,
    "start_time": "2022-10-29T09:43:55.033Z"
   },
   {
    "duration": 0,
    "start_time": "2022-10-29T09:43:55.034Z"
   },
   {
    "duration": 0,
    "start_time": "2022-10-29T09:43:55.035Z"
   },
   {
    "duration": 0,
    "start_time": "2022-10-29T09:43:55.036Z"
   },
   {
    "duration": 0,
    "start_time": "2022-10-29T09:43:55.037Z"
   },
   {
    "duration": 0,
    "start_time": "2022-10-29T09:43:55.038Z"
   },
   {
    "duration": 0,
    "start_time": "2022-10-29T09:43:55.039Z"
   },
   {
    "duration": 4,
    "start_time": "2022-10-29T09:44:21.091Z"
   },
   {
    "duration": 38,
    "start_time": "2022-10-29T09:44:22.858Z"
   },
   {
    "duration": 12,
    "start_time": "2022-10-29T09:44:23.593Z"
   },
   {
    "duration": 11,
    "start_time": "2022-10-29T09:44:25.667Z"
   },
   {
    "duration": 6,
    "start_time": "2022-10-29T09:44:29.195Z"
   },
   {
    "duration": 4,
    "start_time": "2022-10-29T09:44:33.054Z"
   },
   {
    "duration": 22,
    "start_time": "2022-10-29T09:44:34.796Z"
   },
   {
    "duration": 7,
    "start_time": "2022-10-29T09:44:41.155Z"
   },
   {
    "duration": 9,
    "start_time": "2022-10-29T09:44:42.013Z"
   },
   {
    "duration": 8,
    "start_time": "2022-10-29T09:44:44.326Z"
   },
   {
    "duration": 8,
    "start_time": "2022-10-29T09:44:45.889Z"
   },
   {
    "duration": 5,
    "start_time": "2022-10-29T09:44:48.356Z"
   },
   {
    "duration": 6,
    "start_time": "2022-10-29T09:44:54.291Z"
   },
   {
    "duration": 4,
    "start_time": "2022-10-29T09:45:02.466Z"
   },
   {
    "duration": 12,
    "start_time": "2022-10-29T09:45:03.120Z"
   },
   {
    "duration": 10,
    "start_time": "2022-10-29T09:45:05.921Z"
   },
   {
    "duration": 8,
    "start_time": "2022-10-29T09:45:09.851Z"
   },
   {
    "duration": 19,
    "start_time": "2022-10-29T09:45:12.413Z"
   },
   {
    "duration": 6,
    "start_time": "2022-10-29T09:45:14.598Z"
   },
   {
    "duration": 7,
    "start_time": "2022-10-29T09:45:17.356Z"
   },
   {
    "duration": 10,
    "start_time": "2022-10-29T09:45:20.762Z"
   },
   {
    "duration": 8,
    "start_time": "2022-10-29T09:45:23.366Z"
   },
   {
    "duration": 11,
    "start_time": "2022-10-29T09:45:26.785Z"
   },
   {
    "duration": 249,
    "start_time": "2022-10-29T09:45:29.998Z"
   },
   {
    "duration": 11,
    "start_time": "2022-10-29T09:45:34.358Z"
   },
   {
    "duration": 238,
    "start_time": "2022-10-29T09:45:38.527Z"
   },
   {
    "duration": 245,
    "start_time": "2022-10-29T09:45:42.802Z"
   },
   {
    "duration": 3,
    "start_time": "2022-10-29T09:45:46.815Z"
   },
   {
    "duration": 11,
    "start_time": "2022-10-29T09:45:49.901Z"
   },
   {
    "duration": 5,
    "start_time": "2022-10-29T09:45:56.070Z"
   },
   {
    "duration": 43,
    "start_time": "2022-10-29T09:46:07.358Z"
   },
   {
    "duration": 4,
    "start_time": "2022-10-29T09:46:11.407Z"
   },
   {
    "duration": 29,
    "start_time": "2022-10-29T09:46:18.157Z"
   },
   {
    "duration": 6,
    "start_time": "2022-10-29T09:46:19.366Z"
   },
   {
    "duration": 3,
    "start_time": "2022-10-29T09:46:20.770Z"
   },
   {
    "duration": 8,
    "start_time": "2022-10-29T09:46:23.716Z"
   },
   {
    "duration": 5,
    "start_time": "2022-10-29T09:46:28.572Z"
   },
   {
    "duration": 5,
    "start_time": "2022-10-29T09:46:30.567Z"
   },
   {
    "duration": 5,
    "start_time": "2022-10-29T09:46:31.968Z"
   },
   {
    "duration": 5,
    "start_time": "2022-10-29T09:46:35.600Z"
   },
   {
    "duration": 7,
    "start_time": "2022-10-29T09:46:53.365Z"
   },
   {
    "duration": 132,
    "start_time": "2022-10-29T09:46:57.473Z"
   },
   {
    "duration": 9,
    "start_time": "2022-10-29T09:47:04.686Z"
   },
   {
    "duration": 37,
    "start_time": "2022-10-29T09:47:07.992Z"
   },
   {
    "duration": 131,
    "start_time": "2022-10-29T09:47:18.719Z"
   },
   {
    "duration": 26,
    "start_time": "2022-10-29T09:47:23.860Z"
   },
   {
    "duration": 267,
    "start_time": "2022-10-29T09:47:31.954Z"
   },
   {
    "duration": 8,
    "start_time": "2022-10-29T09:47:38.285Z"
   },
   {
    "duration": 4,
    "start_time": "2022-10-29T09:47:56.258Z"
   },
   {
    "duration": 2,
    "start_time": "2022-10-29T09:47:59.820Z"
   },
   {
    "duration": 8000,
    "start_time": "2022-10-29T09:48:00.206Z"
   },
   {
    "duration": 4,
    "start_time": "2022-10-29T09:48:08.208Z"
   },
   {
    "duration": 8,
    "start_time": "2022-10-29T09:49:14.606Z"
   },
   {
    "duration": 246,
    "start_time": "2022-10-29T09:50:16.069Z"
   },
   {
    "duration": 3,
    "start_time": "2022-10-29T09:51:45.654Z"
   },
   {
    "duration": 9314,
    "start_time": "2022-10-29T09:51:47.509Z"
   },
   {
    "duration": 174,
    "start_time": "2022-10-29T09:52:17.284Z"
   },
   {
    "duration": 7689,
    "start_time": "2022-10-29T09:52:53.976Z"
   },
   {
    "duration": 48947,
    "start_time": "2022-10-29T09:53:11.019Z"
   },
   {
    "duration": 6503,
    "start_time": "2022-10-29T09:56:21.270Z"
   },
   {
    "duration": 2760678,
    "start_time": "2022-10-29T09:56:40.670Z"
   },
   {
    "duration": 2,
    "start_time": "2022-10-29T10:42:48.671Z"
   },
   {
    "duration": 402,
    "start_time": "2022-10-29T10:42:57.292Z"
   },
   {
    "duration": 427,
    "start_time": "2022-10-29T10:43:21.543Z"
   },
   {
    "duration": 5,
    "start_time": "2022-10-29T10:43:25.219Z"
   },
   {
    "duration": 129,
    "start_time": "2022-10-29T10:43:25.877Z"
   },
   {
    "duration": 27,
    "start_time": "2022-10-29T10:49:47.182Z"
   },
   {
    "duration": 8,
    "start_time": "2022-10-29T10:50:02.327Z"
   },
   {
    "duration": 247,
    "start_time": "2022-10-29T10:50:30.600Z"
   },
   {
    "duration": 26,
    "start_time": "2022-10-29T10:53:32.088Z"
   },
   {
    "duration": 11,
    "start_time": "2022-10-29T10:53:38.258Z"
   }
  ],
  "kernelspec": {
   "display_name": "Python 3",
   "language": "python",
   "name": "python3"
  },
  "language_info": {
   "codemirror_mode": {
    "name": "ipython",
    "version": 3
   },
   "file_extension": ".py",
   "mimetype": "text/x-python",
   "name": "python",
   "nbconvert_exporter": "python",
   "pygments_lexer": "ipython3",
   "version": "3.8.3"
  },
  "toc": {
   "base_numbering": 1,
   "nav_menu": {},
   "number_sections": true,
   "sideBar": true,
   "skip_h1_title": true,
   "title_cell": "Содержание",
   "title_sidebar": "Contents",
   "toc_cell": true,
   "toc_position": {
    "height": "calc(100% - 180px)",
    "left": "10px",
    "top": "150px",
    "width": "165px"
   },
   "toc_section_display": true,
   "toc_window_display": true
  }
 },
 "nbformat": 4,
 "nbformat_minor": 2
}
